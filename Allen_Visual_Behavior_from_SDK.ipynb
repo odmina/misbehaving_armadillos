{
  "nbformat": 4,
  "nbformat_minor": 0,
  "metadata": {
    "colab": {
      "name": "Allen Visual Behavior from SDK.ipynb",
      "provenance": [],
      "collapsed_sections": [],
      "include_colab_link": true
    },
    "kernelspec": {
      "name": "python3",
      "display_name": "Python 3"
    },
    "language_info": {
      "name": "python"
    }
  },
  "cells": [
    {
      "cell_type": "markdown",
      "metadata": {
        "id": "view-in-github",
        "colab_type": "text"
      },
      "source": [
        "<a href=\"https://colab.research.google.com/github/odmina/misbehaving_armadillos/blob/main/Allen_Visual_Behavior_from_SDK.ipynb\" target=\"_parent\"><img src=\"https://colab.research.google.com/assets/colab-badge.svg\" alt=\"Open In Colab\"/></a>"
      ]
    },
    {
      "cell_type": "markdown",
      "metadata": {
        "id": "I1CeSqXjhY2k"
      },
      "source": [
        "# **Overview**\n",
        "The following notebook demonstrates how to load neural data for all imaging planes in one 2-photon imaging session into a single 'tidy' dataframe, make  simple event-triggered plots, and do some basic analysis using scikit-learn.\n",
        "\n",
        "This is designed to demonstrate a simple method for interacting with the visual behavior data. Many aspects of the dataset are not explored here."
      ]
    },
    {
      "cell_type": "markdown",
      "metadata": {
        "id": "aT9844s2hkvw"
      },
      "source": [
        "# Set up environment and import packages"
      ]
    },
    {
      "cell_type": "markdown",
      "metadata": {
        "id": "00Maa0v-hvoD"
      },
      "source": [
        "We have built a package called `mindscope_utilities` which contains some useful convenience functions. The `allenSDK` is a dependency of this package and will be automatically installed when you install `mindscope_utilities` per the instrutions below.\n",
        "\n",
        "We will first install `mindscope_utilities` into our colab environment by running the commands below. When this cell is complete, click on the `RESTART RUNTIME` button that appears at the end of the output. Note that running this cell will produce a long list of outputs and some error messages. Clicking `RESTART RUNTIME` at the end will resolve these issues. \n",
        "\n",
        "You can minimize the cell after you are done to hide the output. "
      ]
    },
    {
      "cell_type": "markdown",
      "metadata": {
        "id": "PPF6qq5jLmNL"
      },
      "source": [
        "#### Install necessary packages"
      ]
    },
    {
      "cell_type": "code",
      "metadata": {
        "id": "1Xm2F5-0aIN2",
        "colab": {
          "base_uri": "https://localhost:8080/",
          "height": 1000
        },
        "outputId": "35d9ea17-ceef-4270-e9a8-4abd0fede1b9"
      },
      "source": [
        "!python -m pip install --upgrade pip\n",
        "!pip install mindscope_utilities --upgrade"
      ],
      "execution_count": null,
      "outputs": [
        {
          "output_type": "stream",
          "text": [
            "Collecting pip\n",
            "\u001b[?25l  Downloading https://files.pythonhosted.org/packages/47/ca/f0d790b6e18b3a6f3bd5e80c2ee4edbb5807286c21cdd0862ca933f751dd/pip-21.1.3-py3-none-any.whl (1.5MB)\n",
            "\u001b[K     |████████████████████████████████| 1.6MB 14.0MB/s \n",
            "\u001b[?25hInstalling collected packages: pip\n",
            "  Found existing installation: pip 19.3.1\n",
            "    Uninstalling pip-19.3.1:\n",
            "      Successfully uninstalled pip-19.3.1\n",
            "Successfully installed pip-21.1.3\n",
            "Collecting mindscope_utilities\n",
            "  Downloading mindscope_utilities-0.1.6.tar.gz (6.1 kB)\n",
            "Collecting flake8\n",
            "  Downloading flake8-3.9.2-py2.py3-none-any.whl (73 kB)\n",
            "\u001b[K     |████████████████████████████████| 73 kB 1.7 MB/s \n",
            "\u001b[?25hRequirement already satisfied: pytest in /usr/local/lib/python3.7/dist-packages (from mindscope_utilities) (3.6.4)\n",
            "Collecting allensdk==2.11.2\n",
            "  Downloading allensdk-2.11.2-py3-none-any.whl (1.7 MB)\n",
            "\u001b[K     |████████████████████████████████| 1.7 MB 22.3 MB/s \n",
            "\u001b[?25hCollecting tables<4.0.0,>=3.6.0\n",
            "  Downloading tables-3.6.1-cp37-cp37m-manylinux1_x86_64.whl (4.3 MB)\n",
            "\u001b[K     |████████████████████████████████| 4.3 MB 58.5 MB/s \n",
            "\u001b[?25hCollecting numpy<1.19.0,>=1.15.4\n",
            "  Downloading numpy-1.18.5-cp37-cp37m-manylinux1_x86_64.whl (20.1 MB)\n",
            "\u001b[K     |████████████████████████████████| 20.1 MB 1.5 MB/s \n",
            "\u001b[?25hCollecting psycopg2-binary<3.0.0,>=2.7\n",
            "  Downloading psycopg2_binary-2.9.1-cp37-cp37m-manylinux_2_17_x86_64.manylinux2014_x86_64.whl (3.4 MB)\n",
            "\u001b[K     |████████████████████████████████| 3.4 MB 36.1 MB/s \n",
            "\u001b[?25hCollecting hdmf<2.5.0\n",
            "  Downloading hdmf-2.4.0-py2.py3-none-any.whl (149 kB)\n",
            "\u001b[K     |████████████████████████████████| 149 kB 45.2 MB/s \n",
            "\u001b[?25hCollecting glymur==0.8.19\n",
            "  Downloading Glymur-0.8.19.tar.gz (3.4 MB)\n",
            "\u001b[K     |████████████████████████████████| 3.4 MB 38.6 MB/s \n",
            "\u001b[?25hRequirement already satisfied: jinja2<2.12.0,>=2.7.3 in /usr/local/lib/python3.7/dist-packages (from allensdk==2.11.2->mindscope_utilities) (2.11.3)\n",
            "Collecting nest-asyncio==1.2.0\n",
            "  Downloading nest_asyncio-1.2.0-py3-none-any.whl (4.5 kB)\n",
            "Requirement already satisfied: six<2.0.0,>=1.9.0 in /usr/local/lib/python3.7/dist-packages (from allensdk==2.11.2->mindscope_utilities) (1.15.0)\n",
            "Collecting pynrrd<1.0.0,>=0.2.1\n",
            "  Downloading pynrrd-0.4.2-py2.py3-none-any.whl (18 kB)\n",
            "Collecting xarray<0.16.0\n",
            "  Downloading xarray-0.15.1-py3-none-any.whl (668 kB)\n",
            "\u001b[K     |████████████████████████████████| 668 kB 47.2 MB/s \n",
            "\u001b[?25hCollecting pandas<=0.25.3,>=0.25.1\n",
            "  Downloading pandas-0.25.3-cp37-cp37m-manylinux1_x86_64.whl (10.4 MB)\n",
            "\u001b[K     |████████████████████████████████| 10.4 MB 18.3 MB/s \n",
            "\u001b[?25hCollecting requests-toolbelt<1.0.0\n",
            "  Downloading requests_toolbelt-0.9.1-py2.py3-none-any.whl (54 kB)\n",
            "\u001b[K     |████████████████████████████████| 54 kB 2.3 MB/s \n",
            "\u001b[?25hCollecting scikit-build<1.0.0\n",
            "  Downloading scikit_build-0.11.1-py2.py3-none-any.whl (72 kB)\n",
            "\u001b[K     |████████████████████████████████| 72 kB 994 kB/s \n",
            "\u001b[?25hCollecting ndx-events<=0.2.0\n",
            "  Downloading ndx_events-0.2.0-py2.py3-none-any.whl (13 kB)\n",
            "Requirement already satisfied: future<1.0.0,>=0.14.3 in /usr/local/lib/python3.7/dist-packages (from allensdk==2.11.2->mindscope_utilities) (0.16.0)\n",
            "Collecting simplejson<4.0.0,>=3.10.0\n",
            "  Downloading simplejson-3.17.2-cp37-cp37m-manylinux2010_x86_64.whl (128 kB)\n",
            "\u001b[K     |████████████████████████████████| 128 kB 72.1 MB/s \n",
            "\u001b[?25hRequirement already satisfied: seaborn<1.0.0 in /usr/local/lib/python3.7/dist-packages (from allensdk==2.11.2->mindscope_utilities) (0.11.1)\n",
            "Requirement already satisfied: scipy<2.0.0,>=1.4.0 in /usr/local/lib/python3.7/dist-packages (from allensdk==2.11.2->mindscope_utilities) (1.4.1)\n",
            "Requirement already satisfied: requests<3.0.0 in /usr/local/lib/python3.7/dist-packages (from allensdk==2.11.2->mindscope_utilities) (2.23.0)\n",
            "Collecting h5py<3.0.0,>=2.8\n",
            "  Downloading h5py-2.10.0-cp37-cp37m-manylinux1_x86_64.whl (2.9 MB)\n",
            "\u001b[K     |████████████████████████████████| 2.9 MB 46.7 MB/s \n",
            "\u001b[?25hCollecting pynwb<2.0.0,>=1.3.2\n",
            "  Downloading pynwb-1.5.1-py2.py3-none-any.whl (98 kB)\n",
            "\u001b[K     |████████████████████████████████| 98 kB 8.9 MB/s \n",
            "\u001b[?25hCollecting argschema<3.0.0\n",
            "  Downloading argschema-2.0.2.tar.gz (24 kB)\n",
            "Requirement already satisfied: semver in /usr/local/lib/python3.7/dist-packages (from allensdk==2.11.2->mindscope_utilities) (2.13.0)\n",
            "Requirement already satisfied: scikit-image<0.17.0,>=0.14.0 in /usr/local/lib/python3.7/dist-packages (from allensdk==2.11.2->mindscope_utilities) (0.16.2)\n",
            "Collecting marshmallow==3.0.0rc6\n",
            "  Downloading marshmallow-3.0.0rc6-py2.py3-none-any.whl (42 kB)\n",
            "\u001b[K     |████████████████████████████████| 42 kB 1.4 MB/s \n",
            "\u001b[?25hCollecting aiohttp==3.7.4\n",
            "  Downloading aiohttp-3.7.4-cp37-cp37m-manylinux2014_x86_64.whl (1.3 MB)\n",
            "\u001b[K     |████████████████████████████████| 1.3 MB 42.7 MB/s \n",
            "\u001b[?25hCollecting boto3==1.17.21\n",
            "  Downloading boto3-1.17.21-py2.py3-none-any.whl (130 kB)\n",
            "\u001b[K     |████████████████████████████████| 130 kB 59.4 MB/s \n",
            "\u001b[?25hCollecting simpleitk<3.0.0,>=2.0.2\n",
            "  Downloading SimpleITK-2.0.2-cp37-cp37m-manylinux2010_x86_64.whl (47.4 MB)\n",
            "\u001b[K     |████████████████████████████████| 47.4 MB 68 kB/s \n",
            "\u001b[?25hRequirement already satisfied: matplotlib<4.0.0,>=1.4.3 in /usr/local/lib/python3.7/dist-packages (from allensdk==2.11.2->mindscope_utilities) (3.2.2)\n",
            "Requirement already satisfied: tqdm>=4.27 in /usr/local/lib/python3.7/dist-packages (from allensdk==2.11.2->mindscope_utilities) (4.41.1)\n",
            "Requirement already satisfied: statsmodels<=0.13.0 in /usr/local/lib/python3.7/dist-packages (from allensdk==2.11.2->mindscope_utilities) (0.10.2)\n",
            "Collecting multidict<7.0,>=4.5\n",
            "  Downloading multidict-5.1.0-cp37-cp37m-manylinux2014_x86_64.whl (142 kB)\n",
            "\u001b[K     |████████████████████████████████| 142 kB 67.0 MB/s \n",
            "\u001b[?25hCollecting yarl<2.0,>=1.0\n",
            "  Downloading yarl-1.6.3-cp37-cp37m-manylinux2014_x86_64.whl (294 kB)\n",
            "\u001b[K     |████████████████████████████████| 294 kB 47.2 MB/s \n",
            "\u001b[?25hRequirement already satisfied: typing-extensions>=3.6.5 in /usr/local/lib/python3.7/dist-packages (from aiohttp==3.7.4->allensdk==2.11.2->mindscope_utilities) (3.7.4.3)\n",
            "Requirement already satisfied: chardet<4.0,>=2.0 in /usr/local/lib/python3.7/dist-packages (from aiohttp==3.7.4->allensdk==2.11.2->mindscope_utilities) (3.0.4)\n",
            "Requirement already satisfied: attrs>=17.3.0 in /usr/local/lib/python3.7/dist-packages (from aiohttp==3.7.4->allensdk==2.11.2->mindscope_utilities) (21.2.0)\n",
            "Collecting async-timeout<4.0,>=3.0\n",
            "  Downloading async_timeout-3.0.1-py3-none-any.whl (8.2 kB)\n",
            "Collecting s3transfer<0.4.0,>=0.3.0\n",
            "  Downloading s3transfer-0.3.7-py2.py3-none-any.whl (73 kB)\n",
            "\u001b[K     |████████████████████████████████| 73 kB 2.2 MB/s \n",
            "\u001b[?25hCollecting botocore<1.21.0,>=1.20.21\n",
            "  Downloading botocore-1.20.108-py2.py3-none-any.whl (7.7 MB)\n",
            "\u001b[K     |████████████████████████████████| 7.7 MB 33.8 MB/s \n",
            "\u001b[?25hCollecting jmespath<1.0.0,>=0.7.1\n",
            "  Downloading jmespath-0.10.0-py2.py3-none-any.whl (24 kB)\n",
            "Requirement already satisfied: setuptools in /usr/local/lib/python3.7/dist-packages (from glymur==0.8.19->allensdk==2.11.2->mindscope_utilities) (57.0.0)\n",
            "Requirement already satisfied: python-dateutil<3.0.0,>=2.1 in /usr/local/lib/python3.7/dist-packages (from botocore<1.21.0,>=1.20.21->boto3==1.17.21->allensdk==2.11.2->mindscope_utilities) (2.8.1)\n",
            "Collecting urllib3<1.27,>=1.25.4\n",
            "  Downloading urllib3-1.26.6-py2.py3-none-any.whl (138 kB)\n",
            "\u001b[K     |████████████████████████████████| 138 kB 61.2 MB/s \n",
            "\u001b[?25hRequirement already satisfied: jsonschema<4,>=2.6.0 in /usr/local/lib/python3.7/dist-packages (from hdmf<2.5.0->allensdk==2.11.2->mindscope_utilities) (2.6.0)\n",
            "Collecting ruamel.yaml<1,>=0.15\n",
            "  Downloading ruamel.yaml-0.17.10-py3-none-any.whl (108 kB)\n",
            "\u001b[K     |████████████████████████████████| 108 kB 61.9 MB/s \n",
            "\u001b[?25hRequirement already satisfied: MarkupSafe>=0.23 in /usr/local/lib/python3.7/dist-packages (from jinja2<2.12.0,>=2.7.3->allensdk==2.11.2->mindscope_utilities) (2.0.1)\n",
            "Requirement already satisfied: pyparsing!=2.0.4,!=2.1.2,!=2.1.6,>=2.0.1 in /usr/local/lib/python3.7/dist-packages (from matplotlib<4.0.0,>=1.4.3->allensdk==2.11.2->mindscope_utilities) (2.4.7)\n",
            "Requirement already satisfied: kiwisolver>=1.0.1 in /usr/local/lib/python3.7/dist-packages (from matplotlib<4.0.0,>=1.4.3->allensdk==2.11.2->mindscope_utilities) (1.3.1)\n",
            "Requirement already satisfied: cycler>=0.10 in /usr/local/lib/python3.7/dist-packages (from matplotlib<4.0.0,>=1.4.3->allensdk==2.11.2->mindscope_utilities) (0.10.0)\n",
            "Requirement already satisfied: pytz>=2017.2 in /usr/local/lib/python3.7/dist-packages (from pandas<=0.25.3,>=0.25.1->allensdk==2.11.2->mindscope_utilities) (2018.9)\n",
            "Collecting pynwb<2.0.0,>=1.3.2\n",
            "  Downloading pynwb-1.5.0-py2.py3-none-any.whl (98 kB)\n",
            "\u001b[K     |████████████████████████████████| 98 kB 9.0 MB/s \n",
            "\u001b[?25h  Downloading pynwb-1.4.0-py2.py3-none-any.whl (94 kB)\n",
            "\u001b[K     |████████████████████████████████| 94 kB 3.5 MB/s \n",
            "\u001b[?25hCollecting urllib3<1.27,>=1.25.4\n",
            "  Downloading urllib3-1.25.11-py2.py3-none-any.whl (127 kB)\n",
            "\u001b[K     |████████████████████████████████| 127 kB 66.5 MB/s \n",
            "\u001b[?25hRequirement already satisfied: certifi>=2017.4.17 in /usr/local/lib/python3.7/dist-packages (from requests<3.0.0->allensdk==2.11.2->mindscope_utilities) (2021.5.30)\n",
            "Requirement already satisfied: idna<3,>=2.5 in /usr/local/lib/python3.7/dist-packages (from requests<3.0.0->allensdk==2.11.2->mindscope_utilities) (2.10)\n",
            "Collecting ruamel.yaml.clib>=0.1.2\n",
            "  Downloading ruamel.yaml.clib-0.2.6-cp37-cp37m-manylinux1_x86_64.whl (546 kB)\n",
            "\u001b[K     |████████████████████████████████| 546 kB 58.1 MB/s \n",
            "\u001b[?25hRequirement already satisfied: packaging in /usr/local/lib/python3.7/dist-packages (from scikit-build<1.0.0->allensdk==2.11.2->mindscope_utilities) (20.9)\n",
            "Collecting distro\n",
            "  Downloading distro-1.5.0-py2.py3-none-any.whl (18 kB)\n",
            "Requirement already satisfied: wheel>=0.29.0 in /usr/local/lib/python3.7/dist-packages (from scikit-build<1.0.0->allensdk==2.11.2->mindscope_utilities) (0.36.2)\n",
            "Requirement already satisfied: imageio>=2.3.0 in /usr/local/lib/python3.7/dist-packages (from scikit-image<0.17.0,>=0.14.0->allensdk==2.11.2->mindscope_utilities) (2.4.1)\n",
            "Requirement already satisfied: networkx>=2.0 in /usr/local/lib/python3.7/dist-packages (from scikit-image<0.17.0,>=0.14.0->allensdk==2.11.2->mindscope_utilities) (2.5.1)\n",
            "Requirement already satisfied: pillow>=4.3.0 in /usr/local/lib/python3.7/dist-packages (from scikit-image<0.17.0,>=0.14.0->allensdk==2.11.2->mindscope_utilities) (7.1.2)\n",
            "Requirement already satisfied: PyWavelets>=0.4.0 in /usr/local/lib/python3.7/dist-packages (from scikit-image<0.17.0,>=0.14.0->allensdk==2.11.2->mindscope_utilities) (1.1.1)\n",
            "Requirement already satisfied: decorator<5,>=4.3 in /usr/local/lib/python3.7/dist-packages (from networkx>=2.0->scikit-image<0.17.0,>=0.14.0->allensdk==2.11.2->mindscope_utilities) (4.4.2)\n",
            "Requirement already satisfied: patsy>=0.4.0 in /usr/local/lib/python3.7/dist-packages (from statsmodels<=0.13.0->allensdk==2.11.2->mindscope_utilities) (0.5.1)\n",
            "Requirement already satisfied: numexpr>=2.6.2 in /usr/local/lib/python3.7/dist-packages (from tables<4.0.0,>=3.6.0->allensdk==2.11.2->mindscope_utilities) (2.7.3)\n",
            "Collecting pycodestyle<2.8.0,>=2.7.0\n",
            "  Downloading pycodestyle-2.7.0-py2.py3-none-any.whl (41 kB)\n",
            "\u001b[K     |████████████████████████████████| 41 kB 650 kB/s \n",
            "\u001b[?25hCollecting mccabe<0.7.0,>=0.6.0\n",
            "  Downloading mccabe-0.6.1-py2.py3-none-any.whl (8.6 kB)\n",
            "Collecting pyflakes<2.4.0,>=2.3.0\n",
            "  Downloading pyflakes-2.3.1-py2.py3-none-any.whl (68 kB)\n",
            "\u001b[K     |████████████████████████████████| 68 kB 7.1 MB/s \n",
            "\u001b[?25hRequirement already satisfied: importlib-metadata in /usr/local/lib/python3.7/dist-packages (from flake8->mindscope_utilities) (4.6.0)\n",
            "Requirement already satisfied: zipp>=0.5 in /usr/local/lib/python3.7/dist-packages (from importlib-metadata->flake8->mindscope_utilities) (3.4.1)\n",
            "Requirement already satisfied: pluggy<0.8,>=0.5 in /usr/local/lib/python3.7/dist-packages (from pytest->mindscope_utilities) (0.7.1)\n",
            "Requirement already satisfied: more-itertools>=4.0.0 in /usr/local/lib/python3.7/dist-packages (from pytest->mindscope_utilities) (8.8.0)\n",
            "Requirement already satisfied: atomicwrites>=1.0 in /usr/local/lib/python3.7/dist-packages (from pytest->mindscope_utilities) (1.4.0)\n",
            "Requirement already satisfied: py>=1.5.0 in /usr/local/lib/python3.7/dist-packages (from pytest->mindscope_utilities) (1.10.0)\n",
            "Building wheels for collected packages: mindscope-utilities, glymur, argschema\n",
            "  Building wheel for mindscope-utilities (setup.py) ... \u001b[?25l\u001b[?25hdone\n",
            "  Created wheel for mindscope-utilities: filename=mindscope_utilities-0.1.6-py3-none-any.whl size=7689 sha256=99946bb792262f2b01c8c0e59f9546fed773b540824ce302af4ca1e37eecb668\n",
            "  Stored in directory: /root/.cache/pip/wheels/48/38/12/bbf0ea75e0e65307d490be6970f2e56d7777ac24d8dc11cce6\n",
            "  Building wheel for glymur (setup.py) ... \u001b[?25l\u001b[?25hdone\n",
            "  Created wheel for glymur: filename=Glymur-0.8.19-py3-none-any.whl size=2722014 sha256=06591d238fb4a9578f58f73b50a249cea19321e37c2cf9b50ad9a99f35d2f543\n",
            "  Stored in directory: /root/.cache/pip/wheels/36/bc/bd/1786279b44db4cbd6ded18090d02978fc31e78e3e516551bb4\n",
            "  Building wheel for argschema (setup.py) ... \u001b[?25l\u001b[?25hdone\n",
            "  Created wheel for argschema: filename=argschema-2.0.2-py2.py3-none-any.whl size=17795 sha256=017f607eb664fdf280ddc44a228194b6373e1a88fde61df903520749f922fefe\n",
            "  Stored in directory: /root/.cache/pip/wheels/ee/97/a8/4dbf0458be0af473d083a6354c0c126490e82447237bb0b907\n",
            "Successfully built mindscope-utilities glymur argschema\n",
            "Installing collected packages: ruamel.yaml.clib, numpy, urllib3, ruamel.yaml, pandas, jmespath, h5py, multidict, hdmf, botocore, yarl, s3transfer, pynwb, marshmallow, distro, async-timeout, xarray, tables, simplejson, simpleitk, scikit-build, requests-toolbelt, pynrrd, pyflakes, pycodestyle, psycopg2-binary, nest-asyncio, ndx-events, mccabe, glymur, boto3, argschema, aiohttp, flake8, allensdk, mindscope-utilities\n",
            "  Attempting uninstall: numpy\n",
            "    Found existing installation: numpy 1.19.5\n",
            "    Uninstalling numpy-1.19.5:\n",
            "      Successfully uninstalled numpy-1.19.5\n",
            "  Attempting uninstall: urllib3\n",
            "    Found existing installation: urllib3 1.24.3\n",
            "    Uninstalling urllib3-1.24.3:\n",
            "      Successfully uninstalled urllib3-1.24.3\n",
            "  Attempting uninstall: pandas\n",
            "    Found existing installation: pandas 1.1.5\n",
            "    Uninstalling pandas-1.1.5:\n",
            "      Successfully uninstalled pandas-1.1.5\n",
            "  Attempting uninstall: h5py\n",
            "    Found existing installation: h5py 3.1.0\n",
            "    Uninstalling h5py-3.1.0:\n",
            "      Successfully uninstalled h5py-3.1.0\n",
            "  Attempting uninstall: xarray\n",
            "    Found existing installation: xarray 0.18.2\n",
            "    Uninstalling xarray-0.18.2:\n",
            "      Successfully uninstalled xarray-0.18.2\n",
            "  Attempting uninstall: tables\n",
            "    Found existing installation: tables 3.4.4\n",
            "    Uninstalling tables-3.4.4:\n",
            "      Successfully uninstalled tables-3.4.4\n",
            "  Attempting uninstall: nest-asyncio\n",
            "    Found existing installation: nest-asyncio 1.5.1\n",
            "    Uninstalling nest-asyncio-1.5.1:\n",
            "      Successfully uninstalled nest-asyncio-1.5.1\n",
            "\u001b[31mERROR: pip's dependency resolver does not currently take into account all the packages that are installed. This behaviour is the source of the following dependency conflicts.\n",
            "tensorflow 2.5.0 requires h5py~=3.1.0, but you have h5py 2.10.0 which is incompatible.\n",
            "tensorflow 2.5.0 requires numpy~=1.19.2, but you have numpy 1.18.5 which is incompatible.\n",
            "nbclient 0.5.3 requires jupyter-client>=6.1.5, but you have jupyter-client 5.3.5 which is incompatible.\n",
            "google-colab 1.0.0 requires pandas~=1.1.0; python_version >= \"3.0\", but you have pandas 0.25.3 which is incompatible.\n",
            "fbprophet 0.7.1 requires pandas>=1.0.4, but you have pandas 0.25.3 which is incompatible.\n",
            "datascience 0.10.6 requires folium==0.2.1, but you have folium 0.8.3 which is incompatible.\n",
            "arviz 0.11.2 requires xarray>=0.16.1, but you have xarray 0.15.1 which is incompatible.\n",
            "albumentations 0.1.12 requires imgaug<0.2.7,>=0.2.5, but you have imgaug 0.2.9 which is incompatible.\u001b[0m\n",
            "Successfully installed aiohttp-3.7.4 allensdk-2.11.2 argschema-2.0.2 async-timeout-3.0.1 boto3-1.17.21 botocore-1.20.108 distro-1.5.0 flake8-3.9.2 glymur-0.8.19 h5py-2.10.0 hdmf-2.4.0 jmespath-0.10.0 marshmallow-3.0.0rc6 mccabe-0.6.1 mindscope-utilities-0.1.6 multidict-5.1.0 ndx-events-0.2.0 nest-asyncio-1.2.0 numpy-1.18.5 pandas-0.25.3 psycopg2-binary-2.9.1 pycodestyle-2.7.0 pyflakes-2.3.1 pynrrd-0.4.2 pynwb-1.4.0 requests-toolbelt-0.9.1 ruamel.yaml-0.17.10 ruamel.yaml.clib-0.2.6 s3transfer-0.3.7 scikit-build-0.11.1 simpleitk-2.0.2 simplejson-3.17.2 tables-3.6.1 urllib3-1.25.11 xarray-0.15.1 yarl-1.6.3\n",
            "\u001b[33mWARNING: Running pip as the 'root' user can result in broken permissions and conflicting behaviour with the system package manager. It is recommended to use a virtual environment instead: https://pip.pypa.io/warnings/venv\u001b[0m\n"
          ],
          "name": "stdout"
        },
        {
          "output_type": "display_data",
          "data": {
            "application/vnd.colab-display-data+json": {
              "pip_warning": {
                "packages": [
                  "numpy",
                  "pandas"
                ]
              }
            }
          },
          "metadata": {
            "tags": []
          }
        }
      ]
    },
    {
      "cell_type": "markdown",
      "metadata": {
        "id": "0iT7O4WaiYAH"
      },
      "source": [
        "#### Next we will import packages we need later in the notebook"
      ]
    },
    {
      "cell_type": "code",
      "metadata": {
        "id": "cgFHDxOcaJut"
      },
      "source": [
        "import os\n",
        "import numpy as np\n",
        "import pandas as pd\n",
        "from tqdm import tqdm\n",
        "import seaborn as sns\n",
        "import matplotlib.pyplot as plt\n",
        "\n",
        "import mindscope_utilities\n",
        "import mindscope_utilities.visual_behavior_ophys as ophys\n",
        "\n",
        "from allensdk.brain_observatory.behavior.behavior_project_cache import VisualBehaviorOphysProjectCache\n",
        "\n",
        "pd.set_option('display.max_columns', 500)\n",
        "hello"
      ],
      "execution_count": null,
      "outputs": []
    },
    {
      "cell_type": "markdown",
      "metadata": {
        "id": "FjFtKoQ2id_6"
      },
      "source": [
        "# Load the session and experiment summary tables\n",
        "\n",
        "The AllenSDK provides functionality for downloading tables that describe all sessions and experiments (individual imaging planes) in the Visual Behavior 2P dataset. We first download the data cache:"
      ]
    },
    {
      "cell_type": "code",
      "metadata": {
        "id": "pvamvtoUbWTR",
        "colab": {
          "base_uri": "https://localhost:8080/"
        },
        "outputId": "6a245f9f-9db7-4589-cd04-ef8567b363ee"
      },
      "source": [
        "data_storage_directory = \"/temp\" # Note: this path must exist on your local drive\n",
        "cache = VisualBehaviorOphysProjectCache.from_s3_cache(cache_dir=data_storage_directory)"
      ],
      "execution_count": null,
      "outputs": [
        {
          "output_type": "stream",
          "text": [
            "ophys_session_table.csv: 100%|██████████| 165k/165k [00:00<00:00, 722kMB/s]  \n",
            "behavior_session_table.csv: 100%|██████████| 885k/885k [00:00<00:00, 3.52MMB/s] \n",
            "ophys_experiment_table.csv: 100%|██████████| 336k/336k [00:00<00:00, 1.56MMB/s] \n"
          ],
          "name": "stderr"
        }
      ]
    },
    {
      "cell_type": "markdown",
      "metadata": {
        "id": "8i-bdFCLQImS"
      },
      "source": [
        "- `Ophys_session_table` contains metadata describing imaging sessions. If more than one plane was imaged during a session, one ophys session id will be associated multiple ophys experiment ids. Each ophys session id will also have a unique behavior session id. \n",
        "- `Behavior_session_table` contains metadata describing behavioral sessions, which may or may not be during imaging. Behavior session ids that do not have ophys session ids were training sessions. \n",
        "- `Ophys_experiment_table` contains metadata describing imaging experiments (aka imaging planes). When mesoscope is used, one ophys session may contain up to 8 unique experiments (two visual areas by four imaging depths). Some imaging planes may not be released due to quality control issues, thus each ophys session id is associated with anywhere from one to eight unique experiment ids. Ophys experiment ids are unique and do not repeat across sessions. To find the same imaging plane that was matched across multiple sessions, use the `ophys_container_id` column that can be found in both `ophys_session_table` and `ophys_experiment_table`. "
      ]
    },
    {
      "cell_type": "markdown",
      "metadata": {
        "id": "XL5LV5fti5tc"
      },
      "source": [
        "Then we can access the session and experiment tables directly.\n",
        "\n",
        "Note that a 'session' is a single behavioral session. Sessions that are performed on the mesoscope will have multiple (up to 8) 'experiments' associated with them, where an experiment is a distinct imaging plane. "
      ]
    },
    {
      "cell_type": "code",
      "metadata": {
        "id": "pOCbdeNbd7w8"
      },
      "source": [
        "session_table = cache.get_ophys_session_table()\n",
        "experiment_table = cache.get_ophys_experiment_table()\n",
        "behavior_session_table = cache.get_behavior_session_table()"
      ],
      "execution_count": null,
      "outputs": []
    },
    {
      "cell_type": "markdown",
      "metadata": {
        "id": "jUguZ4QGjQF7"
      },
      "source": [
        "We can then view the contents of the session table. Note that this contains a lot of useful metadata about each session. One of the columns, `ophys_experiment_id` provides a list of the experiments (aka imaging planes) that are associated with each session."
      ]
    },
    {
      "cell_type": "code",
      "metadata": {
        "colab": {
          "base_uri": "https://localhost:8080/",
          "height": 493
        },
        "id": "t5JqR9KxjUB_",
        "outputId": "9f58b5f8-7312-4553-f21c-6035815ab1cd"
      },
      "source": [
        "session_table.head()"
      ],
      "execution_count": null,
      "outputs": [
        {
          "output_type": "execute_result",
          "data": {
            "text/html": [
              "<div>\n",
              "<style scoped>\n",
              "    .dataframe tbody tr th:only-of-type {\n",
              "        vertical-align: middle;\n",
              "    }\n",
              "\n",
              "    .dataframe tbody tr th {\n",
              "        vertical-align: top;\n",
              "    }\n",
              "\n",
              "    .dataframe thead th {\n",
              "        text-align: right;\n",
              "    }\n",
              "</style>\n",
              "<table border=\"1\" class=\"dataframe\">\n",
              "  <thead>\n",
              "    <tr style=\"text-align: right;\">\n",
              "      <th></th>\n",
              "      <th>equipment_name</th>\n",
              "      <th>full_genotype</th>\n",
              "      <th>mouse_id</th>\n",
              "      <th>reporter_line</th>\n",
              "      <th>driver_line</th>\n",
              "      <th>sex</th>\n",
              "      <th>age_in_days</th>\n",
              "      <th>cre_line</th>\n",
              "      <th>indicator</th>\n",
              "      <th>session_number</th>\n",
              "      <th>prior_exposures_to_session_type</th>\n",
              "      <th>prior_exposures_to_image_set</th>\n",
              "      <th>prior_exposures_to_omissions</th>\n",
              "      <th>behavior_session_id</th>\n",
              "      <th>ophys_experiment_id</th>\n",
              "      <th>ophys_container_id</th>\n",
              "      <th>project_code</th>\n",
              "      <th>date_of_acquisition</th>\n",
              "      <th>session_type</th>\n",
              "    </tr>\n",
              "    <tr>\n",
              "      <th>ophys_session_id</th>\n",
              "      <th></th>\n",
              "      <th></th>\n",
              "      <th></th>\n",
              "      <th></th>\n",
              "      <th></th>\n",
              "      <th></th>\n",
              "      <th></th>\n",
              "      <th></th>\n",
              "      <th></th>\n",
              "      <th></th>\n",
              "      <th></th>\n",
              "      <th></th>\n",
              "      <th></th>\n",
              "      <th></th>\n",
              "      <th></th>\n",
              "      <th></th>\n",
              "      <th></th>\n",
              "      <th></th>\n",
              "      <th></th>\n",
              "    </tr>\n",
              "  </thead>\n",
              "  <tbody>\n",
              "    <tr>\n",
              "      <th>951410079</th>\n",
              "      <td>MESO.1</td>\n",
              "      <td>Sst-IRES-Cre/wt;Ai148(TIT2L-GC6f-ICL-tTA2)/wt</td>\n",
              "      <td>457841</td>\n",
              "      <td>Ai148(TIT2L-GC6f-ICL-tTA2)</td>\n",
              "      <td>[Sst-IRES-Cre]</td>\n",
              "      <td>F</td>\n",
              "      <td>206.0</td>\n",
              "      <td>Sst-IRES-Cre</td>\n",
              "      <td>GCaMP6f</td>\n",
              "      <td>1.0</td>\n",
              "      <td>0</td>\n",
              "      <td>65.0</td>\n",
              "      <td>0</td>\n",
              "      <td>951520319</td>\n",
              "      <td>[951980471, 951980473, 951980475, 951980479, 9...</td>\n",
              "      <td>[1018028339, 1018028342, 1018028345, 101802835...</td>\n",
              "      <td>VisualBehaviorMultiscope</td>\n",
              "      <td>2019-09-20 09:45:29.897856</td>\n",
              "      <td>OPHYS_1_images_A</td>\n",
              "    </tr>\n",
              "    <tr>\n",
              "      <th>952430817</th>\n",
              "      <td>MESO.1</td>\n",
              "      <td>Sst-IRES-Cre/wt;Ai148(TIT2L-GC6f-ICL-tTA2)/wt</td>\n",
              "      <td>457841</td>\n",
              "      <td>Ai148(TIT2L-GC6f-ICL-tTA2)</td>\n",
              "      <td>[Sst-IRES-Cre]</td>\n",
              "      <td>F</td>\n",
              "      <td>209.0</td>\n",
              "      <td>Sst-IRES-Cre</td>\n",
              "      <td>GCaMP6f</td>\n",
              "      <td>2.0</td>\n",
              "      <td>0</td>\n",
              "      <td>66.0</td>\n",
              "      <td>1</td>\n",
              "      <td>952554548</td>\n",
              "      <td>[953659743, 953659745, 953659749, 953659752]</td>\n",
              "      <td>[1018028339, 1018028345, 1018028354, 1018028357]</td>\n",
              "      <td>VisualBehaviorMultiscope</td>\n",
              "      <td>2019-09-23 08:13:07.627573</td>\n",
              "      <td>OPHYS_2_images_A_passive</td>\n",
              "    </tr>\n",
              "    <tr>\n",
              "      <th>954954402</th>\n",
              "      <td>MESO.1</td>\n",
              "      <td>Sst-IRES-Cre/wt;Ai148(TIT2L-GC6f-ICL-tTA2)/wt</td>\n",
              "      <td>457841</td>\n",
              "      <td>Ai148(TIT2L-GC6f-ICL-tTA2)</td>\n",
              "      <td>[Sst-IRES-Cre]</td>\n",
              "      <td>F</td>\n",
              "      <td>210.0</td>\n",
              "      <td>Sst-IRES-Cre</td>\n",
              "      <td>GCaMP6f</td>\n",
              "      <td>3.0</td>\n",
              "      <td>0</td>\n",
              "      <td>67.0</td>\n",
              "      <td>2</td>\n",
              "      <td>953982960</td>\n",
              "      <td>[958527464, 958527471, 958527474, 958527479, 9...</td>\n",
              "      <td>[1018028339, 1018028342, 1018028345, 101802835...</td>\n",
              "      <td>VisualBehaviorMultiscope</td>\n",
              "      <td>2019-09-24 16:00:00.000000</td>\n",
              "      <td>OPHYS_3_images_A</td>\n",
              "    </tr>\n",
              "    <tr>\n",
              "      <th>955775716</th>\n",
              "      <td>MESO.1</td>\n",
              "      <td>Sst-IRES-Cre/wt;Ai148(TIT2L-GC6f-ICL-tTA2)/wt</td>\n",
              "      <td>457841</td>\n",
              "      <td>Ai148(TIT2L-GC6f-ICL-tTA2)</td>\n",
              "      <td>[Sst-IRES-Cre]</td>\n",
              "      <td>F</td>\n",
              "      <td>212.0</td>\n",
              "      <td>Sst-IRES-Cre</td>\n",
              "      <td>GCaMP6f</td>\n",
              "      <td>3.0</td>\n",
              "      <td>1</td>\n",
              "      <td>68.0</td>\n",
              "      <td>3</td>\n",
              "      <td>956010809</td>\n",
              "      <td>[956941841, 956941844, 956941846]</td>\n",
              "      <td>[1018028339, 1018028342, 1018028345]</td>\n",
              "      <td>VisualBehaviorMultiscope</td>\n",
              "      <td>2019-09-26 08:44:37.199778</td>\n",
              "      <td>OPHYS_3_images_A</td>\n",
              "    </tr>\n",
              "    <tr>\n",
              "      <th>957020350</th>\n",
              "      <td>MESO.1</td>\n",
              "      <td>Sst-IRES-Cre/wt;Ai148(TIT2L-GC6f-ICL-tTA2)/wt</td>\n",
              "      <td>457841</td>\n",
              "      <td>Ai148(TIT2L-GC6f-ICL-tTA2)</td>\n",
              "      <td>[Sst-IRES-Cre]</td>\n",
              "      <td>F</td>\n",
              "      <td>213.0</td>\n",
              "      <td>Sst-IRES-Cre</td>\n",
              "      <td>GCaMP6f</td>\n",
              "      <td>4.0</td>\n",
              "      <td>0</td>\n",
              "      <td>0.0</td>\n",
              "      <td>4</td>\n",
              "      <td>957032492</td>\n",
              "      <td>[957759562, 957759564, 957759566, 957759570, 9...</td>\n",
              "      <td>[1018028339, 1018028342, 1018028345, 101802835...</td>\n",
              "      <td>VisualBehaviorMultiscope</td>\n",
              "      <td>2019-09-27 08:28:05.415005</td>\n",
              "      <td>OPHYS_4_images_B</td>\n",
              "    </tr>\n",
              "  </tbody>\n",
              "</table>\n",
              "</div>"
            ],
            "text/plain": [
              "                 equipment_name  \\\n",
              "ophys_session_id                  \n",
              "951410079                MESO.1   \n",
              "952430817                MESO.1   \n",
              "954954402                MESO.1   \n",
              "955775716                MESO.1   \n",
              "957020350                MESO.1   \n",
              "\n",
              "                                                  full_genotype  mouse_id  \\\n",
              "ophys_session_id                                                            \n",
              "951410079         Sst-IRES-Cre/wt;Ai148(TIT2L-GC6f-ICL-tTA2)/wt    457841   \n",
              "952430817         Sst-IRES-Cre/wt;Ai148(TIT2L-GC6f-ICL-tTA2)/wt    457841   \n",
              "954954402         Sst-IRES-Cre/wt;Ai148(TIT2L-GC6f-ICL-tTA2)/wt    457841   \n",
              "955775716         Sst-IRES-Cre/wt;Ai148(TIT2L-GC6f-ICL-tTA2)/wt    457841   \n",
              "957020350         Sst-IRES-Cre/wt;Ai148(TIT2L-GC6f-ICL-tTA2)/wt    457841   \n",
              "\n",
              "                               reporter_line     driver_line sex  age_in_days  \\\n",
              "ophys_session_id                                                                \n",
              "951410079         Ai148(TIT2L-GC6f-ICL-tTA2)  [Sst-IRES-Cre]   F        206.0   \n",
              "952430817         Ai148(TIT2L-GC6f-ICL-tTA2)  [Sst-IRES-Cre]   F        209.0   \n",
              "954954402         Ai148(TIT2L-GC6f-ICL-tTA2)  [Sst-IRES-Cre]   F        210.0   \n",
              "955775716         Ai148(TIT2L-GC6f-ICL-tTA2)  [Sst-IRES-Cre]   F        212.0   \n",
              "957020350         Ai148(TIT2L-GC6f-ICL-tTA2)  [Sst-IRES-Cre]   F        213.0   \n",
              "\n",
              "                      cre_line indicator  session_number  \\\n",
              "ophys_session_id                                           \n",
              "951410079         Sst-IRES-Cre   GCaMP6f             1.0   \n",
              "952430817         Sst-IRES-Cre   GCaMP6f             2.0   \n",
              "954954402         Sst-IRES-Cre   GCaMP6f             3.0   \n",
              "955775716         Sst-IRES-Cre   GCaMP6f             3.0   \n",
              "957020350         Sst-IRES-Cre   GCaMP6f             4.0   \n",
              "\n",
              "                  prior_exposures_to_session_type  \\\n",
              "ophys_session_id                                    \n",
              "951410079                                       0   \n",
              "952430817                                       0   \n",
              "954954402                                       0   \n",
              "955775716                                       1   \n",
              "957020350                                       0   \n",
              "\n",
              "                  prior_exposures_to_image_set  prior_exposures_to_omissions  \\\n",
              "ophys_session_id                                                               \n",
              "951410079                                 65.0                             0   \n",
              "952430817                                 66.0                             1   \n",
              "954954402                                 67.0                             2   \n",
              "955775716                                 68.0                             3   \n",
              "957020350                                  0.0                             4   \n",
              "\n",
              "                  behavior_session_id  \\\n",
              "ophys_session_id                        \n",
              "951410079                   951520319   \n",
              "952430817                   952554548   \n",
              "954954402                   953982960   \n",
              "955775716                   956010809   \n",
              "957020350                   957032492   \n",
              "\n",
              "                                                ophys_experiment_id  \\\n",
              "ophys_session_id                                                      \n",
              "951410079         [951980471, 951980473, 951980475, 951980479, 9...   \n",
              "952430817              [953659743, 953659745, 953659749, 953659752]   \n",
              "954954402         [958527464, 958527471, 958527474, 958527479, 9...   \n",
              "955775716                         [956941841, 956941844, 956941846]   \n",
              "957020350         [957759562, 957759564, 957759566, 957759570, 9...   \n",
              "\n",
              "                                                 ophys_container_id  \\\n",
              "ophys_session_id                                                      \n",
              "951410079         [1018028339, 1018028342, 1018028345, 101802835...   \n",
              "952430817          [1018028339, 1018028345, 1018028354, 1018028357]   \n",
              "954954402         [1018028339, 1018028342, 1018028345, 101802835...   \n",
              "955775716                      [1018028339, 1018028342, 1018028345]   \n",
              "957020350         [1018028339, 1018028342, 1018028345, 101802835...   \n",
              "\n",
              "                              project_code         date_of_acquisition  \\\n",
              "ophys_session_id                                                         \n",
              "951410079         VisualBehaviorMultiscope  2019-09-20 09:45:29.897856   \n",
              "952430817         VisualBehaviorMultiscope  2019-09-23 08:13:07.627573   \n",
              "954954402         VisualBehaviorMultiscope  2019-09-24 16:00:00.000000   \n",
              "955775716         VisualBehaviorMultiscope  2019-09-26 08:44:37.199778   \n",
              "957020350         VisualBehaviorMultiscope  2019-09-27 08:28:05.415005   \n",
              "\n",
              "                              session_type  \n",
              "ophys_session_id                            \n",
              "951410079                 OPHYS_1_images_A  \n",
              "952430817         OPHYS_2_images_A_passive  \n",
              "954954402                 OPHYS_3_images_A  \n",
              "955775716                 OPHYS_3_images_A  \n",
              "957020350                 OPHYS_4_images_B  "
            ]
          },
          "metadata": {
            "tags": []
          },
          "execution_count": 6
        }
      ]
    },
    {
      "cell_type": "markdown",
      "metadata": {
        "id": "m0BhnucakDQi"
      },
      "source": [
        "The experiment table has one row per experiment. Note that the `ophys_session_id` column links each experiment to its associated session in the session_table."
      ]
    },
    {
      "cell_type": "code",
      "metadata": {
        "colab": {
          "base_uri": "https://localhost:8080/",
          "height": 425
        },
        "id": "VNAmRU0od-RC",
        "outputId": "fd9baeee-44fe-4651-b579-aa9131aaac57"
      },
      "source": [
        "experiment_table.head()"
      ],
      "execution_count": null,
      "outputs": [
        {
          "output_type": "execute_result",
          "data": {
            "text/html": [
              "<div>\n",
              "<style scoped>\n",
              "    .dataframe tbody tr th:only-of-type {\n",
              "        vertical-align: middle;\n",
              "    }\n",
              "\n",
              "    .dataframe tbody tr th {\n",
              "        vertical-align: top;\n",
              "    }\n",
              "\n",
              "    .dataframe thead th {\n",
              "        text-align: right;\n",
              "    }\n",
              "</style>\n",
              "<table border=\"1\" class=\"dataframe\">\n",
              "  <thead>\n",
              "    <tr style=\"text-align: right;\">\n",
              "      <th></th>\n",
              "      <th>equipment_name</th>\n",
              "      <th>full_genotype</th>\n",
              "      <th>mouse_id</th>\n",
              "      <th>reporter_line</th>\n",
              "      <th>driver_line</th>\n",
              "      <th>sex</th>\n",
              "      <th>age_in_days</th>\n",
              "      <th>cre_line</th>\n",
              "      <th>indicator</th>\n",
              "      <th>session_number</th>\n",
              "      <th>prior_exposures_to_session_type</th>\n",
              "      <th>prior_exposures_to_image_set</th>\n",
              "      <th>prior_exposures_to_omissions</th>\n",
              "      <th>ophys_session_id</th>\n",
              "      <th>behavior_session_id</th>\n",
              "      <th>ophys_container_id</th>\n",
              "      <th>project_code</th>\n",
              "      <th>imaging_depth</th>\n",
              "      <th>targeted_structure</th>\n",
              "      <th>date_of_acquisition</th>\n",
              "      <th>session_type</th>\n",
              "      <th>file_id</th>\n",
              "    </tr>\n",
              "    <tr>\n",
              "      <th>ophys_experiment_id</th>\n",
              "      <th></th>\n",
              "      <th></th>\n",
              "      <th></th>\n",
              "      <th></th>\n",
              "      <th></th>\n",
              "      <th></th>\n",
              "      <th></th>\n",
              "      <th></th>\n",
              "      <th></th>\n",
              "      <th></th>\n",
              "      <th></th>\n",
              "      <th></th>\n",
              "      <th></th>\n",
              "      <th></th>\n",
              "      <th></th>\n",
              "      <th></th>\n",
              "      <th></th>\n",
              "      <th></th>\n",
              "      <th></th>\n",
              "      <th></th>\n",
              "      <th></th>\n",
              "      <th></th>\n",
              "    </tr>\n",
              "  </thead>\n",
              "  <tbody>\n",
              "    <tr>\n",
              "      <th>951980471</th>\n",
              "      <td>MESO.1</td>\n",
              "      <td>Sst-IRES-Cre/wt;Ai148(TIT2L-GC6f-ICL-tTA2)/wt</td>\n",
              "      <td>457841</td>\n",
              "      <td>Ai148(TIT2L-GC6f-ICL-tTA2)</td>\n",
              "      <td>[Sst-IRES-Cre]</td>\n",
              "      <td>F</td>\n",
              "      <td>206.0</td>\n",
              "      <td>Sst-IRES-Cre</td>\n",
              "      <td>GCaMP6f</td>\n",
              "      <td>1.0</td>\n",
              "      <td>0</td>\n",
              "      <td>65.0</td>\n",
              "      <td>0</td>\n",
              "      <td>951410079</td>\n",
              "      <td>951520319</td>\n",
              "      <td>1018028342</td>\n",
              "      <td>VisualBehaviorMultiscope</td>\n",
              "      <td>150</td>\n",
              "      <td>VISp</td>\n",
              "      <td>2019-09-20 09:45:29.897856</td>\n",
              "      <td>OPHYS_1_images_A</td>\n",
              "      <td>1085394308</td>\n",
              "    </tr>\n",
              "    <tr>\n",
              "      <th>951980484</th>\n",
              "      <td>MESO.1</td>\n",
              "      <td>Sst-IRES-Cre/wt;Ai148(TIT2L-GC6f-ICL-tTA2)/wt</td>\n",
              "      <td>457841</td>\n",
              "      <td>Ai148(TIT2L-GC6f-ICL-tTA2)</td>\n",
              "      <td>[Sst-IRES-Cre]</td>\n",
              "      <td>F</td>\n",
              "      <td>206.0</td>\n",
              "      <td>Sst-IRES-Cre</td>\n",
              "      <td>GCaMP6f</td>\n",
              "      <td>1.0</td>\n",
              "      <td>0</td>\n",
              "      <td>65.0</td>\n",
              "      <td>0</td>\n",
              "      <td>951410079</td>\n",
              "      <td>951520319</td>\n",
              "      <td>1018028351</td>\n",
              "      <td>VisualBehaviorMultiscope</td>\n",
              "      <td>75</td>\n",
              "      <td>VISl</td>\n",
              "      <td>2019-09-20 09:45:29.897856</td>\n",
              "      <td>OPHYS_1_images_A</td>\n",
              "      <td>1085400876</td>\n",
              "    </tr>\n",
              "    <tr>\n",
              "      <th>951980473</th>\n",
              "      <td>MESO.1</td>\n",
              "      <td>Sst-IRES-Cre/wt;Ai148(TIT2L-GC6f-ICL-tTA2)/wt</td>\n",
              "      <td>457841</td>\n",
              "      <td>Ai148(TIT2L-GC6f-ICL-tTA2)</td>\n",
              "      <td>[Sst-IRES-Cre]</td>\n",
              "      <td>F</td>\n",
              "      <td>206.0</td>\n",
              "      <td>Sst-IRES-Cre</td>\n",
              "      <td>GCaMP6f</td>\n",
              "      <td>1.0</td>\n",
              "      <td>0</td>\n",
              "      <td>65.0</td>\n",
              "      <td>0</td>\n",
              "      <td>951410079</td>\n",
              "      <td>951520319</td>\n",
              "      <td>1018028345</td>\n",
              "      <td>VisualBehaviorMultiscope</td>\n",
              "      <td>225</td>\n",
              "      <td>VISp</td>\n",
              "      <td>2019-09-20 09:45:29.897856</td>\n",
              "      <td>OPHYS_1_images_A</td>\n",
              "      <td>1085400919</td>\n",
              "    </tr>\n",
              "    <tr>\n",
              "      <th>951980479</th>\n",
              "      <td>MESO.1</td>\n",
              "      <td>Sst-IRES-Cre/wt;Ai148(TIT2L-GC6f-ICL-tTA2)/wt</td>\n",
              "      <td>457841</td>\n",
              "      <td>Ai148(TIT2L-GC6f-ICL-tTA2)</td>\n",
              "      <td>[Sst-IRES-Cre]</td>\n",
              "      <td>F</td>\n",
              "      <td>206.0</td>\n",
              "      <td>Sst-IRES-Cre</td>\n",
              "      <td>GCaMP6f</td>\n",
              "      <td>1.0</td>\n",
              "      <td>0</td>\n",
              "      <td>65.0</td>\n",
              "      <td>0</td>\n",
              "      <td>951410079</td>\n",
              "      <td>951520319</td>\n",
              "      <td>1018028354</td>\n",
              "      <td>VisualBehaviorMultiscope</td>\n",
              "      <td>150</td>\n",
              "      <td>VISl</td>\n",
              "      <td>2019-09-20 09:45:29.897856</td>\n",
              "      <td>OPHYS_1_images_A</td>\n",
              "      <td>1085400977</td>\n",
              "    </tr>\n",
              "    <tr>\n",
              "      <th>951980475</th>\n",
              "      <td>MESO.1</td>\n",
              "      <td>Sst-IRES-Cre/wt;Ai148(TIT2L-GC6f-ICL-tTA2)/wt</td>\n",
              "      <td>457841</td>\n",
              "      <td>Ai148(TIT2L-GC6f-ICL-tTA2)</td>\n",
              "      <td>[Sst-IRES-Cre]</td>\n",
              "      <td>F</td>\n",
              "      <td>206.0</td>\n",
              "      <td>Sst-IRES-Cre</td>\n",
              "      <td>GCaMP6f</td>\n",
              "      <td>1.0</td>\n",
              "      <td>0</td>\n",
              "      <td>65.0</td>\n",
              "      <td>0</td>\n",
              "      <td>951410079</td>\n",
              "      <td>951520319</td>\n",
              "      <td>1018028339</td>\n",
              "      <td>VisualBehaviorMultiscope</td>\n",
              "      <td>75</td>\n",
              "      <td>VISp</td>\n",
              "      <td>2019-09-20 09:45:29.897856</td>\n",
              "      <td>OPHYS_1_images_A</td>\n",
              "      <td>1085400920</td>\n",
              "    </tr>\n",
              "  </tbody>\n",
              "</table>\n",
              "</div>"
            ],
            "text/plain": [
              "                    equipment_name  \\\n",
              "ophys_experiment_id                  \n",
              "951980471                   MESO.1   \n",
              "951980484                   MESO.1   \n",
              "951980473                   MESO.1   \n",
              "951980479                   MESO.1   \n",
              "951980475                   MESO.1   \n",
              "\n",
              "                                                     full_genotype  mouse_id  \\\n",
              "ophys_experiment_id                                                            \n",
              "951980471            Sst-IRES-Cre/wt;Ai148(TIT2L-GC6f-ICL-tTA2)/wt    457841   \n",
              "951980484            Sst-IRES-Cre/wt;Ai148(TIT2L-GC6f-ICL-tTA2)/wt    457841   \n",
              "951980473            Sst-IRES-Cre/wt;Ai148(TIT2L-GC6f-ICL-tTA2)/wt    457841   \n",
              "951980479            Sst-IRES-Cre/wt;Ai148(TIT2L-GC6f-ICL-tTA2)/wt    457841   \n",
              "951980475            Sst-IRES-Cre/wt;Ai148(TIT2L-GC6f-ICL-tTA2)/wt    457841   \n",
              "\n",
              "                                  reporter_line     driver_line sex  \\\n",
              "ophys_experiment_id                                                   \n",
              "951980471            Ai148(TIT2L-GC6f-ICL-tTA2)  [Sst-IRES-Cre]   F   \n",
              "951980484            Ai148(TIT2L-GC6f-ICL-tTA2)  [Sst-IRES-Cre]   F   \n",
              "951980473            Ai148(TIT2L-GC6f-ICL-tTA2)  [Sst-IRES-Cre]   F   \n",
              "951980479            Ai148(TIT2L-GC6f-ICL-tTA2)  [Sst-IRES-Cre]   F   \n",
              "951980475            Ai148(TIT2L-GC6f-ICL-tTA2)  [Sst-IRES-Cre]   F   \n",
              "\n",
              "                     age_in_days      cre_line indicator  session_number  \\\n",
              "ophys_experiment_id                                                        \n",
              "951980471                  206.0  Sst-IRES-Cre   GCaMP6f             1.0   \n",
              "951980484                  206.0  Sst-IRES-Cre   GCaMP6f             1.0   \n",
              "951980473                  206.0  Sst-IRES-Cre   GCaMP6f             1.0   \n",
              "951980479                  206.0  Sst-IRES-Cre   GCaMP6f             1.0   \n",
              "951980475                  206.0  Sst-IRES-Cre   GCaMP6f             1.0   \n",
              "\n",
              "                     prior_exposures_to_session_type  \\\n",
              "ophys_experiment_id                                    \n",
              "951980471                                          0   \n",
              "951980484                                          0   \n",
              "951980473                                          0   \n",
              "951980479                                          0   \n",
              "951980475                                          0   \n",
              "\n",
              "                     prior_exposures_to_image_set  \\\n",
              "ophys_experiment_id                                 \n",
              "951980471                                    65.0   \n",
              "951980484                                    65.0   \n",
              "951980473                                    65.0   \n",
              "951980479                                    65.0   \n",
              "951980475                                    65.0   \n",
              "\n",
              "                     prior_exposures_to_omissions  ophys_session_id  \\\n",
              "ophys_experiment_id                                                   \n",
              "951980471                                       0         951410079   \n",
              "951980484                                       0         951410079   \n",
              "951980473                                       0         951410079   \n",
              "951980479                                       0         951410079   \n",
              "951980475                                       0         951410079   \n",
              "\n",
              "                     behavior_session_id  ophys_container_id  \\\n",
              "ophys_experiment_id                                            \n",
              "951980471                      951520319          1018028342   \n",
              "951980484                      951520319          1018028351   \n",
              "951980473                      951520319          1018028345   \n",
              "951980479                      951520319          1018028354   \n",
              "951980475                      951520319          1018028339   \n",
              "\n",
              "                                 project_code  imaging_depth  \\\n",
              "ophys_experiment_id                                            \n",
              "951980471            VisualBehaviorMultiscope            150   \n",
              "951980484            VisualBehaviorMultiscope             75   \n",
              "951980473            VisualBehaviorMultiscope            225   \n",
              "951980479            VisualBehaviorMultiscope            150   \n",
              "951980475            VisualBehaviorMultiscope             75   \n",
              "\n",
              "                    targeted_structure         date_of_acquisition  \\\n",
              "ophys_experiment_id                                                  \n",
              "951980471                         VISp  2019-09-20 09:45:29.897856   \n",
              "951980484                         VISl  2019-09-20 09:45:29.897856   \n",
              "951980473                         VISp  2019-09-20 09:45:29.897856   \n",
              "951980479                         VISl  2019-09-20 09:45:29.897856   \n",
              "951980475                         VISp  2019-09-20 09:45:29.897856   \n",
              "\n",
              "                         session_type     file_id  \n",
              "ophys_experiment_id                                \n",
              "951980471            OPHYS_1_images_A  1085394308  \n",
              "951980484            OPHYS_1_images_A  1085400876  \n",
              "951980473            OPHYS_1_images_A  1085400919  \n",
              "951980479            OPHYS_1_images_A  1085400977  \n",
              "951980475            OPHYS_1_images_A  1085400920  "
            ]
          },
          "metadata": {
            "tags": []
          },
          "execution_count": 5
        }
      ]
    },
    {
      "cell_type": "markdown",
      "metadata": {
        "id": "wPWnsoFpd2fw"
      },
      "source": [
        "## Load behavior data"
      ]
    },
    {
      "cell_type": "code",
      "metadata": {
        "id": "CiRry2OTxq6Y"
      },
      "source": [
        "behavior_session_table.head()"
      ],
      "execution_count": null,
      "outputs": []
    },
    {
      "cell_type": "markdown",
      "metadata": {
        "id": "0st3qOgskSQo"
      },
      "source": [
        "# Load one example session\n",
        "We are going to select one session from this table, session 854060305. This is a session with Sst-IRES-Cre mouse, which expressed GCaMP6f in Sst+ inhibitory interneurons. There were 6 simultaneously acquired imaging planes for this session. \n",
        "We can view metadata for this session as follows:"
      ]
    },
    {
      "cell_type": "code",
      "metadata": {
        "colab": {
          "base_uri": "https://localhost:8080/"
        },
        "id": "_zTik58MeBIP",
        "outputId": "fa16fa33-50dc-4266-81a7-5a569eb7cd57"
      },
      "source": [
        "ophys_session_id = 854060305\n",
        "session_table.loc[ophys_session_id]"
      ],
      "execution_count": null,
      "outputs": [
        {
          "output_type": "execute_result",
          "data": {
            "text/plain": [
              "equipment_name                                                                MESO.1\n",
              "full_genotype                          Sst-IRES-Cre/wt;Ai148(TIT2L-GC6f-ICL-tTA2)/wt\n",
              "mouse_id                                                                      440631\n",
              "reporter_line                                             Ai148(TIT2L-GC6f-ICL-tTA2)\n",
              "driver_line                                                           [Sst-IRES-Cre]\n",
              "sex                                                                                M\n",
              "age_in_days                                                                      129\n",
              "cre_line                                                                Sst-IRES-Cre\n",
              "indicator                                                                    GCaMP6f\n",
              "session_number                                                                     6\n",
              "prior_exposures_to_session_type                                                    0\n",
              "prior_exposures_to_image_set                                                       2\n",
              "prior_exposures_to_omissions                                                       6\n",
              "behavior_session_id                                                        854283407\n",
              "ophys_experiment_id                [854759890, 854759894, 854759896, 854759898, 8...\n",
              "ophys_container_id                 [1018028135, 1018028138, 1018028141, 101802814...\n",
              "project_code                                                VisualBehaviorMultiscope\n",
              "date_of_acquisition                                       2019-04-19 08:37:15.454259\n",
              "session_type                                                        OPHYS_6_images_B\n",
              "Name: 854060305, dtype: object"
            ]
          },
          "metadata": {
            "tags": []
          },
          "execution_count": 7
        }
      ]
    },
    {
      "cell_type": "markdown",
      "metadata": {
        "id": "sZA65m3Lkk1o"
      },
      "source": [
        "# Download all associated experiments\n",
        "\n",
        "Each session consists of one or more 'experiments', in which each experiment is a single imaging plane\n",
        "\n",
        "Each mesoscope session has up to 8 experiments associated with the session. We will load all sessions into a dictionary with the experiment IDs as the keys\n",
        "\n",
        "The first time that this cell is run, the associated NWB files will be downloaded to your local `data_storage_directory`. Subsequent runs of this cell will be faster since the data will already be cached locally."
      ]
    },
    {
      "cell_type": "code",
      "metadata": {
        "id": "ovs_vUtreDwQ"
      },
      "source": [
        "experiments = {}\n",
        "ophys_experiment_ids = session_table.loc[ophys_session_id]['ophys_experiment_id']\n",
        "for ophys_experiment_id in ophys_experiment_ids:\n",
        "    experiments[ophys_experiment_id] = cache.get_behavior_ophys_experiment(ophys_experiment_id)"
      ],
      "execution_count": null,
      "outputs": []
    },
    {
      "cell_type": "markdown",
      "metadata": {
        "id": "6VluMgUHNaJT"
      },
      "source": [
        "## Load neural data into memory\n"
      ]
    },
    {
      "cell_type": "markdown",
      "metadata": {
        "id": "a7X3NexHk52M"
      },
      "source": [
        "The cell below will load the neural data into memory in the pandas 'tidy' format by iterating over each of the 6 experiments and using some helpful tools from the `visual_behavior_ophys` module of the `mindscope_utilities` package that was imported above as `ophys`. \n",
        "\n",
        "It will also include a subset of metadata from `ophys_experiment_table` to facilitate splitting by depth, structure (aka cortical area), cre line (aka cell class), etc.\n",
        "\n",
        "Note that 'tidy' data means that each row represents only one observation. Observations are stacked vertically. Thus, the `timestamps` colums will repeat for every cell in the dataset."
      ]
    },
    {
      "cell_type": "code",
      "metadata": {
        "colab": {
          "base_uri": "https://localhost:8080/"
        },
        "id": "PBK4b8tveHFY",
        "outputId": "78166b3e-c312-4672-95e7-c082ebaebb81"
      },
      "source": [
        "neural_data = []\n",
        "for ophys_experiment_id in tqdm(experiments.keys()): #tqdm is a package that shows progress bars for items that are iterated over\n",
        "    this_experiment = experiments[ophys_experiment_id]\n",
        "    this_experiment_neural_data = ophys.build_tidy_cell_df(this_experiment)\n",
        "    \n",
        "    # add some columns with metadata for the experiment\n",
        "    metadata_keys = [\n",
        "        'ophys_experiment_id',\n",
        "        'ophys_session_id',\n",
        "        'targeted_structure',\n",
        "        'imaging_depth',\n",
        "        'equipment_name',\n",
        "        'cre_line',\n",
        "        'mouse_id',\n",
        "        'sex',\n",
        "    ]\n",
        "    for metadata_key in metadata_keys:\n",
        "        this_experiment_neural_data[metadata_key] = this_experiment.metadata[metadata_key]\n",
        "        \n",
        "    # append the data for this experiment to a list\n",
        "    neural_data.append(this_experiment_neural_data)\n",
        "    \n",
        "# concatate the list of dataframes into a single dataframe\n",
        "neural_data = pd.concat(neural_data)"
      ],
      "execution_count": null,
      "outputs": [
        {
          "output_type": "stream",
          "text": [
            "100%|██████████| 6/6 [00:32<00:00,  5.48s/it]\n"
          ],
          "name": "stderr"
        }
      ]
    },
    {
      "cell_type": "markdown",
      "metadata": {
        "id": "UVWZxgjplDxi"
      },
      "source": [
        "We can then look at some attributes of the `neural_data` dataframe we have created.\n",
        "\n",
        "It is ~2.5 million rows long:"
      ]
    },
    {
      "cell_type": "code",
      "metadata": {
        "colab": {
          "base_uri": "https://localhost:8080/"
        },
        "id": "FlRuy7swe3mm",
        "outputId": "39e54a6d-4ea7-4163-8608-4cab507ee371"
      },
      "source": [
        "len(neural_data)"
      ],
      "execution_count": null,
      "outputs": [
        {
          "output_type": "execute_result",
          "data": {
            "text/plain": [
              "2561543"
            ]
          },
          "metadata": {
            "tags": []
          },
          "execution_count": 10
        }
      ]
    },
    {
      "cell_type": "markdown",
      "metadata": {
        "id": "BYWDNmNAlPYw"
      },
      "source": [
        "It is so long because has one row for each timestamp for each cell. \n",
        "\n",
        "Below are the first 5 entries. Again, note that the `tidy` format means that each row has only one observation, which represents a single GCaMP6 fluorescnce value for a single neuron."
      ]
    },
    {
      "cell_type": "code",
      "metadata": {
        "colab": {
          "base_uri": "https://localhost:8080/",
          "height": 309
        },
        "id": "kqDLR0nXfG1e",
        "outputId": "b7459c26-7798-4f02-e302-f72b9e7ed569"
      },
      "source": [
        "neural_data.head()"
      ],
      "execution_count": null,
      "outputs": [
        {
          "output_type": "execute_result",
          "data": {
            "text/html": [
              "<div>\n",
              "<style scoped>\n",
              "    .dataframe tbody tr th:only-of-type {\n",
              "        vertical-align: middle;\n",
              "    }\n",
              "\n",
              "    .dataframe tbody tr th {\n",
              "        vertical-align: top;\n",
              "    }\n",
              "\n",
              "    .dataframe thead th {\n",
              "        text-align: right;\n",
              "    }\n",
              "</style>\n",
              "<table border=\"1\" class=\"dataframe\">\n",
              "  <thead>\n",
              "    <tr style=\"text-align: right;\">\n",
              "      <th></th>\n",
              "      <th>timestamps</th>\n",
              "      <th>cell_roi_id</th>\n",
              "      <th>cell_specimen_id</th>\n",
              "      <th>dff</th>\n",
              "      <th>events</th>\n",
              "      <th>filtered_events</th>\n",
              "      <th>ophys_experiment_id</th>\n",
              "      <th>ophys_session_id</th>\n",
              "      <th>targeted_structure</th>\n",
              "      <th>imaging_depth</th>\n",
              "      <th>equipment_name</th>\n",
              "      <th>cre_line</th>\n",
              "      <th>mouse_id</th>\n",
              "      <th>sex</th>\n",
              "    </tr>\n",
              "  </thead>\n",
              "  <tbody>\n",
              "    <tr>\n",
              "      <th>0</th>\n",
              "      <td>10.52216</td>\n",
              "      <td>1080852071</td>\n",
              "      <td>1086550481</td>\n",
              "      <td>0.400583</td>\n",
              "      <td>0.0</td>\n",
              "      <td>0.0</td>\n",
              "      <td>854759890</td>\n",
              "      <td>854060305</td>\n",
              "      <td>VISp</td>\n",
              "      <td>275</td>\n",
              "      <td>MESO.1</td>\n",
              "      <td>Sst-IRES-Cre</td>\n",
              "      <td>440631</td>\n",
              "      <td>M</td>\n",
              "    </tr>\n",
              "    <tr>\n",
              "      <th>1</th>\n",
              "      <td>10.61538</td>\n",
              "      <td>1080852071</td>\n",
              "      <td>1086550481</td>\n",
              "      <td>0.126125</td>\n",
              "      <td>0.0</td>\n",
              "      <td>0.0</td>\n",
              "      <td>854759890</td>\n",
              "      <td>854060305</td>\n",
              "      <td>VISp</td>\n",
              "      <td>275</td>\n",
              "      <td>MESO.1</td>\n",
              "      <td>Sst-IRES-Cre</td>\n",
              "      <td>440631</td>\n",
              "      <td>M</td>\n",
              "    </tr>\n",
              "    <tr>\n",
              "      <th>2</th>\n",
              "      <td>10.70860</td>\n",
              "      <td>1080852071</td>\n",
              "      <td>1086550481</td>\n",
              "      <td>-0.083087</td>\n",
              "      <td>0.0</td>\n",
              "      <td>0.0</td>\n",
              "      <td>854759890</td>\n",
              "      <td>854060305</td>\n",
              "      <td>VISp</td>\n",
              "      <td>275</td>\n",
              "      <td>MESO.1</td>\n",
              "      <td>Sst-IRES-Cre</td>\n",
              "      <td>440631</td>\n",
              "      <td>M</td>\n",
              "    </tr>\n",
              "    <tr>\n",
              "      <th>3</th>\n",
              "      <td>10.80182</td>\n",
              "      <td>1080852071</td>\n",
              "      <td>1086550481</td>\n",
              "      <td>0.158960</td>\n",
              "      <td>0.0</td>\n",
              "      <td>0.0</td>\n",
              "      <td>854759890</td>\n",
              "      <td>854060305</td>\n",
              "      <td>VISp</td>\n",
              "      <td>275</td>\n",
              "      <td>MESO.1</td>\n",
              "      <td>Sst-IRES-Cre</td>\n",
              "      <td>440631</td>\n",
              "      <td>M</td>\n",
              "    </tr>\n",
              "    <tr>\n",
              "      <th>4</th>\n",
              "      <td>10.89504</td>\n",
              "      <td>1080852071</td>\n",
              "      <td>1086550481</td>\n",
              "      <td>0.301507</td>\n",
              "      <td>0.0</td>\n",
              "      <td>0.0</td>\n",
              "      <td>854759890</td>\n",
              "      <td>854060305</td>\n",
              "      <td>VISp</td>\n",
              "      <td>275</td>\n",
              "      <td>MESO.1</td>\n",
              "      <td>Sst-IRES-Cre</td>\n",
              "      <td>440631</td>\n",
              "      <td>M</td>\n",
              "    </tr>\n",
              "  </tbody>\n",
              "</table>\n",
              "</div>"
            ],
            "text/plain": [
              "   timestamps  cell_roi_id  cell_specimen_id       dff  events  \\\n",
              "0    10.52216   1080852071        1086550481  0.400583     0.0   \n",
              "1    10.61538   1080852071        1086550481  0.126125     0.0   \n",
              "2    10.70860   1080852071        1086550481 -0.083087     0.0   \n",
              "3    10.80182   1080852071        1086550481  0.158960     0.0   \n",
              "4    10.89504   1080852071        1086550481  0.301507     0.0   \n",
              "\n",
              "   filtered_events  ophys_experiment_id  ophys_session_id targeted_structure  \\\n",
              "0              0.0            854759890         854060305               VISp   \n",
              "1              0.0            854759890         854060305               VISp   \n",
              "2              0.0            854759890         854060305               VISp   \n",
              "3              0.0            854759890         854060305               VISp   \n",
              "4              0.0            854759890         854060305               VISp   \n",
              "\n",
              "   imaging_depth equipment_name      cre_line  mouse_id sex  \n",
              "0            275         MESO.1  Sst-IRES-Cre    440631   M  \n",
              "1            275         MESO.1  Sst-IRES-Cre    440631   M  \n",
              "2            275         MESO.1  Sst-IRES-Cre    440631   M  \n",
              "3            275         MESO.1  Sst-IRES-Cre    440631   M  \n",
              "4            275         MESO.1  Sst-IRES-Cre    440631   M  "
            ]
          },
          "metadata": {
            "tags": []
          },
          "execution_count": 11
        }
      ]
    },
    {
      "cell_type": "markdown",
      "metadata": {
        "id": "2glAmOHcXUqL"
      },
      "source": [
        "- The `cell_roi_id` column contains unique roi ids for all cells in a given experiment, which do not repeat across ophys sessions. \n",
        "- The `cell_specimen_id` column contains unique ids for cells that were matched across ophys sessions. Thus, a cell that was imaged in more than one session has multiple roi ids but one cell specimen id. "
      ]
    },
    {
      "cell_type": "markdown",
      "metadata": {
        "id": "L81e1f_nn1UB"
      },
      "source": [
        "# Examine Cell IDs\n",
        "We can get the unique Cell IDs in our dataset as follows:"
      ]
    },
    {
      "cell_type": "code",
      "metadata": {
        "colab": {
          "base_uri": "https://localhost:8080/"
        },
        "id": "2fmU08NcrE1-",
        "outputId": "fe2e9fec-4c16-4f8e-9289-e5042a9d59a2"
      },
      "source": [
        "cell_ids = neural_data['cell_specimen_id'].unique()\n",
        "print('there are {} unique cells'.format(len(cell_ids)))\n",
        "print('cell ids are: {}'.format(cell_ids))"
      ],
      "execution_count": null,
      "outputs": [
        {
          "output_type": "stream",
          "text": [
            "there are 53 unique cells\n",
            "cell ids are: [1086550481 1086551114 1086551301 1086557083 1086557639 1086559064\n",
            " 1086558114 1086558224 1086558510 1086559206 1086557304 1086557208\n",
            " 1086560061 1086559681 1086559885 1086559968 1086557470 1086547796\n",
            " 1086547993 1086548118 1086554566 1086556653 1086558574 1086552296\n",
            " 1086558071 1086556532 1086555222 1086558701 1086557434 1086556317\n",
            " 1086555835 1086549726 1086553836 1086551540 1086551151 1086550544\n",
            " 1086552709 1086553271 1086553602 1086555553 1086548072 1086553899\n",
            " 1086547630 1086549303 1086549491 1086549813 1086549949 1086548658\n",
            " 1086548969 1086551457 1086551645 1086550990 1086551209]\n"
          ],
          "name": "stdout"
        }
      ]
    },
    {
      "cell_type": "markdown",
      "metadata": {
        "id": "INjMP1-flW-p"
      },
      "source": [
        "If we wanted to get the timeseries for one cell, we could query the `neural_data` dataframe. For example, to get the full timeseries for the cell with `cell_specimen_id = 1086557208`:"
      ]
    },
    {
      "cell_type": "code",
      "metadata": {
        "colab": {
          "base_uri": "https://localhost:8080/",
          "height": 309
        },
        "id": "QEq35_lAlmIT",
        "outputId": "f03cc7a2-1d5d-4b5c-c1fe-3a5bd9ed50ad"
      },
      "source": [
        "single_cell_timeseries = neural_data.query('cell_specimen_id == 1086557208')\n",
        "single_cell_timeseries.head()"
      ],
      "execution_count": null,
      "outputs": [
        {
          "output_type": "execute_result",
          "data": {
            "text/html": [
              "<div>\n",
              "<style scoped>\n",
              "    .dataframe tbody tr th:only-of-type {\n",
              "        vertical-align: middle;\n",
              "    }\n",
              "\n",
              "    .dataframe tbody tr th {\n",
              "        vertical-align: top;\n",
              "    }\n",
              "\n",
              "    .dataframe thead th {\n",
              "        text-align: right;\n",
              "    }\n",
              "</style>\n",
              "<table border=\"1\" class=\"dataframe\">\n",
              "  <thead>\n",
              "    <tr style=\"text-align: right;\">\n",
              "      <th></th>\n",
              "      <th>timestamps</th>\n",
              "      <th>cell_roi_id</th>\n",
              "      <th>cell_specimen_id</th>\n",
              "      <th>dff</th>\n",
              "      <th>events</th>\n",
              "      <th>filtered_events</th>\n",
              "      <th>ophys_experiment_id</th>\n",
              "      <th>ophys_session_id</th>\n",
              "      <th>targeted_structure</th>\n",
              "      <th>imaging_depth</th>\n",
              "      <th>equipment_name</th>\n",
              "      <th>cre_line</th>\n",
              "      <th>mouse_id</th>\n",
              "      <th>sex</th>\n",
              "    </tr>\n",
              "  </thead>\n",
              "  <tbody>\n",
              "    <tr>\n",
              "      <th>0</th>\n",
              "      <td>10.52216</td>\n",
              "      <td>1080855724</td>\n",
              "      <td>1086557208</td>\n",
              "      <td>0.218961</td>\n",
              "      <td>0.0</td>\n",
              "      <td>0.0</td>\n",
              "      <td>854759894</td>\n",
              "      <td>854060305</td>\n",
              "      <td>VISp</td>\n",
              "      <td>179</td>\n",
              "      <td>MESO.1</td>\n",
              "      <td>Sst-IRES-Cre</td>\n",
              "      <td>440631</td>\n",
              "      <td>M</td>\n",
              "    </tr>\n",
              "    <tr>\n",
              "      <th>1</th>\n",
              "      <td>10.61538</td>\n",
              "      <td>1080855724</td>\n",
              "      <td>1086557208</td>\n",
              "      <td>0.232865</td>\n",
              "      <td>0.0</td>\n",
              "      <td>0.0</td>\n",
              "      <td>854759894</td>\n",
              "      <td>854060305</td>\n",
              "      <td>VISp</td>\n",
              "      <td>179</td>\n",
              "      <td>MESO.1</td>\n",
              "      <td>Sst-IRES-Cre</td>\n",
              "      <td>440631</td>\n",
              "      <td>M</td>\n",
              "    </tr>\n",
              "    <tr>\n",
              "      <th>2</th>\n",
              "      <td>10.70860</td>\n",
              "      <td>1080855724</td>\n",
              "      <td>1086557208</td>\n",
              "      <td>-0.050186</td>\n",
              "      <td>0.0</td>\n",
              "      <td>0.0</td>\n",
              "      <td>854759894</td>\n",
              "      <td>854060305</td>\n",
              "      <td>VISp</td>\n",
              "      <td>179</td>\n",
              "      <td>MESO.1</td>\n",
              "      <td>Sst-IRES-Cre</td>\n",
              "      <td>440631</td>\n",
              "      <td>M</td>\n",
              "    </tr>\n",
              "    <tr>\n",
              "      <th>3</th>\n",
              "      <td>10.80182</td>\n",
              "      <td>1080855724</td>\n",
              "      <td>1086557208</td>\n",
              "      <td>0.239468</td>\n",
              "      <td>0.0</td>\n",
              "      <td>0.0</td>\n",
              "      <td>854759894</td>\n",
              "      <td>854060305</td>\n",
              "      <td>VISp</td>\n",
              "      <td>179</td>\n",
              "      <td>MESO.1</td>\n",
              "      <td>Sst-IRES-Cre</td>\n",
              "      <td>440631</td>\n",
              "      <td>M</td>\n",
              "    </tr>\n",
              "    <tr>\n",
              "      <th>4</th>\n",
              "      <td>10.89504</td>\n",
              "      <td>1080855724</td>\n",
              "      <td>1086557208</td>\n",
              "      <td>0.226356</td>\n",
              "      <td>0.0</td>\n",
              "      <td>0.0</td>\n",
              "      <td>854759894</td>\n",
              "      <td>854060305</td>\n",
              "      <td>VISp</td>\n",
              "      <td>179</td>\n",
              "      <td>MESO.1</td>\n",
              "      <td>Sst-IRES-Cre</td>\n",
              "      <td>440631</td>\n",
              "      <td>M</td>\n",
              "    </tr>\n",
              "  </tbody>\n",
              "</table>\n",
              "</div>"
            ],
            "text/plain": [
              "   timestamps  cell_roi_id  cell_specimen_id       dff  events  \\\n",
              "0    10.52216   1080855724        1086557208  0.218961     0.0   \n",
              "1    10.61538   1080855724        1086557208  0.232865     0.0   \n",
              "2    10.70860   1080855724        1086557208 -0.050186     0.0   \n",
              "3    10.80182   1080855724        1086557208  0.239468     0.0   \n",
              "4    10.89504   1080855724        1086557208  0.226356     0.0   \n",
              "\n",
              "   filtered_events  ophys_experiment_id  ophys_session_id targeted_structure  \\\n",
              "0              0.0            854759894         854060305               VISp   \n",
              "1              0.0            854759894         854060305               VISp   \n",
              "2              0.0            854759894         854060305               VISp   \n",
              "3              0.0            854759894         854060305               VISp   \n",
              "4              0.0            854759894         854060305               VISp   \n",
              "\n",
              "   imaging_depth equipment_name      cre_line  mouse_id sex  \n",
              "0            179         MESO.1  Sst-IRES-Cre    440631   M  \n",
              "1            179         MESO.1  Sst-IRES-Cre    440631   M  \n",
              "2            179         MESO.1  Sst-IRES-Cre    440631   M  \n",
              "3            179         MESO.1  Sst-IRES-Cre    440631   M  \n",
              "4            179         MESO.1  Sst-IRES-Cre    440631   M  "
            ]
          },
          "metadata": {
            "tags": []
          },
          "execution_count": 13
        }
      ]
    },
    {
      "cell_type": "markdown",
      "metadata": {
        "id": "W6HyNqkRdtuL"
      },
      "source": [
        "Each cell has three types of traces:\n",
        "- `dff` column is the Calcium fluorescence signal, normalized to background fluorescence.\n",
        "- `events` column is deconvolved events from dff trace, which approximates neural firing rate and removes the slow decay of the Calcium signal (for more details, you can read EVENT DETECTION section in [Visual Behavior whitepaper](https://portal.brain-map.org/explore/circuits/visual-behavior-2p)).\n",
        "- `filtered_events` column is events smoothed with a half-gaussian kernel. "
      ]
    },
    {
      "cell_type": "markdown",
      "metadata": {
        "id": "_GyejppnmGTq"
      },
      "source": [
        "We can then plot DeltaF/F for this cell for the full experiment as follows:"
      ]
    },
    {
      "cell_type": "code",
      "metadata": {
        "colab": {
          "base_uri": "https://localhost:8080/",
          "height": 351
        },
        "id": "DCzS8NJel7aG",
        "outputId": "26461d8f-74a7-46f8-b44f-d55efe030b00"
      },
      "source": [
        "fig, ax = plt.subplots(figsize=(15,5))\n",
        "single_cell_timeseries.plot(\n",
        "    x = 'timestamps',\n",
        "    y = 'dff',\n",
        "    ax = ax\n",
        ")"
      ],
      "execution_count": null,
      "outputs": [
        {
          "output_type": "execute_result",
          "data": {
            "text/plain": [
              "<matplotlib.axes._subplots.AxesSubplot at 0x7fc2adbe1a90>"
            ]
          },
          "metadata": {
            "tags": []
          },
          "execution_count": 14
        },
        {
          "output_type": "display_data",
          "data": {
            "image/png": "[encoded data removed]",
            "text/plain": [
              "<Figure size 1080x360 with 1 Axes>"
            ]
          },
          "metadata": {
            "tags": [],
            "needs_background": "light"
          }
        }
      ]
    },
    {
      "cell_type": "markdown",
      "metadata": {
        "id": "dxGdf_w4mNvm"
      },
      "source": [
        "# Load stimulus data into memory\n",
        "The stimulus table is shared across all experiments (imaging planes) in a session. We can therefore use the stimulus table for just one experiment.\n",
        "\n",
        "We are going to drop the `image_set` column because it is not informative for our purposes. We can then view the first 10 rows of the stimulus table."
      ]
    },
    {
      "cell_type": "code",
      "metadata": {
        "colab": {
          "base_uri": "https://localhost:8080/",
          "height": 390
        },
        "id": "qaWD7-uXrCce",
        "outputId": "6f3c5acd-977c-42dd-9708-c6157ea4aa32"
      },
      "source": [
        "stimulus_table = experiments[ophys_experiment_ids[0]].stimulus_presentations.drop(columns = ['image_set']) # dropping the 'image_set' column to avoid confusion. Image_set column contains a unique string for set of images presented in a session.\n",
        "stimulus_table.head(10)"
      ],
      "execution_count": null,
      "outputs": [
        {
          "output_type": "execute_result",
          "data": {
            "text/html": [
              "<div>\n",
              "<style scoped>\n",
              "    .dataframe tbody tr th:only-of-type {\n",
              "        vertical-align: middle;\n",
              "    }\n",
              "\n",
              "    .dataframe tbody tr th {\n",
              "        vertical-align: top;\n",
              "    }\n",
              "\n",
              "    .dataframe thead th {\n",
              "        text-align: right;\n",
              "    }\n",
              "</style>\n",
              "<table border=\"1\" class=\"dataframe\">\n",
              "  <thead>\n",
              "    <tr style=\"text-align: right;\">\n",
              "      <th></th>\n",
              "      <th>duration</th>\n",
              "      <th>end_frame</th>\n",
              "      <th>image_index</th>\n",
              "      <th>image_name</th>\n",
              "      <th>index</th>\n",
              "      <th>omitted</th>\n",
              "      <th>start_frame</th>\n",
              "      <th>start_time</th>\n",
              "      <th>stop_time</th>\n",
              "      <th>is_change</th>\n",
              "    </tr>\n",
              "    <tr>\n",
              "      <th>stimulus_presentations_id</th>\n",
              "      <th></th>\n",
              "      <th></th>\n",
              "      <th></th>\n",
              "      <th></th>\n",
              "      <th></th>\n",
              "      <th></th>\n",
              "      <th></th>\n",
              "      <th></th>\n",
              "      <th></th>\n",
              "      <th></th>\n",
              "    </tr>\n",
              "  </thead>\n",
              "  <tbody>\n",
              "    <tr>\n",
              "      <th>0</th>\n",
              "      <td>0.25021</td>\n",
              "      <td>18001.0</td>\n",
              "      <td>0</td>\n",
              "      <td>im000</td>\n",
              "      <td>0</td>\n",
              "      <td>False</td>\n",
              "      <td>17986</td>\n",
              "      <td>310.55053</td>\n",
              "      <td>310.80074</td>\n",
              "      <td>False</td>\n",
              "    </tr>\n",
              "    <tr>\n",
              "      <th>1</th>\n",
              "      <td>0.25020</td>\n",
              "      <td>18046.0</td>\n",
              "      <td>0</td>\n",
              "      <td>im000</td>\n",
              "      <td>1</td>\n",
              "      <td>False</td>\n",
              "      <td>18031</td>\n",
              "      <td>311.30115</td>\n",
              "      <td>311.55135</td>\n",
              "      <td>False</td>\n",
              "    </tr>\n",
              "    <tr>\n",
              "      <th>2</th>\n",
              "      <td>0.25021</td>\n",
              "      <td>18091.0</td>\n",
              "      <td>0</td>\n",
              "      <td>im000</td>\n",
              "      <td>2</td>\n",
              "      <td>False</td>\n",
              "      <td>18076</td>\n",
              "      <td>312.05179</td>\n",
              "      <td>312.30200</td>\n",
              "      <td>False</td>\n",
              "    </tr>\n",
              "    <tr>\n",
              "      <th>3</th>\n",
              "      <td>0.25020</td>\n",
              "      <td>18136.0</td>\n",
              "      <td>0</td>\n",
              "      <td>im000</td>\n",
              "      <td>3</td>\n",
              "      <td>False</td>\n",
              "      <td>18121</td>\n",
              "      <td>312.80242</td>\n",
              "      <td>313.05262</td>\n",
              "      <td>False</td>\n",
              "    </tr>\n",
              "    <tr>\n",
              "      <th>4</th>\n",
              "      <td>0.25021</td>\n",
              "      <td>18181.0</td>\n",
              "      <td>0</td>\n",
              "      <td>im000</td>\n",
              "      <td>4</td>\n",
              "      <td>False</td>\n",
              "      <td>18166</td>\n",
              "      <td>313.55303</td>\n",
              "      <td>313.80324</td>\n",
              "      <td>False</td>\n",
              "    </tr>\n",
              "    <tr>\n",
              "      <th>5</th>\n",
              "      <td>0.25023</td>\n",
              "      <td>18226.0</td>\n",
              "      <td>0</td>\n",
              "      <td>im000</td>\n",
              "      <td>5</td>\n",
              "      <td>False</td>\n",
              "      <td>18211</td>\n",
              "      <td>314.30362</td>\n",
              "      <td>314.55385</td>\n",
              "      <td>False</td>\n",
              "    </tr>\n",
              "    <tr>\n",
              "      <th>6</th>\n",
              "      <td>0.25020</td>\n",
              "      <td>18271.0</td>\n",
              "      <td>0</td>\n",
              "      <td>im000</td>\n",
              "      <td>6</td>\n",
              "      <td>False</td>\n",
              "      <td>18256</td>\n",
              "      <td>315.05426</td>\n",
              "      <td>315.30446</td>\n",
              "      <td>False</td>\n",
              "    </tr>\n",
              "    <tr>\n",
              "      <th>7</th>\n",
              "      <td>0.25020</td>\n",
              "      <td>18316.0</td>\n",
              "      <td>0</td>\n",
              "      <td>im000</td>\n",
              "      <td>7</td>\n",
              "      <td>False</td>\n",
              "      <td>18301</td>\n",
              "      <td>315.80487</td>\n",
              "      <td>316.05507</td>\n",
              "      <td>False</td>\n",
              "    </tr>\n",
              "    <tr>\n",
              "      <th>8</th>\n",
              "      <td>0.25022</td>\n",
              "      <td>18361.0</td>\n",
              "      <td>0</td>\n",
              "      <td>im000</td>\n",
              "      <td>8</td>\n",
              "      <td>False</td>\n",
              "      <td>18346</td>\n",
              "      <td>316.55547</td>\n",
              "      <td>316.80569</td>\n",
              "      <td>False</td>\n",
              "    </tr>\n",
              "    <tr>\n",
              "      <th>9</th>\n",
              "      <td>0.25017</td>\n",
              "      <td>18406.0</td>\n",
              "      <td>0</td>\n",
              "      <td>im000</td>\n",
              "      <td>9</td>\n",
              "      <td>False</td>\n",
              "      <td>18391</td>\n",
              "      <td>317.30610</td>\n",
              "      <td>317.55627</td>\n",
              "      <td>False</td>\n",
              "    </tr>\n",
              "  </tbody>\n",
              "</table>\n",
              "</div>"
            ],
            "text/plain": [
              "                           duration  end_frame  image_index image_name  index  \\\n",
              "stimulus_presentations_id                                                       \n",
              "0                           0.25021    18001.0            0      im000      0   \n",
              "1                           0.25020    18046.0            0      im000      1   \n",
              "2                           0.25021    18091.0            0      im000      2   \n",
              "3                           0.25020    18136.0            0      im000      3   \n",
              "4                           0.25021    18181.0            0      im000      4   \n",
              "5                           0.25023    18226.0            0      im000      5   \n",
              "6                           0.25020    18271.0            0      im000      6   \n",
              "7                           0.25020    18316.0            0      im000      7   \n",
              "8                           0.25022    18361.0            0      im000      8   \n",
              "9                           0.25017    18406.0            0      im000      9   \n",
              "\n",
              "                           omitted  start_frame  start_time  stop_time  \\\n",
              "stimulus_presentations_id                                                \n",
              "0                            False        17986   310.55053  310.80074   \n",
              "1                            False        18031   311.30115  311.55135   \n",
              "2                            False        18076   312.05179  312.30200   \n",
              "3                            False        18121   312.80242  313.05262   \n",
              "4                            False        18166   313.55303  313.80324   \n",
              "5                            False        18211   314.30362  314.55385   \n",
              "6                            False        18256   315.05426  315.30446   \n",
              "7                            False        18301   315.80487  316.05507   \n",
              "8                            False        18346   316.55547  316.80569   \n",
              "9                            False        18391   317.30610  317.55627   \n",
              "\n",
              "                           is_change  \n",
              "stimulus_presentations_id             \n",
              "0                              False  \n",
              "1                              False  \n",
              "2                              False  \n",
              "3                              False  \n",
              "4                              False  \n",
              "5                              False  \n",
              "6                              False  \n",
              "7                              False  \n",
              "8                              False  \n",
              "9                              False  "
            ]
          },
          "metadata": {
            "tags": []
          },
          "execution_count": 15
        }
      ]
    },
    {
      "cell_type": "code",
      "metadata": {
        "id": "5uujECFhSllz"
      },
      "source": [
        ""
      ],
      "execution_count": null,
      "outputs": []
    }
  ]
}