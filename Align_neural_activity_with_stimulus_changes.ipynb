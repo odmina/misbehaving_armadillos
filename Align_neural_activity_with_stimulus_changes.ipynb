{
  "nbformat": 4,
  "nbformat_minor": 0,
  "metadata": {
    "colab": {
      "name": "Align neural activity with stimulus changes.ipynb",
      "provenance": [],
      "collapsed_sections": [],
      "include_colab_link": true
    },
    "kernelspec": {
      "name": "python3",
      "display_name": "Python 3"
    },
    "language_info": {
      "name": "python"
    }
  },
  "cells": [
    {
      "cell_type": "markdown",
      "metadata": {
        "id": "view-in-github",
        "colab_type": "text"
      },
      "source": [
        "<a href=\"https://colab.research.google.com/github/odmina/misbehaving_armadillos/blob/main/Align_neural_activity_with_stimulus_changes.ipynb\" target=\"_parent\"><img src=\"https://colab.research.google.com/assets/colab-badge.svg\" alt=\"Open In Colab\"/></a>"
      ]
    },
    {
      "cell_type": "markdown",
      "metadata": {
        "id": "I1CeSqXjhY2k"
      },
      "source": [
        "# Overview\n",
        "The following notebook loads data from single behavioral session (one mouse) and one imaging experiment (just one plane) associated with that session to plot stimulus, licks and reward data and neural activity (one selected neuron). "
      ]
    },
    {
      "cell_type": "markdown",
      "metadata": {
        "id": "aT9844s2hkvw"
      },
      "source": [
        "# Set up environment and import packages"
      ]
    },
    {
      "cell_type": "markdown",
      "metadata": {
        "id": "00Maa0v-hvoD"
      },
      "source": [
        "We have built a package called `mindscope_utilities` which contains some useful convenience functions. The `allenSDK` is a dependency of this package and will be automatically installed when you install `mindscope_utilities` per the instrutions below.\n",
        "\n",
        "We will first install `mindscope_utilities` into our colab environment by running the commands below. When this cell is complete, click on the `RESTART RUNTIME` button that appears at the end of the output. Note that running this cell will produce a long list of outputs and some error messages. Clicking `RESTART RUNTIME` at the end will resolve these issues. \n",
        "\n",
        "You can minimize the cell after you are done to hide the output. "
      ]
    },
    {
      "cell_type": "markdown",
      "metadata": {
        "id": "PPF6qq5jLmNL"
      },
      "source": [
        "#### Install necessary packages"
      ]
    },
    {
      "cell_type": "code",
      "metadata": {
        "id": "1Xm2F5-0aIN2",
        "colab": {
          "base_uri": "https://localhost:8080/",
          "height": 1000
        },
        "outputId": "937b52d8-2314-4b35-e3a9-a97772f8e9d9"
      },
      "source": [
        "!python -m pip install --upgrade pip\n",
        "!pip install mindscope_utilities --upgrade"
      ],
      "execution_count": 1,
      "outputs": [
        {
          "output_type": "stream",
          "text": [
            "Collecting pip\n",
            "\u001b[?25l  Downloading https://files.pythonhosted.org/packages/47/ca/f0d790b6e18b3a6f3bd5e80c2ee4edbb5807286c21cdd0862ca933f751dd/pip-21.1.3-py3-none-any.whl (1.5MB)\n",
            "\u001b[K     |████████████████████████████████| 1.6MB 3.9MB/s \n",
            "\u001b[?25hInstalling collected packages: pip\n",
            "  Found existing installation: pip 19.3.1\n",
            "    Uninstalling pip-19.3.1:\n",
            "      Successfully uninstalled pip-19.3.1\n",
            "Successfully installed pip-21.1.3\n",
            "Collecting mindscope_utilities\n",
            "  Downloading mindscope_utilities-0.1.7.tar.gz (7.2 kB)\n",
            "Collecting flake8\n",
            "  Downloading flake8-3.9.2-py2.py3-none-any.whl (73 kB)\n",
            "\u001b[K     |████████████████████████████████| 73 kB 968 kB/s \n",
            "\u001b[?25hRequirement already satisfied: pytest in /usr/local/lib/python3.7/dist-packages (from mindscope_utilities) (3.6.4)\n",
            "Collecting allensdk==2.11.2\n",
            "  Downloading allensdk-2.11.2-py3-none-any.whl (1.7 MB)\n",
            "\u001b[K     |████████████████████████████████| 1.7 MB 5.7 MB/s \n",
            "\u001b[?25hRequirement already satisfied: seaborn<1.0.0 in /usr/local/lib/python3.7/dist-packages (from allensdk==2.11.2->mindscope_utilities) (0.11.1)\n",
            "Requirement already satisfied: scipy<2.0.0,>=1.4.0 in /usr/local/lib/python3.7/dist-packages (from allensdk==2.11.2->mindscope_utilities) (1.4.1)\n",
            "Requirement already satisfied: jinja2<2.12.0,>=2.7.3 in /usr/local/lib/python3.7/dist-packages (from allensdk==2.11.2->mindscope_utilities) (2.11.3)\n",
            "Collecting marshmallow==3.0.0rc6\n",
            "  Downloading marshmallow-3.0.0rc6-py2.py3-none-any.whl (42 kB)\n",
            "\u001b[K     |████████████████████████████████| 42 kB 1.1 MB/s \n",
            "\u001b[?25hRequirement already satisfied: matplotlib<4.0.0,>=1.4.3 in /usr/local/lib/python3.7/dist-packages (from allensdk==2.11.2->mindscope_utilities) (3.2.2)\n",
            "Requirement already satisfied: statsmodels<=0.13.0 in /usr/local/lib/python3.7/dist-packages (from allensdk==2.11.2->mindscope_utilities) (0.10.2)\n",
            "Collecting ndx-events<=0.2.0\n",
            "  Downloading ndx_events-0.2.0-py2.py3-none-any.whl (13 kB)\n",
            "Collecting argschema<3.0.0\n",
            "  Downloading argschema-2.0.2.tar.gz (24 kB)\n",
            "Collecting tables<4.0.0,>=3.6.0\n",
            "  Downloading tables-3.6.1-cp37-cp37m-manylinux1_x86_64.whl (4.3 MB)\n",
            "\u001b[K     |████████████████████████████████| 4.3 MB 14.7 MB/s \n",
            "\u001b[?25hRequirement already satisfied: six<2.0.0,>=1.9.0 in /usr/local/lib/python3.7/dist-packages (from allensdk==2.11.2->mindscope_utilities) (1.15.0)\n",
            "Collecting scikit-build<1.0.0\n",
            "  Downloading scikit_build-0.11.1-py2.py3-none-any.whl (72 kB)\n",
            "\u001b[K     |████████████████████████████████| 72 kB 732 kB/s \n",
            "\u001b[?25hCollecting simplejson<4.0.0,>=3.10.0\n",
            "  Downloading simplejson-3.17.3-cp37-cp37m-manylinux_2_5_x86_64.manylinux1_x86_64.manylinux_2_12_x86_64.manylinux2010_x86_64.whl (129 kB)\n",
            "\u001b[K     |████████████████████████████████| 129 kB 43.5 MB/s \n",
            "\u001b[?25hRequirement already satisfied: future<1.0.0,>=0.14.3 in /usr/local/lib/python3.7/dist-packages (from allensdk==2.11.2->mindscope_utilities) (0.16.0)\n",
            "Collecting h5py<3.0.0,>=2.8\n",
            "  Downloading h5py-2.10.0-cp37-cp37m-manylinux1_x86_64.whl (2.9 MB)\n",
            "\u001b[K     |████████████████████████████████| 2.9 MB 37.9 MB/s \n",
            "\u001b[?25hCollecting aiohttp==3.7.4\n",
            "  Downloading aiohttp-3.7.4-cp37-cp37m-manylinux2014_x86_64.whl (1.3 MB)\n",
            "\u001b[K     |████████████████████████████████| 1.3 MB 28.1 MB/s \n",
            "\u001b[?25hCollecting requests-toolbelt<1.0.0\n",
            "  Downloading requests_toolbelt-0.9.1-py2.py3-none-any.whl (54 kB)\n",
            "\u001b[K     |████████████████████████████████| 54 kB 2.1 MB/s \n",
            "\u001b[?25hRequirement already satisfied: scikit-image<0.17.0,>=0.14.0 in /usr/local/lib/python3.7/dist-packages (from allensdk==2.11.2->mindscope_utilities) (0.16.2)\n",
            "Collecting numpy<1.19.0,>=1.15.4\n",
            "  Downloading numpy-1.18.5-cp37-cp37m-manylinux1_x86_64.whl (20.1 MB)\n",
            "\u001b[K     |████████████████████████████████| 20.1 MB 1.3 MB/s \n",
            "\u001b[?25hCollecting hdmf<2.5.0\n",
            "  Downloading hdmf-2.4.0-py2.py3-none-any.whl (149 kB)\n",
            "\u001b[K     |████████████████████████████████| 149 kB 53.1 MB/s \n",
            "\u001b[?25hCollecting pynwb<2.0.0,>=1.3.2\n",
            "  Downloading pynwb-1.5.1-py2.py3-none-any.whl (98 kB)\n",
            "\u001b[K     |████████████████████████████████| 98 kB 6.9 MB/s \n",
            "\u001b[?25hCollecting glymur==0.8.19\n",
            "  Downloading Glymur-0.8.19.tar.gz (3.4 MB)\n",
            "\u001b[K     |████████████████████████████████| 3.4 MB 36.2 MB/s \n",
            "\u001b[?25hCollecting boto3==1.17.21\n",
            "  Downloading boto3-1.17.21-py2.py3-none-any.whl (130 kB)\n",
            "\u001b[K     |████████████████████████████████| 130 kB 50.3 MB/s \n",
            "\u001b[?25hRequirement already satisfied: tqdm>=4.27 in /usr/local/lib/python3.7/dist-packages (from allensdk==2.11.2->mindscope_utilities) (4.41.1)\n",
            "Requirement already satisfied: semver in /usr/local/lib/python3.7/dist-packages (from allensdk==2.11.2->mindscope_utilities) (2.13.0)\n",
            "Collecting pandas<=0.25.3,>=0.25.1\n",
            "  Downloading pandas-0.25.3-cp37-cp37m-manylinux1_x86_64.whl (10.4 MB)\n",
            "\u001b[K     |████████████████████████████████| 10.4 MB 33.3 MB/s \n",
            "\u001b[?25hCollecting psycopg2-binary<3.0.0,>=2.7\n",
            "  Downloading psycopg2_binary-2.9.1-cp37-cp37m-manylinux_2_17_x86_64.manylinux2014_x86_64.whl (3.4 MB)\n",
            "\u001b[K     |████████████████████████████████| 3.4 MB 22.9 MB/s \n",
            "\u001b[?25hCollecting simpleitk<3.0.0,>=2.0.2\n",
            "  Downloading SimpleITK-2.0.2-cp37-cp37m-manylinux2010_x86_64.whl (47.4 MB)\n",
            "\u001b[K     |████████████████████████████████| 47.4 MB 29 kB/s \n",
            "\u001b[?25hCollecting pynrrd<1.0.0,>=0.2.1\n",
            "  Downloading pynrrd-0.4.2-py2.py3-none-any.whl (18 kB)\n",
            "Collecting xarray<0.16.0\n",
            "  Downloading xarray-0.15.1-py3-none-any.whl (668 kB)\n",
            "\u001b[K     |████████████████████████████████| 668 kB 33.2 MB/s \n",
            "\u001b[?25hCollecting nest-asyncio==1.2.0\n",
            "  Downloading nest_asyncio-1.2.0-py3-none-any.whl (4.5 kB)\n",
            "Requirement already satisfied: requests<3.0.0 in /usr/local/lib/python3.7/dist-packages (from allensdk==2.11.2->mindscope_utilities) (2.23.0)\n",
            "Collecting yarl<2.0,>=1.0\n",
            "  Downloading yarl-1.6.3-cp37-cp37m-manylinux2014_x86_64.whl (294 kB)\n",
            "\u001b[K     |████████████████████████████████| 294 kB 61.6 MB/s \n",
            "\u001b[?25hRequirement already satisfied: chardet<4.0,>=2.0 in /usr/local/lib/python3.7/dist-packages (from aiohttp==3.7.4->allensdk==2.11.2->mindscope_utilities) (3.0.4)\n",
            "Requirement already satisfied: attrs>=17.3.0 in /usr/local/lib/python3.7/dist-packages (from aiohttp==3.7.4->allensdk==2.11.2->mindscope_utilities) (21.2.0)\n",
            "Collecting async-timeout<4.0,>=3.0\n",
            "  Downloading async_timeout-3.0.1-py3-none-any.whl (8.2 kB)\n",
            "Requirement already satisfied: typing-extensions>=3.6.5 in /usr/local/lib/python3.7/dist-packages (from aiohttp==3.7.4->allensdk==2.11.2->mindscope_utilities) (3.7.4.3)\n",
            "Collecting multidict<7.0,>=4.5\n",
            "  Downloading multidict-5.1.0-cp37-cp37m-manylinux2014_x86_64.whl (142 kB)\n",
            "\u001b[K     |████████████████████████████████| 142 kB 46.5 MB/s \n",
            "\u001b[?25hCollecting jmespath<1.0.0,>=0.7.1\n",
            "  Downloading jmespath-0.10.0-py2.py3-none-any.whl (24 kB)\n",
            "Collecting botocore<1.21.0,>=1.20.21\n",
            "  Downloading botocore-1.20.112-py2.py3-none-any.whl (7.7 MB)\n",
            "\u001b[K     |████████████████████████████████| 7.7 MB 32.1 MB/s \n",
            "\u001b[?25hCollecting s3transfer<0.4.0,>=0.3.0\n",
            "  Downloading s3transfer-0.3.7-py2.py3-none-any.whl (73 kB)\n",
            "\u001b[K     |████████████████████████████████| 73 kB 1.8 MB/s \n",
            "\u001b[?25hRequirement already satisfied: setuptools in /usr/local/lib/python3.7/dist-packages (from glymur==0.8.19->allensdk==2.11.2->mindscope_utilities) (57.0.0)\n",
            "Collecting urllib3<1.27,>=1.25.4\n",
            "  Downloading urllib3-1.26.6-py2.py3-none-any.whl (138 kB)\n",
            "\u001b[K     |████████████████████████████████| 138 kB 59.4 MB/s \n",
            "\u001b[?25hRequirement already satisfied: python-dateutil<3.0.0,>=2.1 in /usr/local/lib/python3.7/dist-packages (from botocore<1.21.0,>=1.20.21->boto3==1.17.21->allensdk==2.11.2->mindscope_utilities) (2.8.1)\n",
            "Collecting ruamel.yaml<1,>=0.15\n",
            "  Downloading ruamel.yaml-0.17.10-py3-none-any.whl (108 kB)\n",
            "\u001b[K     |████████████████████████████████| 108 kB 63.8 MB/s \n",
            "\u001b[?25hRequirement already satisfied: jsonschema<4,>=2.6.0 in /usr/local/lib/python3.7/dist-packages (from hdmf<2.5.0->allensdk==2.11.2->mindscope_utilities) (2.6.0)\n",
            "Requirement already satisfied: MarkupSafe>=0.23 in /usr/local/lib/python3.7/dist-packages (from jinja2<2.12.0,>=2.7.3->allensdk==2.11.2->mindscope_utilities) (2.0.1)\n",
            "Requirement already satisfied: cycler>=0.10 in /usr/local/lib/python3.7/dist-packages (from matplotlib<4.0.0,>=1.4.3->allensdk==2.11.2->mindscope_utilities) (0.10.0)\n",
            "Requirement already satisfied: pyparsing!=2.0.4,!=2.1.2,!=2.1.6,>=2.0.1 in /usr/local/lib/python3.7/dist-packages (from matplotlib<4.0.0,>=1.4.3->allensdk==2.11.2->mindscope_utilities) (2.4.7)\n",
            "Requirement already satisfied: kiwisolver>=1.0.1 in /usr/local/lib/python3.7/dist-packages (from matplotlib<4.0.0,>=1.4.3->allensdk==2.11.2->mindscope_utilities) (1.3.1)\n",
            "Requirement already satisfied: pytz>=2017.2 in /usr/local/lib/python3.7/dist-packages (from pandas<=0.25.3,>=0.25.1->allensdk==2.11.2->mindscope_utilities) (2018.9)\n",
            "Collecting pynwb<2.0.0,>=1.3.2\n",
            "  Downloading pynwb-1.5.0-py2.py3-none-any.whl (98 kB)\n",
            "\u001b[K     |████████████████████████████████| 98 kB 7.0 MB/s \n",
            "\u001b[?25h  Downloading pynwb-1.4.0-py2.py3-none-any.whl (94 kB)\n",
            "\u001b[K     |████████████████████████████████| 94 kB 2.5 MB/s \n",
            "\u001b[?25hRequirement already satisfied: certifi>=2017.4.17 in /usr/local/lib/python3.7/dist-packages (from requests<3.0.0->allensdk==2.11.2->mindscope_utilities) (2021.5.30)\n",
            "Requirement already satisfied: idna<3,>=2.5 in /usr/local/lib/python3.7/dist-packages (from requests<3.0.0->allensdk==2.11.2->mindscope_utilities) (2.10)\n",
            "Collecting urllib3<1.27,>=1.25.4\n",
            "  Downloading urllib3-1.25.11-py2.py3-none-any.whl (127 kB)\n",
            "\u001b[K     |████████████████████████████████| 127 kB 51.3 MB/s \n",
            "\u001b[?25hCollecting ruamel.yaml.clib>=0.1.2\n",
            "  Downloading ruamel.yaml.clib-0.2.6-cp37-cp37m-manylinux1_x86_64.whl (546 kB)\n",
            "\u001b[K     |████████████████████████████████| 546 kB 47.0 MB/s \n",
            "\u001b[?25hRequirement already satisfied: packaging in /usr/local/lib/python3.7/dist-packages (from scikit-build<1.0.0->allensdk==2.11.2->mindscope_utilities) (20.9)\n",
            "Requirement already satisfied: wheel>=0.29.0 in /usr/local/lib/python3.7/dist-packages (from scikit-build<1.0.0->allensdk==2.11.2->mindscope_utilities) (0.36.2)\n",
            "Collecting distro\n",
            "  Downloading distro-1.5.0-py2.py3-none-any.whl (18 kB)\n",
            "Requirement already satisfied: PyWavelets>=0.4.0 in /usr/local/lib/python3.7/dist-packages (from scikit-image<0.17.0,>=0.14.0->allensdk==2.11.2->mindscope_utilities) (1.1.1)\n",
            "Requirement already satisfied: imageio>=2.3.0 in /usr/local/lib/python3.7/dist-packages (from scikit-image<0.17.0,>=0.14.0->allensdk==2.11.2->mindscope_utilities) (2.4.1)\n",
            "Requirement already satisfied: networkx>=2.0 in /usr/local/lib/python3.7/dist-packages (from scikit-image<0.17.0,>=0.14.0->allensdk==2.11.2->mindscope_utilities) (2.5.1)\n",
            "Requirement already satisfied: pillow>=4.3.0 in /usr/local/lib/python3.7/dist-packages (from scikit-image<0.17.0,>=0.14.0->allensdk==2.11.2->mindscope_utilities) (7.1.2)\n",
            "Requirement already satisfied: decorator<5,>=4.3 in /usr/local/lib/python3.7/dist-packages (from networkx>=2.0->scikit-image<0.17.0,>=0.14.0->allensdk==2.11.2->mindscope_utilities) (4.4.2)\n",
            "Requirement already satisfied: patsy>=0.4.0 in /usr/local/lib/python3.7/dist-packages (from statsmodels<=0.13.0->allensdk==2.11.2->mindscope_utilities) (0.5.1)\n",
            "Requirement already satisfied: numexpr>=2.6.2 in /usr/local/lib/python3.7/dist-packages (from tables<4.0.0,>=3.6.0->allensdk==2.11.2->mindscope_utilities) (2.7.3)\n",
            "Collecting pyflakes<2.4.0,>=2.3.0\n",
            "  Downloading pyflakes-2.3.1-py2.py3-none-any.whl (68 kB)\n",
            "\u001b[K     |████████████████████████████████| 68 kB 5.8 MB/s \n",
            "\u001b[?25hCollecting mccabe<0.7.0,>=0.6.0\n",
            "  Downloading mccabe-0.6.1-py2.py3-none-any.whl (8.6 kB)\n",
            "Collecting pycodestyle<2.8.0,>=2.7.0\n",
            "  Downloading pycodestyle-2.7.0-py2.py3-none-any.whl (41 kB)\n",
            "\u001b[K     |████████████████████████████████| 41 kB 348 kB/s \n",
            "\u001b[?25hRequirement already satisfied: importlib-metadata in /usr/local/lib/python3.7/dist-packages (from flake8->mindscope_utilities) (4.6.0)\n",
            "Requirement already satisfied: zipp>=0.5 in /usr/local/lib/python3.7/dist-packages (from importlib-metadata->flake8->mindscope_utilities) (3.4.1)\n",
            "Requirement already satisfied: more-itertools>=4.0.0 in /usr/local/lib/python3.7/dist-packages (from pytest->mindscope_utilities) (8.8.0)\n",
            "Requirement already satisfied: py>=1.5.0 in /usr/local/lib/python3.7/dist-packages (from pytest->mindscope_utilities) (1.10.0)\n",
            "Requirement already satisfied: atomicwrites>=1.0 in /usr/local/lib/python3.7/dist-packages (from pytest->mindscope_utilities) (1.4.0)\n",
            "Requirement already satisfied: pluggy<0.8,>=0.5 in /usr/local/lib/python3.7/dist-packages (from pytest->mindscope_utilities) (0.7.1)\n",
            "Building wheels for collected packages: mindscope-utilities, glymur, argschema\n",
            "  Building wheel for mindscope-utilities (setup.py) ... \u001b[?25l\u001b[?25hdone\n",
            "  Created wheel for mindscope-utilities: filename=mindscope_utilities-0.1.7-py3-none-any.whl size=7805 sha256=b1167af090cf48b7d1f43d2825804c3552847568def7de898de61a076c21606c\n",
            "  Stored in directory: /root/.cache/pip/wheels/ce/5a/03/2ad18634102c4027f28fd15e3f47f6b46883879e3d47aa6dff\n",
            "  Building wheel for glymur (setup.py) ... \u001b[?25l\u001b[?25hdone\n",
            "  Created wheel for glymur: filename=Glymur-0.8.19-py3-none-any.whl size=2722014 sha256=0221d662ad9f15c017a6ac496843c7c6d54f0ba849f30363941f8c822c592dee\n",
            "  Stored in directory: /root/.cache/pip/wheels/36/bc/bd/1786279b44db4cbd6ded18090d02978fc31e78e3e516551bb4\n",
            "  Building wheel for argschema (setup.py) ... \u001b[?25l\u001b[?25hdone\n",
            "  Created wheel for argschema: filename=argschema-2.0.2-py2.py3-none-any.whl size=17795 sha256=5bb697428d07025e199f1095a160d1b0b2af08f38893f4af2ac206fe080680ed\n",
            "  Stored in directory: /root/.cache/pip/wheels/ee/97/a8/4dbf0458be0af473d083a6354c0c126490e82447237bb0b907\n",
            "Successfully built mindscope-utilities glymur argschema\n",
            "Installing collected packages: ruamel.yaml.clib, numpy, urllib3, ruamel.yaml, pandas, jmespath, h5py, multidict, hdmf, botocore, yarl, s3transfer, pynwb, marshmallow, distro, async-timeout, xarray, tables, simplejson, simpleitk, scikit-build, requests-toolbelt, pynrrd, pyflakes, pycodestyle, psycopg2-binary, nest-asyncio, ndx-events, mccabe, glymur, boto3, argschema, aiohttp, flake8, allensdk, mindscope-utilities\n",
            "  Attempting uninstall: numpy\n",
            "    Found existing installation: numpy 1.19.5\n",
            "    Uninstalling numpy-1.19.5:\n",
            "      Successfully uninstalled numpy-1.19.5\n",
            "  Attempting uninstall: urllib3\n",
            "    Found existing installation: urllib3 1.24.3\n",
            "    Uninstalling urllib3-1.24.3:\n",
            "      Successfully uninstalled urllib3-1.24.3\n",
            "  Attempting uninstall: pandas\n",
            "    Found existing installation: pandas 1.1.5\n",
            "    Uninstalling pandas-1.1.5:\n",
            "      Successfully uninstalled pandas-1.1.5\n",
            "  Attempting uninstall: h5py\n",
            "    Found existing installation: h5py 3.1.0\n",
            "    Uninstalling h5py-3.1.0:\n",
            "      Successfully uninstalled h5py-3.1.0\n",
            "  Attempting uninstall: xarray\n",
            "    Found existing installation: xarray 0.18.2\n",
            "    Uninstalling xarray-0.18.2:\n",
            "      Successfully uninstalled xarray-0.18.2\n",
            "  Attempting uninstall: tables\n",
            "    Found existing installation: tables 3.4.4\n",
            "    Uninstalling tables-3.4.4:\n",
            "      Successfully uninstalled tables-3.4.4\n",
            "  Attempting uninstall: nest-asyncio\n",
            "    Found existing installation: nest-asyncio 1.5.1\n",
            "    Uninstalling nest-asyncio-1.5.1:\n",
            "      Successfully uninstalled nest-asyncio-1.5.1\n",
            "\u001b[31mERROR: pip's dependency resolver does not currently take into account all the packages that are installed. This behaviour is the source of the following dependency conflicts.\n",
            "tensorflow 2.5.0 requires h5py~=3.1.0, but you have h5py 2.10.0 which is incompatible.\n",
            "tensorflow 2.5.0 requires numpy~=1.19.2, but you have numpy 1.18.5 which is incompatible.\n",
            "nbclient 0.5.3 requires jupyter-client>=6.1.5, but you have jupyter-client 5.3.5 which is incompatible.\n",
            "google-colab 1.0.0 requires pandas~=1.1.0; python_version >= \"3.0\", but you have pandas 0.25.3 which is incompatible.\n",
            "fbprophet 0.7.1 requires pandas>=1.0.4, but you have pandas 0.25.3 which is incompatible.\n",
            "datascience 0.10.6 requires folium==0.2.1, but you have folium 0.8.3 which is incompatible.\n",
            "arviz 0.11.2 requires xarray>=0.16.1, but you have xarray 0.15.1 which is incompatible.\n",
            "albumentations 0.1.12 requires imgaug<0.2.7,>=0.2.5, but you have imgaug 0.2.9 which is incompatible.\u001b[0m\n",
            "Successfully installed aiohttp-3.7.4 allensdk-2.11.2 argschema-2.0.2 async-timeout-3.0.1 boto3-1.17.21 botocore-1.20.112 distro-1.5.0 flake8-3.9.2 glymur-0.8.19 h5py-2.10.0 hdmf-2.4.0 jmespath-0.10.0 marshmallow-3.0.0rc6 mccabe-0.6.1 mindscope-utilities-0.1.7 multidict-5.1.0 ndx-events-0.2.0 nest-asyncio-1.2.0 numpy-1.18.5 pandas-0.25.3 psycopg2-binary-2.9.1 pycodestyle-2.7.0 pyflakes-2.3.1 pynrrd-0.4.2 pynwb-1.4.0 requests-toolbelt-0.9.1 ruamel.yaml-0.17.10 ruamel.yaml.clib-0.2.6 s3transfer-0.3.7 scikit-build-0.11.1 simpleitk-2.0.2 simplejson-3.17.3 tables-3.6.1 urllib3-1.25.11 xarray-0.15.1 yarl-1.6.3\n",
            "\u001b[33mWARNING: Running pip as the 'root' user can result in broken permissions and conflicting behaviour with the system package manager. It is recommended to use a virtual environment instead: https://pip.pypa.io/warnings/venv\u001b[0m\n"
          ],
          "name": "stdout"
        },
        {
          "output_type": "display_data",
          "data": {
            "application/vnd.colab-display-data+json": {
              "pip_warning": {
                "packages": [
                  "numpy",
                  "pandas"
                ]
              }
            }
          },
          "metadata": {
            "tags": []
          }
        }
      ]
    },
    {
      "cell_type": "markdown",
      "metadata": {
        "id": "0iT7O4WaiYAH"
      },
      "source": [
        "#### Next we will import packages we need later in the notebook"
      ]
    },
    {
      "cell_type": "code",
      "metadata": {
        "id": "cgFHDxOcaJut"
      },
      "source": [
        "import os\n",
        "import numpy as np\n",
        "import pandas as pd\n",
        "from tqdm import tqdm\n",
        "import seaborn as sns\n",
        "import matplotlib.pyplot as plt\n",
        "\n",
        "import mindscope_utilities\n",
        "import mindscope_utilities.visual_behavior_ophys as ophys\n",
        "\n",
        "from allensdk.brain_observatory.behavior.behavior_project_cache import VisualBehaviorOphysProjectCache\n",
        "\n",
        "pd.set_option('display.max_columns', 500)"
      ],
      "execution_count": 107,
      "outputs": []
    },
    {
      "cell_type": "markdown",
      "metadata": {
        "id": "FjFtKoQ2id_6"
      },
      "source": [
        "# Load the session and experiment summary tables\n",
        "\n",
        "We download the data cache:\n",
        "\n",
        "- `ophys_session_table` contains data describing imaging sessions - one session can contain more than one imaging experiment (more than one plane), and not all behavioral session are accompanied by imaging. contains metadata describing imaging sessions. If more than one plane was imaged during a session, one ophys session id will be associated multiple *ophys experiment ids*. Each ophys session id will also have a unique *behavior session id*\n",
        "- `behavior_session_table` contains metadata describing behavioral sessions, which may or may not be during imaging. Behavior session ids that do not have *ophys session ids* were training sessions\n",
        "- `ophys_experiment_table` contains metadata describing imaging experiments (aka imaging planes). When mesoscope is used, one ophys session may contain up to 8 unique experiments (two visual areas by four imaging depths). Some imaging planes may not be released due to quality control issues, thus each ophys session id is associated with anywhere from one to eight unique *experiment ids*. Ophys experiment ids are unique and do not repeat across sessions. To find the same imaging plane that was matched across multiple sessions, use the *ophys_container_id* column that can be found in both ophys_session_table and ophys_experiment_table"
      ]
    },
    {
      "cell_type": "code",
      "metadata": {
        "id": "pvamvtoUbWTR"
      },
      "source": [
        "data_storage_directory = \"/temp\" # Note: this path must exist on your local drive\n",
        "cache = VisualBehaviorOphysProjectCache.from_s3_cache(cache_dir=data_storage_directory)"
      ],
      "execution_count": 108,
      "outputs": []
    },
    {
      "cell_type": "markdown",
      "metadata": {
        "id": "XL5LV5fti5tc"
      },
      "source": [
        "Then we can access the session and experiment tables directly.\n",
        "\n",
        "Note that a 'session' is a single behavioral session. Sessions that are performed on the mesoscope will have multiple (up to 8) 'experiments' associated with them, where an experiment is a distinct imaging plane. "
      ]
    },
    {
      "cell_type": "code",
      "metadata": {
        "id": "pOCbdeNbd7w8"
      },
      "source": [
        "session_table = cache.get_ophys_session_table()\n",
        "experiment_table = cache.get_ophys_experiment_table()\n",
        "behavior_session_table = cache.get_behavior_session_table()"
      ],
      "execution_count": 109,
      "outputs": []
    },
    {
      "cell_type": "markdown",
      "metadata": {
        "id": "jUguZ4QGjQF7"
      },
      "source": [
        "We can then view the contents of the session table. Note that this contains a lot of useful metadata about each session. One of the columns, `ophys_experiment_id` provides a list of the experiments (aka imaging planes) that are associated with each session."
      ]
    },
    {
      "cell_type": "markdown",
      "metadata": {
        "id": "ai6Fuk4RbH8Z"
      },
      "source": [
        "# EXTRACT AND AVERAGE ACTIVITY OF ALL THE CELLS IN THE SESSION\n"
      ]
    },
    {
      "cell_type": "markdown",
      "metadata": {
        "id": "nu0ZivXfrzXT"
      },
      "source": [
        "### Make a dictionary of experiments in one session"
      ]
    },
    {
      "cell_type": "code",
      "metadata": {
        "id": "zWiK9667ryhq"
      },
      "source": [
        "def session_experiments(ophys_session_id):\n",
        "  experiments = {}\n",
        "  ophys_experiment_ids = session_table.loc[ophys_session_id]['ophys_experiment_id']\n",
        "  for ophys_experiment_id in ophys_experiment_ids:\n",
        "    experiments[ophys_experiment_id] = cache.get_behavior_ophys_experiment(ophys_experiment_id)\n",
        "  return experiments"
      ],
      "execution_count": 110,
      "outputs": []
    },
    {
      "cell_type": "markdown",
      "metadata": {
        "id": "1spAdQsKsnNJ"
      },
      "source": [
        "### Make a neural data dataset for one session"
      ]
    },
    {
      "cell_type": "code",
      "metadata": {
        "id": "7nnZxXzVq2yP"
      },
      "source": [
        "def session_neural_data(this_session_experiments):\n",
        "  neural_data = []\n",
        "  for ophys_experiment_id in tqdm(this_session_experiments.keys()): #tqdm is a package that shows progress bars for items that are iterated over\n",
        "    this_experiment = this_session_experiments[ophys_experiment_id]\n",
        "    this_experiment_neural_data = ophys.build_tidy_cell_df(this_experiment)\n",
        "    \n",
        "    # add some columns with metadata for the experiment\n",
        "    metadata_keys = [\n",
        "        'ophys_experiment_id',\n",
        "        'ophys_session_id',\n",
        "        'targeted_structure',\n",
        "        'imaging_depth',\n",
        "        'equipment_name',\n",
        "        'cre_line',\n",
        "        'mouse_id',\n",
        "        'sex',\n",
        "    ]\n",
        "    for metadata_key in metadata_keys:\n",
        "        this_experiment_neural_data[metadata_key] = this_experiment.metadata[metadata_key]\n",
        "        \n",
        "    # append the data for this experiment to a list\n",
        "    neural_data.append(this_experiment_neural_data)\n",
        "    \n",
        "  # concatate the list of dataframes into a single dataframe\n",
        "  neural_data = pd.concat(neural_data)\n",
        "  \n",
        "  return neural_data"
      ],
      "execution_count": 111,
      "outputs": []
    },
    {
      "cell_type": "markdown",
      "metadata": {
        "id": "cOoVNIqKt9N4"
      },
      "source": [
        "### Make a session dictionary including a list of experiments and a dataframe with neural data"
      ]
    },
    {
      "cell_type": "code",
      "metadata": {
        "id": "Gl6Ciw0duD6m"
      },
      "source": [
        "def make_session_dictionary_entry(ophys_session_id):\n",
        "  this_session_experiments = session_experiments(ophys_session_id) #creates a dictionary of experiments in the session (experiment_id as a key)\n",
        "  this_session_neural_data = session_neural_data(this_session_experiments)\n",
        "  return [this_session_experiments, this_session_neural_data]"
      ],
      "execution_count": 112,
      "outputs": []
    },
    {
      "cell_type": "markdown",
      "metadata": {
        "id": "iTHZyukxroxX"
      },
      "source": [
        "### Extract data for one cell and align it with event times"
      ]
    },
    {
      "cell_type": "code",
      "metadata": {
        "id": "CnxbUx1lbcZc"
      },
      "source": [
        "def align_cell_with_event(ophys_session_id, ophys_experiment_id, cell_specimen_id, window_width = 3, session_dictionary = session_dictionary):\n",
        "  #the function requires neural data for all the experiments in the session and a dictionary with experiments ids\n",
        "\n",
        "  #identify experiment & corresponding neural data\n",
        "  this_experiment = session_dictionary[ophys_session_id][0][ophys_experiment_id]\n",
        "  neural_data = session_dictionary[ophys_session_id][1]\n",
        "\n",
        "  # extract hits\n",
        "  etr_hit = mindscope_utilities.event_triggered_response(\n",
        "    data = neural_data.query('ophys_experiment_id == @ophys_experiment_id and cell_specimen_id == @cell_specimen_id'),\n",
        "    t = 'timestamps',\n",
        "    y = 'dff',\n",
        "    event_times = this_experiment.trials.query('hit')['change_time'],\n",
        "    t_before=window_width,\n",
        "    t_after=window_width,\n",
        "    output_sampling_rate = 50,\n",
        "  )\n",
        "  # add hit indicator\n",
        "  etr_hit['hit_miss'] = 'hit'\n",
        "\n",
        "  # extract misses\n",
        "  etr_miss = mindscope_utilities.event_triggered_response(\n",
        "    data = neural_data.query('ophys_experiment_id == @ophys_experiment_id and cell_specimen_id == @cell_specimen_id'),\n",
        "    t = 'timestamps',\n",
        "    y = 'dff',\n",
        "    event_times = this_experiment.trials.query('miss')['change_time'],\n",
        "    t_before=window_width,\n",
        "    t_after=window_width,\n",
        "    output_sampling_rate = 50,\n",
        "  )\n",
        "  # add miss indicator\n",
        "  etr_miss['hit_miss'] = 'miss'\n",
        "\n",
        "  #concatenate\n",
        "  etr = pd.concat([etr_hit, etr_miss])\n",
        "\n",
        "  #add session and cell specimen id, metadata\n",
        "  etr['ophys_session_id'] = ophys_session_id\n",
        "  etr['ophys_experiment_id'] = ophys_experiment_id  \n",
        "  etr['cell_specimen_id'] = cell_specimen_id\n",
        "  etr['cell_roi_id'] = this_experiment.dff_traces.loc[cell_specimen_id]['cell_roi_id']\n",
        "  etr['cre_line'] = this_experiment.metadata['cre_line']\n",
        "  etr['imaging_depth'] = this_experiment.metadata['imaging_depth']\n",
        "  etr['mouse_id'] = this_experiment.metadata['mouse_id']\n",
        "  etr['sex'] = this_experiment.metadata['sex']\n",
        "\n",
        "  return etr"
      ],
      "execution_count": 125,
      "outputs": []
    },
    {
      "cell_type": "markdown",
      "metadata": {
        "id": "lYZNXfizWiYK"
      },
      "source": [
        "### Get cells from one session"
      ]
    },
    {
      "cell_type": "code",
      "metadata": {
        "id": "0S-40uLPWgTr"
      },
      "source": [
        "def get_cells_from_session(ophys_session_id, session_dictionary = session_dictionary):\n",
        "  ophys_experiment_ids = list(session_dictionary[ophys_session_id][0].keys())\n",
        "\n",
        "  aligned_cells = []\n",
        "  for ophys_experiment_id in ophys_experiment_ids:\n",
        "    cells_specimen_ids = session_dictionary[ophys_session_id][0][ophys_experiment_id].dff_traces.index\n",
        "    for cell_specimen_id in cells_specimen_ids:\n",
        "      print('Session:', ophys_session_id, 'Experiment:', ophys_experiment_id, 'Cell:', cell_specimen_id)\n",
        "      this_cell = align_cell_with_event(ophys_session_id, ophys_experiment_id, cell_specimen_id)\n",
        "      aligned_cells.append(this_cell)\n",
        "  \n",
        "  aligned_cells = pd.concat(aligned_cells)\n",
        "\n",
        "  return aligned_cells"
      ],
      "execution_count": 114,
      "outputs": []
    },
    {
      "cell_type": "code",
      "metadata": {
        "colab": {
          "base_uri": "https://localhost:8080/"
        },
        "id": "JAsVdGFLY5mk",
        "outputId": "34b8ef18-19e7-4b20-cb4d-2f180282c396"
      },
      "source": [
        "ophys_session_ids = [993727065, 954981981, 992232718, 977726123, 1010159622, 1000580083, 982431228]\n",
        "session_dictionary = {}\n",
        "for ophys_session_id in ophys_session_ids:\n",
        "  session_dictionary[ophys_session_id] = make_session_dictionary_entry(ophys_session_id)\n",
        "\n"
      ],
      "execution_count": 115,
      "outputs": [
        {
          "output_type": "stream",
          "text": [
            "100%|██████████| 1/1 [00:09<00:00,  9.21s/it]\n",
            "100%|██████████| 1/1 [00:09<00:00,  9.14s/it]\n",
            "100%|██████████| 1/1 [00:09<00:00,  9.80s/it]\n",
            "100%|██████████| 1/1 [00:06<00:00,  6.32s/it]\n",
            "100%|██████████| 1/1 [00:07<00:00,  7.43s/it]\n",
            "100%|██████████| 1/1 [00:07<00:00,  7.05s/it]\n",
            "100%|██████████| 1/1 [00:05<00:00,  5.95s/it]\n"
          ],
          "name": "stderr"
        }
      ]
    },
    {
      "cell_type": "code",
      "metadata": {
        "colab": {
          "base_uri": "https://localhost:8080/"
        },
        "id": "b6xh2Mh-oqu9",
        "outputId": "5be97313-3d37-4a19-dd88-c55533e8f5b8"
      },
      "source": [
        "session_dictionary.keys()"
      ],
      "execution_count": 116,
      "outputs": [
        {
          "output_type": "execute_result",
          "data": {
            "text/plain": [
              "dict_keys([993727065, 954981981, 992232718, 977726123, 1010159622, 1000580083, 982431228])"
            ]
          },
          "metadata": {
            "tags": []
          },
          "execution_count": 116
        }
      ]
    },
    {
      "cell_type": "code",
      "metadata": {
        "id": "AAPI2Gsyx8EY",
        "outputId": "2a4dccb8-5acd-40db-efff-19bd2ebfde31",
        "colab": {
          "base_uri": "https://localhost:8080/"
        }
      },
      "source": [
        "ophys_session_id = ophys_session_ids[4]\n",
        "my_cells = get_cells_from_session(ophys_session_id)"
      ],
      "execution_count": 120,
      "outputs": [
        {
          "output_type": "stream",
          "text": [
            "Session: 1010159622 Experiment: 1010256573 Cell: 1086500583\n",
            "Session: 1010159622 Experiment: 1010256573 Cell: 1086500807\n",
            "Session: 1010159622 Experiment: 1010256573 Cell: 1086501072\n",
            "Session: 1010159622 Experiment: 1010256573 Cell: 1086501262\n",
            "Session: 1010159622 Experiment: 1010256573 Cell: 1086501360\n",
            "Session: 1010159622 Experiment: 1010256573 Cell: 1086501675\n",
            "Session: 1010159622 Experiment: 1010256573 Cell: 1086502269\n"
          ],
          "name": "stdout"
        }
      ]
    },
    {
      "cell_type": "code",
      "metadata": {
        "colab": {
          "base_uri": "https://localhost:8080/",
          "height": 905
        },
        "id": "8bdttWqUlWSt",
        "outputId": "ee5fbdc4-c170-45a4-daae-ac97c1cebf9d"
      },
      "source": [
        "my_cells = []\n",
        "for ophys_session_id in ophys_session_ids:\n",
        "  this_cells = get_cells_from_session(ophys_session_id)\n",
        "  my_cells = []\n",
        "  print(type(my_cells))\n",
        "  #print(len(this_cells))\n",
        "  #print(this_cells.keys())\n",
        "\n",
        "my_cells = pd.concat(my_cells)"
      ],
      "execution_count": 130,
      "outputs": [
        {
          "output_type": "stream",
          "text": [
            "Session: 993727065 Experiment: 993862620 Cell: 1086496500\n",
            "Session: 993727065 Experiment: 993862620 Cell: 1086496689\n",
            "Session: 993727065 Experiment: 993862620 Cell: 1086497129\n",
            "Session: 993727065 Experiment: 993862620 Cell: 1086497550\n",
            "Session: 993727065 Experiment: 993862620 Cell: 1086500812\n",
            "Session: 993727065 Experiment: 993862620 Cell: 1086497908\n",
            "Session: 993727065 Experiment: 993862620 Cell: 1086498071\n",
            "Session: 993727065 Experiment: 993862620 Cell: 1086498205\n",
            "Session: 993727065 Experiment: 993862620 Cell: 1086498334\n",
            "Session: 993727065 Experiment: 993862620 Cell: 1086498461\n",
            "Session: 993727065 Experiment: 993862620 Cell: 1086498820\n",
            "Session: 993727065 Experiment: 993862620 Cell: 1086498977\n",
            "Session: 993727065 Experiment: 993862620 Cell: 1086499259\n",
            "Session: 993727065 Experiment: 993862620 Cell: 1086499316\n",
            "Session: 993727065 Experiment: 993862620 Cell: 1086499479\n",
            "Session: 993727065 Experiment: 993862620 Cell: 1086499910\n",
            "Session: 993727065 Experiment: 993862620 Cell: 1086500121\n",
            "Session: 993727065 Experiment: 993862620 Cell: 1086500281\n",
            "<class 'NoneType'>\n",
            "Session: 954981981 Experiment: 955276580 Cell: 1086490519\n",
            "Session: 954981981 Experiment: 955276580 Cell: 1086490561\n",
            "Session: 954981981 Experiment: 955276580 Cell: 1086490598\n",
            "Session: 954981981 Experiment: 955276580 Cell: 1086490636\n",
            "Session: 954981981 Experiment: 955276580 Cell: 1086490697\n",
            "Session: 954981981 Experiment: 955276580 Cell: 1086490748\n",
            "Session: 954981981 Experiment: 955276580 Cell: 1086490784\n",
            "Session: 954981981 Experiment: 955276580 Cell: 1086490867\n",
            "Session: 954981981 Experiment: 955276580 Cell: 1086490995\n",
            "Session: 954981981 Experiment: 955276580 Cell: 1086491035\n",
            "Session: 954981981 Experiment: 955276580 Cell: 1086491079\n",
            "Session: 954981981 Experiment: 955276580 Cell: 1086491172\n",
            "Session: 954981981 Experiment: 955276580 Cell: 1086491215\n",
            "Session: 954981981 Experiment: 955276580 Cell: 1086491256\n",
            "Session: 954981981 Experiment: 955276580 Cell: 1086491328\n",
            "Session: 954981981 Experiment: 955276580 Cell: 1086491397\n",
            "Session: 954981981 Experiment: 955276580 Cell: 1086491469\n"
          ],
          "name": "stdout"
        },
        {
          "output_type": "error",
          "ename": "AttributeError",
          "evalue": "ignored",
          "traceback": [
            "\u001b[0;31m---------------------------------------------------------------------------\u001b[0m",
            "\u001b[0;31mAttributeError\u001b[0m                            Traceback (most recent call last)",
            "\u001b[0;32m<ipython-input-130-7466113ce823>\u001b[0m in \u001b[0;36m<module>\u001b[0;34m()\u001b[0m\n\u001b[1;32m      2\u001b[0m \u001b[0;32mfor\u001b[0m \u001b[0mophys_session_id\u001b[0m \u001b[0;32min\u001b[0m \u001b[0mophys_session_ids\u001b[0m\u001b[0;34m:\u001b[0m\u001b[0;34m\u001b[0m\u001b[0;34m\u001b[0m\u001b[0m\n\u001b[1;32m      3\u001b[0m   \u001b[0mthis_cells\u001b[0m \u001b[0;34m=\u001b[0m \u001b[0mget_cells_from_session\u001b[0m\u001b[0;34m(\u001b[0m\u001b[0mophys_session_id\u001b[0m\u001b[0;34m)\u001b[0m\u001b[0;34m\u001b[0m\u001b[0;34m\u001b[0m\u001b[0m\n\u001b[0;32m----> 4\u001b[0;31m   \u001b[0mmy_cells\u001b[0m \u001b[0;34m=\u001b[0m \u001b[0mmy_cells\u001b[0m\u001b[0;34m.\u001b[0m\u001b[0mappend\u001b[0m\u001b[0;34m(\u001b[0m\u001b[0mthis_cells\u001b[0m\u001b[0;34m)\u001b[0m\u001b[0;34m\u001b[0m\u001b[0;34m\u001b[0m\u001b[0m\n\u001b[0m\u001b[1;32m      5\u001b[0m   \u001b[0mprint\u001b[0m\u001b[0;34m(\u001b[0m\u001b[0mtype\u001b[0m\u001b[0;34m(\u001b[0m\u001b[0mmy_cells\u001b[0m\u001b[0;34m)\u001b[0m\u001b[0;34m)\u001b[0m\u001b[0;34m\u001b[0m\u001b[0;34m\u001b[0m\u001b[0m\n\u001b[1;32m      6\u001b[0m   \u001b[0;31m#print(len(this_cells))\u001b[0m\u001b[0;34m\u001b[0m\u001b[0;34m\u001b[0m\u001b[0;34m\u001b[0m\u001b[0m\n",
            "\u001b[0;31mAttributeError\u001b[0m: 'NoneType' object has no attribute 'append'"
          ]
        }
      ]
    },
    {
      "cell_type": "code",
      "metadata": {
        "id": "GJ3poUnDvR51",
        "outputId": "4f8bec6c-1559-4b2c-ca32-0f8b1236253b",
        "colab": {
          "base_uri": "https://localhost:8080/",
          "height": 342
        }
      },
      "source": [
        "my_cells = pd.concat(my_cells)"
      ],
      "execution_count": 95,
      "outputs": [
        {
          "output_type": "error",
          "ename": "TypeError",
          "evalue": "ignored",
          "traceback": [
            "\u001b[0;31m---------------------------------------------------------------------------\u001b[0m",
            "\u001b[0;31mTypeError\u001b[0m                                 Traceback (most recent call last)",
            "\u001b[0;32m<ipython-input-95-cd42ce15f03c>\u001b[0m in \u001b[0;36m<module>\u001b[0;34m()\u001b[0m\n\u001b[0;32m----> 1\u001b[0;31m \u001b[0mmy_cells\u001b[0m \u001b[0;34m=\u001b[0m \u001b[0mpd\u001b[0m\u001b[0;34m.\u001b[0m\u001b[0mconcat\u001b[0m\u001b[0;34m(\u001b[0m\u001b[0mmy_cells\u001b[0m\u001b[0;34m)\u001b[0m\u001b[0;34m\u001b[0m\u001b[0;34m\u001b[0m\u001b[0m\n\u001b[0m",
            "\u001b[0;32m/usr/local/lib/python3.7/dist-packages/pandas/core/reshape/concat.py\u001b[0m in \u001b[0;36mconcat\u001b[0;34m(objs, axis, join, join_axes, ignore_index, keys, levels, names, verify_integrity, sort, copy)\u001b[0m\n\u001b[1;32m    253\u001b[0m         \u001b[0mverify_integrity\u001b[0m\u001b[0;34m=\u001b[0m\u001b[0mverify_integrity\u001b[0m\u001b[0;34m,\u001b[0m\u001b[0;34m\u001b[0m\u001b[0;34m\u001b[0m\u001b[0m\n\u001b[1;32m    254\u001b[0m         \u001b[0mcopy\u001b[0m\u001b[0;34m=\u001b[0m\u001b[0mcopy\u001b[0m\u001b[0;34m,\u001b[0m\u001b[0;34m\u001b[0m\u001b[0;34m\u001b[0m\u001b[0m\n\u001b[0;32m--> 255\u001b[0;31m         \u001b[0msort\u001b[0m\u001b[0;34m=\u001b[0m\u001b[0msort\u001b[0m\u001b[0;34m,\u001b[0m\u001b[0;34m\u001b[0m\u001b[0;34m\u001b[0m\u001b[0m\n\u001b[0m\u001b[1;32m    256\u001b[0m     )\n\u001b[1;32m    257\u001b[0m \u001b[0;34m\u001b[0m\u001b[0m\n",
            "\u001b[0;32m/usr/local/lib/python3.7/dist-packages/pandas/core/reshape/concat.py\u001b[0m in \u001b[0;36m__init__\u001b[0;34m(self, objs, axis, join, join_axes, keys, levels, names, ignore_index, verify_integrity, copy, sort)\u001b[0m\n\u001b[1;32m    282\u001b[0m                 \u001b[0;34m\"first argument must be an iterable of pandas \"\u001b[0m\u001b[0;34m\u001b[0m\u001b[0;34m\u001b[0m\u001b[0m\n\u001b[1;32m    283\u001b[0m                 \u001b[0;34m\"objects, you passed an object of type \"\u001b[0m\u001b[0;34m\u001b[0m\u001b[0;34m\u001b[0m\u001b[0m\n\u001b[0;32m--> 284\u001b[0;31m                 \u001b[0;34m'\"{name}\"'\u001b[0m\u001b[0;34m.\u001b[0m\u001b[0mformat\u001b[0m\u001b[0;34m(\u001b[0m\u001b[0mname\u001b[0m\u001b[0;34m=\u001b[0m\u001b[0mtype\u001b[0m\u001b[0;34m(\u001b[0m\u001b[0mobjs\u001b[0m\u001b[0;34m)\u001b[0m\u001b[0;34m.\u001b[0m\u001b[0m__name__\u001b[0m\u001b[0;34m)\u001b[0m\u001b[0;34m\u001b[0m\u001b[0;34m\u001b[0m\u001b[0m\n\u001b[0m\u001b[1;32m    285\u001b[0m             )\n\u001b[1;32m    286\u001b[0m \u001b[0;34m\u001b[0m\u001b[0m\n",
            "\u001b[0;31mTypeError\u001b[0m: first argument must be an iterable of pandas objects, you passed an object of type \"DataFrame\""
          ]
        }
      ]
    },
    {
      "cell_type": "code",
      "metadata": {
        "colab": {
          "base_uri": "https://localhost:8080/",
          "height": 206
        },
        "id": "tW9ZCRlFncZL",
        "outputId": "fc2d03b7-fd22-495c-e52a-5482e0ef59db"
      },
      "source": [
        "my_cells.head()"
      ],
      "execution_count": 74,
      "outputs": [
        {
          "output_type": "execute_result",
          "data": {
            "text/html": [
              "<div>\n",
              "<style scoped>\n",
              "    .dataframe tbody tr th:only-of-type {\n",
              "        vertical-align: middle;\n",
              "    }\n",
              "\n",
              "    .dataframe tbody tr th {\n",
              "        vertical-align: top;\n",
              "    }\n",
              "\n",
              "    .dataframe thead th {\n",
              "        text-align: right;\n",
              "    }\n",
              "</style>\n",
              "<table border=\"1\" class=\"dataframe\">\n",
              "  <thead>\n",
              "    <tr style=\"text-align: right;\">\n",
              "      <th></th>\n",
              "      <th>time</th>\n",
              "      <th>dff</th>\n",
              "      <th>event_number</th>\n",
              "      <th>event_time</th>\n",
              "      <th>hit_miss</th>\n",
              "      <th>ophys_session_id</th>\n",
              "      <th>ophys_experiment_id</th>\n",
              "      <th>cell_specimen_id</th>\n",
              "      <th>cre_line</th>\n",
              "      <th>imaging_depth</th>\n",
              "      <th>mouse_id</th>\n",
              "      <th>sex</th>\n",
              "    </tr>\n",
              "  </thead>\n",
              "  <tbody>\n",
              "    <tr>\n",
              "      <th>0</th>\n",
              "      <td>-3.00</td>\n",
              "      <td>-0.020865</td>\n",
              "      <td>0</td>\n",
              "      <td>389.91903</td>\n",
              "      <td>hit</td>\n",
              "      <td>993862620</td>\n",
              "      <td>993862620</td>\n",
              "      <td>1086496500</td>\n",
              "      <td>Sst-IRES-Cre</td>\n",
              "      <td>275</td>\n",
              "      <td>476970</td>\n",
              "      <td>M</td>\n",
              "    </tr>\n",
              "    <tr>\n",
              "      <th>1</th>\n",
              "      <td>-2.98</td>\n",
              "      <td>-0.042798</td>\n",
              "      <td>0</td>\n",
              "      <td>389.91903</td>\n",
              "      <td>hit</td>\n",
              "      <td>993862620</td>\n",
              "      <td>993862620</td>\n",
              "      <td>1086496500</td>\n",
              "      <td>Sst-IRES-Cre</td>\n",
              "      <td>275</td>\n",
              "      <td>476970</td>\n",
              "      <td>M</td>\n",
              "    </tr>\n",
              "    <tr>\n",
              "      <th>2</th>\n",
              "      <td>-2.96</td>\n",
              "      <td>-0.095776</td>\n",
              "      <td>0</td>\n",
              "      <td>389.91903</td>\n",
              "      <td>hit</td>\n",
              "      <td>993862620</td>\n",
              "      <td>993862620</td>\n",
              "      <td>1086496500</td>\n",
              "      <td>Sst-IRES-Cre</td>\n",
              "      <td>275</td>\n",
              "      <td>476970</td>\n",
              "      <td>M</td>\n",
              "    </tr>\n",
              "    <tr>\n",
              "      <th>3</th>\n",
              "      <td>-2.94</td>\n",
              "      <td>-0.106680</td>\n",
              "      <td>0</td>\n",
              "      <td>389.91903</td>\n",
              "      <td>hit</td>\n",
              "      <td>993862620</td>\n",
              "      <td>993862620</td>\n",
              "      <td>1086496500</td>\n",
              "      <td>Sst-IRES-Cre</td>\n",
              "      <td>275</td>\n",
              "      <td>476970</td>\n",
              "      <td>M</td>\n",
              "    </tr>\n",
              "    <tr>\n",
              "      <th>4</th>\n",
              "      <td>-2.92</td>\n",
              "      <td>-0.099691</td>\n",
              "      <td>0</td>\n",
              "      <td>389.91903</td>\n",
              "      <td>hit</td>\n",
              "      <td>993862620</td>\n",
              "      <td>993862620</td>\n",
              "      <td>1086496500</td>\n",
              "      <td>Sst-IRES-Cre</td>\n",
              "      <td>275</td>\n",
              "      <td>476970</td>\n",
              "      <td>M</td>\n",
              "    </tr>\n",
              "  </tbody>\n",
              "</table>\n",
              "</div>"
            ],
            "text/plain": [
              "   time       dff  event_number  event_time hit_miss  ophys_session_id  \\\n",
              "0 -3.00 -0.020865             0   389.91903      hit         993862620   \n",
              "1 -2.98 -0.042798             0   389.91903      hit         993862620   \n",
              "2 -2.96 -0.095776             0   389.91903      hit         993862620   \n",
              "3 -2.94 -0.106680             0   389.91903      hit         993862620   \n",
              "4 -2.92 -0.099691             0   389.91903      hit         993862620   \n",
              "\n",
              "   ophys_experiment_id  cell_specimen_id      cre_line  imaging_depth  \\\n",
              "0            993862620        1086496500  Sst-IRES-Cre            275   \n",
              "1            993862620        1086496500  Sst-IRES-Cre            275   \n",
              "2            993862620        1086496500  Sst-IRES-Cre            275   \n",
              "3            993862620        1086496500  Sst-IRES-Cre            275   \n",
              "4            993862620        1086496500  Sst-IRES-Cre            275   \n",
              "\n",
              "   mouse_id sex  \n",
              "0    476970   M  \n",
              "1    476970   M  \n",
              "2    476970   M  \n",
              "3    476970   M  \n",
              "4    476970   M  "
            ]
          },
          "metadata": {
            "tags": []
          },
          "execution_count": 74
        }
      ]
    },
    {
      "cell_type": "code",
      "metadata": {
        "colab": {
          "base_uri": "https://localhost:8080/",
          "height": 297
        },
        "id": "qXWFC_xtjIuQ",
        "outputId": "d1c9ece6-08b5-4d24-d5ee-108375b05d05"
      },
      "source": [
        "sns.lineplot(\n",
        "    data=my_cells,\n",
        "    x='time',\n",
        "    y='dff',\n",
        "    hue='hit_miss',\n",
        "    n_boot=500\n",
        ")"
      ],
      "execution_count": 84,
      "outputs": [
        {
          "output_type": "execute_result",
          "data": {
            "text/plain": [
              "<matplotlib.axes._subplots.AxesSubplot at 0x7f1b23144250>"
            ]
          },
          "metadata": {
            "tags": []
          },
          "execution_count": 84
        },
        {
          "output_type": "display_data",
          "data": {
            "image/png": "[encoded data removed]",
            "text/plain": [
              "<Figure size 432x288 with 1 Axes>"
            ]
          },
          "metadata": {
            "tags": [],
            "needs_background": "light"
          }
        }
      ]
    },
    {
      "cell_type": "code",
      "metadata": {
        "id": "ED45_6qDsjw5",
        "outputId": "74dd91fc-154b-45cb-d91a-06d1cf772db2",
        "colab": {
          "base_uri": "https://localhost:8080/",
          "height": 746
        }
      },
      "source": [
        "all_of_my_cells = []\n",
        "for ophys_session_id in ophys_session_ids:\n",
        "  this_cells = get_cells_from_session(ophys_session_id)\n",
        "  all_of_my_cells = all_of_my_cells.append(this_cells)\n",
        "\n",
        "my_cells = pd.concatenate(my_cells)"
      ],
      "execution_count": 85,
      "outputs": [
        {
          "output_type": "stream",
          "text": [
            "Session: 993727065 Experiment: 993862620 Cell: 1086496500\n",
            "Session: 993727065 Experiment: 993862620 Cell: 1086496689\n",
            "Session: 993727065 Experiment: 993862620 Cell: 1086497129\n",
            "Session: 993727065 Experiment: 993862620 Cell: 1086497550\n",
            "Session: 993727065 Experiment: 993862620 Cell: 1086500812\n",
            "Session: 993727065 Experiment: 993862620 Cell: 1086497908\n",
            "Session: 993727065 Experiment: 993862620 Cell: 1086498071\n",
            "Session: 993727065 Experiment: 993862620 Cell: 1086498205\n",
            "Session: 993727065 Experiment: 993862620 Cell: 1086498334\n",
            "Session: 993727065 Experiment: 993862620 Cell: 1086498461\n",
            "Session: 993727065 Experiment: 993862620 Cell: 1086498820\n",
            "Session: 993727065 Experiment: 993862620 Cell: 1086498977\n",
            "Session: 993727065 Experiment: 993862620 Cell: 1086499259\n",
            "Session: 993727065 Experiment: 993862620 Cell: 1086499316\n",
            "Session: 993727065 Experiment: 993862620 Cell: 1086499479\n",
            "Session: 993727065 Experiment: 993862620 Cell: 1086499910\n",
            "Session: 993727065 Experiment: 993862620 Cell: 1086500121\n",
            "Session: 993727065 Experiment: 993862620 Cell: 1086500281\n",
            "Session: 954981981 Experiment: 955276580 Cell: 1086490519\n"
          ],
          "name": "stdout"
        },
        {
          "output_type": "error",
          "ename": "KeyError",
          "evalue": "ignored",
          "traceback": [
            "\u001b[0;31m---------------------------------------------------------------------------\u001b[0m",
            "\u001b[0;31mKeyError\u001b[0m                                  Traceback (most recent call last)",
            "\u001b[0;32m<ipython-input-85-4e23fbbc18a7>\u001b[0m in \u001b[0;36m<module>\u001b[0;34m()\u001b[0m\n\u001b[1;32m      1\u001b[0m \u001b[0mall_of_my_cells\u001b[0m \u001b[0;34m=\u001b[0m \u001b[0;34m[\u001b[0m\u001b[0;34m]\u001b[0m\u001b[0;34m\u001b[0m\u001b[0;34m\u001b[0m\u001b[0m\n\u001b[1;32m      2\u001b[0m \u001b[0;32mfor\u001b[0m \u001b[0mophys_session_id\u001b[0m \u001b[0;32min\u001b[0m \u001b[0mophys_session_ids\u001b[0m\u001b[0;34m:\u001b[0m\u001b[0;34m\u001b[0m\u001b[0;34m\u001b[0m\u001b[0m\n\u001b[0;32m----> 3\u001b[0;31m   \u001b[0mthis_cells\u001b[0m \u001b[0;34m=\u001b[0m \u001b[0mget_cells_from_session\u001b[0m\u001b[0;34m(\u001b[0m\u001b[0mophys_session_id\u001b[0m\u001b[0;34m)\u001b[0m\u001b[0;34m\u001b[0m\u001b[0;34m\u001b[0m\u001b[0m\n\u001b[0m\u001b[1;32m      4\u001b[0m   \u001b[0mall_of_my_cells\u001b[0m \u001b[0;34m=\u001b[0m \u001b[0mall_of_my_cells\u001b[0m\u001b[0;34m.\u001b[0m\u001b[0mappend\u001b[0m\u001b[0;34m(\u001b[0m\u001b[0mthis_cells\u001b[0m\u001b[0;34m)\u001b[0m\u001b[0;34m\u001b[0m\u001b[0;34m\u001b[0m\u001b[0m\n\u001b[1;32m      5\u001b[0m \u001b[0;34m\u001b[0m\u001b[0m\n",
            "\u001b[0;32m<ipython-input-53-62be258153b1>\u001b[0m in \u001b[0;36mget_cells_from_session\u001b[0;34m(ophys_session_id, session_dictionary)\u001b[0m\n\u001b[1;32m      7\u001b[0m     \u001b[0;32mfor\u001b[0m \u001b[0mcell_specimen_id\u001b[0m \u001b[0;32min\u001b[0m \u001b[0mcells_specimen_ids\u001b[0m\u001b[0;34m:\u001b[0m\u001b[0;34m\u001b[0m\u001b[0;34m\u001b[0m\u001b[0m\n\u001b[1;32m      8\u001b[0m       \u001b[0mprint\u001b[0m\u001b[0;34m(\u001b[0m\u001b[0;34m'Session:'\u001b[0m\u001b[0;34m,\u001b[0m \u001b[0mophys_session_id\u001b[0m\u001b[0;34m,\u001b[0m \u001b[0;34m'Experiment:'\u001b[0m\u001b[0;34m,\u001b[0m \u001b[0mophys_experiment_id\u001b[0m\u001b[0;34m,\u001b[0m \u001b[0;34m'Cell:'\u001b[0m\u001b[0;34m,\u001b[0m \u001b[0mcell_specimen_id\u001b[0m\u001b[0;34m)\u001b[0m\u001b[0;34m\u001b[0m\u001b[0;34m\u001b[0m\u001b[0m\n\u001b[0;32m----> 9\u001b[0;31m       \u001b[0mthis_cell\u001b[0m \u001b[0;34m=\u001b[0m \u001b[0malign_cell_with_event\u001b[0m\u001b[0;34m(\u001b[0m\u001b[0mophys_session_id\u001b[0m\u001b[0;34m,\u001b[0m \u001b[0mophys_experiment_id\u001b[0m\u001b[0;34m,\u001b[0m \u001b[0mcell_specimen_id\u001b[0m\u001b[0;34m)\u001b[0m\u001b[0;34m\u001b[0m\u001b[0;34m\u001b[0m\u001b[0m\n\u001b[0m\u001b[1;32m     10\u001b[0m       \u001b[0maligned_cells\u001b[0m\u001b[0;34m.\u001b[0m\u001b[0mappend\u001b[0m\u001b[0;34m(\u001b[0m\u001b[0mthis_cell\u001b[0m\u001b[0;34m)\u001b[0m\u001b[0;34m\u001b[0m\u001b[0;34m\u001b[0m\u001b[0m\n\u001b[1;32m     11\u001b[0m \u001b[0;34m\u001b[0m\u001b[0m\n",
            "\u001b[0;32m<ipython-input-72-19fefcd5b1bd>\u001b[0m in \u001b[0;36malign_cell_with_event\u001b[0;34m(ophys_session_id, ophys_experiment_id, cell_specimen_id, window_width, session_dictionary)\u001b[0m\n\u001b[1;32m      3\u001b[0m \u001b[0;34m\u001b[0m\u001b[0m\n\u001b[1;32m      4\u001b[0m   \u001b[0;31m#identify experiment & corresponding neural data\u001b[0m\u001b[0;34m\u001b[0m\u001b[0;34m\u001b[0m\u001b[0;34m\u001b[0m\u001b[0m\n\u001b[0;32m----> 5\u001b[0;31m   \u001b[0mthis_experiment\u001b[0m \u001b[0;34m=\u001b[0m \u001b[0msession_dictionary\u001b[0m\u001b[0;34m[\u001b[0m\u001b[0mophys_session_id\u001b[0m\u001b[0;34m]\u001b[0m\u001b[0;34m[\u001b[0m\u001b[0;36m0\u001b[0m\u001b[0;34m]\u001b[0m\u001b[0;34m[\u001b[0m\u001b[0mophys_experiment_id\u001b[0m\u001b[0;34m]\u001b[0m\u001b[0;34m\u001b[0m\u001b[0;34m\u001b[0m\u001b[0m\n\u001b[0m\u001b[1;32m      6\u001b[0m   \u001b[0mneural_data\u001b[0m \u001b[0;34m=\u001b[0m \u001b[0msession_dictionary\u001b[0m\u001b[0;34m[\u001b[0m\u001b[0mophys_session_id\u001b[0m\u001b[0;34m]\u001b[0m\u001b[0;34m[\u001b[0m\u001b[0;36m1\u001b[0m\u001b[0;34m]\u001b[0m\u001b[0;34m\u001b[0m\u001b[0;34m\u001b[0m\u001b[0m\n\u001b[1;32m      7\u001b[0m \u001b[0;34m\u001b[0m\u001b[0m\n",
            "\u001b[0;31mKeyError\u001b[0m: 954981981"
          ]
        }
      ]
    }
  ]
}