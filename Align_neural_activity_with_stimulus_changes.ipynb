{
  "nbformat": 4,
  "nbformat_minor": 0,
  "metadata": {
    "colab": {
      "name": "Align neural activity with stimulus changes.ipynb",
      "provenance": [],
      "collapsed_sections": [],
      "include_colab_link": true
    },
    "kernelspec": {
      "name": "python3",
      "display_name": "Python 3"
    },
    "language_info": {
      "name": "python"
    }
  },
  "cells": [
    {
      "cell_type": "markdown",
      "metadata": {
        "id": "view-in-github",
        "colab_type": "text"
      },
      "source": [
        "<a href=\"https://colab.research.google.com/github/odmina/misbehaving_armadillos/blob/main/Align_neural_activity_with_stimulus_changes.ipynb\" target=\"_parent\"><img src=\"https://colab.research.google.com/assets/colab-badge.svg\" alt=\"Open In Colab\"/></a>"
      ]
    },
    {
      "cell_type": "markdown",
      "metadata": {
        "id": "I1CeSqXjhY2k"
      },
      "source": [
        "# Overview\n",
        "The following notebook loads data from single behavioral session (one mouse) and one imaging experiment (just one plane) associated with that session to plot stimulus, licks and reward data and neural activity (one selected neuron). "
      ]
    },
    {
      "cell_type": "markdown",
      "metadata": {
        "id": "aT9844s2hkvw"
      },
      "source": [
        "# Set up environment and import packages"
      ]
    },
    {
      "cell_type": "markdown",
      "metadata": {
        "id": "00Maa0v-hvoD"
      },
      "source": [
        "We have built a package called `mindscope_utilities` which contains some useful convenience functions. The `allenSDK` is a dependency of this package and will be automatically installed when you install `mindscope_utilities` per the instrutions below.\n",
        "\n",
        "We will first install `mindscope_utilities` into our colab environment by running the commands below. When this cell is complete, click on the `RESTART RUNTIME` button that appears at the end of the output. Note that running this cell will produce a long list of outputs and some error messages. Clicking `RESTART RUNTIME` at the end will resolve these issues. \n",
        "\n",
        "You can minimize the cell after you are done to hide the output. "
      ]
    },
    {
      "cell_type": "markdown",
      "metadata": {
        "id": "PPF6qq5jLmNL"
      },
      "source": [
        "#### Install necessary packages"
      ]
    },
    {
      "cell_type": "code",
      "metadata": {
        "id": "1Xm2F5-0aIN2",
        "colab": {
          "base_uri": "https://localhost:8080/",
          "height": 1000
        },
        "outputId": "89418fb5-5a0e-4c6d-8ed8-caa8e48bd969"
      },
      "source": [
        "!python -m pip install --upgrade pip\n",
        "!pip install mindscope_utilities --upgrade"
      ],
      "execution_count": 1,
      "outputs": [
        {
          "output_type": "stream",
          "text": [
            "Collecting pip\n",
            "\u001b[?25l  Downloading https://files.pythonhosted.org/packages/47/ca/f0d790b6e18b3a6f3bd5e80c2ee4edbb5807286c21cdd0862ca933f751dd/pip-21.1.3-py3-none-any.whl (1.5MB)\n",
            "\r\u001b[K     |▏                               | 10kB 14.8MB/s eta 0:00:01\r\u001b[K     |▍                               | 20kB 21.4MB/s eta 0:00:01\r\u001b[K     |▋                               | 30kB 19.1MB/s eta 0:00:01\r\u001b[K     |▉                               | 40kB 16.6MB/s eta 0:00:01\r\u001b[K     |█                               | 51kB 8.1MB/s eta 0:00:01\r\u001b[K     |█▎                              | 61kB 6.9MB/s eta 0:00:01\r\u001b[K     |█▌                              | 71kB 7.6MB/s eta 0:00:01\r\u001b[K     |█▊                              | 81kB 8.5MB/s eta 0:00:01\r\u001b[K     |██                              | 92kB 9.3MB/s eta 0:00:01\r\u001b[K     |██▏                             | 102kB 7.6MB/s eta 0:00:01\r\u001b[K     |██▎                             | 112kB 7.6MB/s eta 0:00:01\r\u001b[K     |██▌                             | 122kB 7.6MB/s eta 0:00:01\r\u001b[K     |██▊                             | 133kB 7.6MB/s eta 0:00:01\r\u001b[K     |███                             | 143kB 7.6MB/s eta 0:00:01\r\u001b[K     |███▏                            | 153kB 7.6MB/s eta 0:00:01\r\u001b[K     |███▍                            | 163kB 7.6MB/s eta 0:00:01\r\u001b[K     |███▋                            | 174kB 7.6MB/s eta 0:00:01\r\u001b[K     |███▉                            | 184kB 7.6MB/s eta 0:00:01\r\u001b[K     |████                            | 194kB 7.6MB/s eta 0:00:01\r\u001b[K     |████▎                           | 204kB 7.6MB/s eta 0:00:01\r\u001b[K     |████▌                           | 215kB 7.6MB/s eta 0:00:01\r\u001b[K     |████▋                           | 225kB 7.6MB/s eta 0:00:01\r\u001b[K     |████▉                           | 235kB 7.6MB/s eta 0:00:01\r\u001b[K     |█████                           | 245kB 7.6MB/s eta 0:00:01\r\u001b[K     |█████▎                          | 256kB 7.6MB/s eta 0:00:01\r\u001b[K     |█████▌                          | 266kB 7.6MB/s eta 0:00:01\r\u001b[K     |█████▊                          | 276kB 7.6MB/s eta 0:00:01\r\u001b[K     |██████                          | 286kB 7.6MB/s eta 0:00:01\r\u001b[K     |██████▏                         | 296kB 7.6MB/s eta 0:00:01\r\u001b[K     |██████▍                         | 307kB 7.6MB/s eta 0:00:01\r\u001b[K     |██████▋                         | 317kB 7.6MB/s eta 0:00:01\r\u001b[K     |██████▊                         | 327kB 7.6MB/s eta 0:00:01\r\u001b[K     |███████                         | 337kB 7.6MB/s eta 0:00:01\r\u001b[K     |███████▏                        | 348kB 7.6MB/s eta 0:00:01\r\u001b[K     |███████▍                        | 358kB 7.6MB/s eta 0:00:01\r\u001b[K     |███████▋                        | 368kB 7.6MB/s eta 0:00:01\r\u001b[K     |███████▉                        | 378kB 7.6MB/s eta 0:00:01\r\u001b[K     |████████                        | 389kB 7.6MB/s eta 0:00:01\r\u001b[K     |████████▎                       | 399kB 7.6MB/s eta 0:00:01\r\u001b[K     |████████▌                       | 409kB 7.6MB/s eta 0:00:01\r\u001b[K     |████████▊                       | 419kB 7.6MB/s eta 0:00:01\r\u001b[K     |█████████                       | 430kB 7.6MB/s eta 0:00:01\r\u001b[K     |█████████                       | 440kB 7.6MB/s eta 0:00:01\r\u001b[K     |█████████▎                      | 450kB 7.6MB/s eta 0:00:01\r\u001b[K     |█████████▌                      | 460kB 7.6MB/s eta 0:00:01\r\u001b[K     |█████████▊                      | 471kB 7.6MB/s eta 0:00:01\r\u001b[K     |██████████                      | 481kB 7.6MB/s eta 0:00:01\r\u001b[K     |██████████▏                     | 491kB 7.6MB/s eta 0:00:01\r\u001b[K     |██████████▍                     | 501kB 7.6MB/s eta 0:00:01\r\u001b[K     |██████████▋                     | 512kB 7.6MB/s eta 0:00:01\r\u001b[K     |██████████▉                     | 522kB 7.6MB/s eta 0:00:01\r\u001b[K     |███████████                     | 532kB 7.6MB/s eta 0:00:01\r\u001b[K     |███████████▏                    | 542kB 7.6MB/s eta 0:00:01\r\u001b[K     |███████████▍                    | 552kB 7.6MB/s eta 0:00:01\r\u001b[K     |███████████▋                    | 563kB 7.6MB/s eta 0:00:01\r\u001b[K     |███████████▉                    | 573kB 7.6MB/s eta 0:00:01\r\u001b[K     |████████████                    | 583kB 7.6MB/s eta 0:00:01\r\u001b[K     |████████████▎                   | 593kB 7.6MB/s eta 0:00:01\r\u001b[K     |████████████▌                   | 604kB 7.6MB/s eta 0:00:01\r\u001b[K     |████████████▊                   | 614kB 7.6MB/s eta 0:00:01\r\u001b[K     |█████████████                   | 624kB 7.6MB/s eta 0:00:01\r\u001b[K     |█████████████▏                  | 634kB 7.6MB/s eta 0:00:01\r\u001b[K     |█████████████▍                  | 645kB 7.6MB/s eta 0:00:01\r\u001b[K     |█████████████▌                  | 655kB 7.6MB/s eta 0:00:01\r\u001b[K     |█████████████▊                  | 665kB 7.6MB/s eta 0:00:01\r\u001b[K     |██████████████                  | 675kB 7.6MB/s eta 0:00:01\r\u001b[K     |██████████████▏                 | 686kB 7.6MB/s eta 0:00:01\r\u001b[K     |██████████████▍                 | 696kB 7.6MB/s eta 0:00:01\r\u001b[K     |██████████████▋                 | 706kB 7.6MB/s eta 0:00:01\r\u001b[K     |██████████████▉                 | 716kB 7.6MB/s eta 0:00:01\r\u001b[K     |███████████████                 | 727kB 7.6MB/s eta 0:00:01\r\u001b[K     |███████████████▎                | 737kB 7.6MB/s eta 0:00:01\r\u001b[K     |███████████████▌                | 747kB 7.6MB/s eta 0:00:01\r\u001b[K     |███████████████▋                | 757kB 7.6MB/s eta 0:00:01\r\u001b[K     |███████████████▉                | 768kB 7.6MB/s eta 0:00:01\r\u001b[K     |████████████████                | 778kB 7.6MB/s eta 0:00:01\r\u001b[K     |████████████████▎               | 788kB 7.6MB/s eta 0:00:01\r\u001b[K     |████████████████▌               | 798kB 7.6MB/s eta 0:00:01\r\u001b[K     |████████████████▊               | 808kB 7.6MB/s eta 0:00:01\r\u001b[K     |█████████████████               | 819kB 7.6MB/s eta 0:00:01\r\u001b[K     |█████████████████▏              | 829kB 7.6MB/s eta 0:00:01\r\u001b[K     |█████████████████▍              | 839kB 7.6MB/s eta 0:00:01\r\u001b[K     |█████████████████▋              | 849kB 7.6MB/s eta 0:00:01\r\u001b[K     |█████████████████▉              | 860kB 7.6MB/s eta 0:00:01\r\u001b[K     |██████████████████              | 870kB 7.6MB/s eta 0:00:01\r\u001b[K     |██████████████████▏             | 880kB 7.6MB/s eta 0:00:01\r\u001b[K     |██████████████████▍             | 890kB 7.6MB/s eta 0:00:01\r\u001b[K     |██████████████████▋             | 901kB 7.6MB/s eta 0:00:01\r\u001b[K     |██████████████████▉             | 911kB 7.6MB/s eta 0:00:01\r\u001b[K     |███████████████████             | 921kB 7.6MB/s eta 0:00:01\r\u001b[K     |███████████████████▎            | 931kB 7.6MB/s eta 0:00:01\r\u001b[K     |███████████████████▌            | 942kB 7.6MB/s eta 0:00:01\r\u001b[K     |███████████████████▊            | 952kB 7.6MB/s eta 0:00:01\r\u001b[K     |████████████████████            | 962kB 7.6MB/s eta 0:00:01\r\u001b[K     |████████████████████            | 972kB 7.6MB/s eta 0:00:01\r\u001b[K     |████████████████████▎           | 983kB 7.6MB/s eta 0:00:01\r\u001b[K     |████████████████████▌           | 993kB 7.6MB/s eta 0:00:01\r\u001b[K     |████████████████████▊           | 1.0MB 7.6MB/s eta 0:00:01\r\u001b[K     |█████████████████████           | 1.0MB 7.6MB/s eta 0:00:01\r\u001b[K     |█████████████████████▏          | 1.0MB 7.6MB/s eta 0:00:01\r\u001b[K     |█████████████████████▍          | 1.0MB 7.6MB/s eta 0:00:01\r\u001b[K     |█████████████████████▋          | 1.0MB 7.6MB/s eta 0:00:01\r\u001b[K     |█████████████████████▉          | 1.1MB 7.6MB/s eta 0:00:01\r\u001b[K     |██████████████████████          | 1.1MB 7.6MB/s eta 0:00:01\r\u001b[K     |██████████████████████▎         | 1.1MB 7.6MB/s eta 0:00:01\r\u001b[K     |██████████████████████▍         | 1.1MB 7.6MB/s eta 0:00:01\r\u001b[K     |██████████████████████▋         | 1.1MB 7.6MB/s eta 0:00:01\r\u001b[K     |██████████████████████▉         | 1.1MB 7.6MB/s eta 0:00:01\r\u001b[K     |███████████████████████         | 1.1MB 7.6MB/s eta 0:00:01\r\u001b[K     |███████████████████████▎        | 1.1MB 7.6MB/s eta 0:00:01\r\u001b[K     |███████████████████████▌        | 1.1MB 7.6MB/s eta 0:00:01\r\u001b[K     |███████████████████████▊        | 1.1MB 7.6MB/s eta 0:00:01\r\u001b[K     |████████████████████████        | 1.2MB 7.6MB/s eta 0:00:01\r\u001b[K     |████████████████████████▏       | 1.2MB 7.6MB/s eta 0:00:01\r\u001b[K     |████████████████████████▍       | 1.2MB 7.6MB/s eta 0:00:01\r\u001b[K     |████████████████████████▌       | 1.2MB 7.6MB/s eta 0:00:01\r\u001b[K     |████████████████████████▊       | 1.2MB 7.6MB/s eta 0:00:01\r\u001b[K     |█████████████████████████       | 1.2MB 7.6MB/s eta 0:00:01\r\u001b[K     |█████████████████████████▏      | 1.2MB 7.6MB/s eta 0:00:01\r\u001b[K     |█████████████████████████▍      | 1.2MB 7.6MB/s eta 0:00:01\r\u001b[K     |█████████████████████████▋      | 1.2MB 7.6MB/s eta 0:00:01\r\u001b[K     |█████████████████████████▉      | 1.2MB 7.6MB/s eta 0:00:01\r\u001b[K     |██████████████████████████      | 1.3MB 7.6MB/s eta 0:00:01\r\u001b[K     |██████████████████████████▎     | 1.3MB 7.6MB/s eta 0:00:01\r\u001b[K     |██████████████████████████▌     | 1.3MB 7.6MB/s eta 0:00:01\r\u001b[K     |██████████████████████████▊     | 1.3MB 7.6MB/s eta 0:00:01\r\u001b[K     |██████████████████████████▉     | 1.3MB 7.6MB/s eta 0:00:01\r\u001b[K     |███████████████████████████     | 1.3MB 7.6MB/s eta 0:00:01\r\u001b[K     |███████████████████████████▎    | 1.3MB 7.6MB/s eta 0:00:01\r\u001b[K     |███████████████████████████▌    | 1.3MB 7.6MB/s eta 0:00:01\r\u001b[K     |███████████████████████████▊    | 1.3MB 7.6MB/s eta 0:00:01\r\u001b[K     |████████████████████████████    | 1.4MB 7.6MB/s eta 0:00:01\r\u001b[K     |████████████████████████████▏   | 1.4MB 7.6MB/s eta 0:00:01\r\u001b[K     |████████████████████████████▍   | 1.4MB 7.6MB/s eta 0:00:01\r\u001b[K     |████████████████████████████▋   | 1.4MB 7.6MB/s eta 0:00:01\r\u001b[K     |████████████████████████████▉   | 1.4MB 7.6MB/s eta 0:00:01\r\u001b[K     |█████████████████████████████   | 1.4MB 7.6MB/s eta 0:00:01\r\u001b[K     |█████████████████████████████▏  | 1.4MB 7.6MB/s eta 0:00:01\r\u001b[K     |█████████████████████████████▍  | 1.4MB 7.6MB/s eta 0:00:01\r\u001b[K     |█████████████████████████████▋  | 1.4MB 7.6MB/s eta 0:00:01\r\u001b[K     |█████████████████████████████▉  | 1.4MB 7.6MB/s eta 0:00:01\r\u001b[K     |██████████████████████████████  | 1.5MB 7.6MB/s eta 0:00:01\r\u001b[K     |██████████████████████████████▎ | 1.5MB 7.6MB/s eta 0:00:01\r\u001b[K     |██████████████████████████████▌ | 1.5MB 7.6MB/s eta 0:00:01\r\u001b[K     |██████████████████████████████▊ | 1.5MB 7.6MB/s eta 0:00:01\r\u001b[K     |███████████████████████████████ | 1.5MB 7.6MB/s eta 0:00:01\r\u001b[K     |███████████████████████████████▏| 1.5MB 7.6MB/s eta 0:00:01\r\u001b[K     |███████████████████████████████▎| 1.5MB 7.6MB/s eta 0:00:01\r\u001b[K     |███████████████████████████████▌| 1.5MB 7.6MB/s eta 0:00:01\r\u001b[K     |███████████████████████████████▊| 1.5MB 7.6MB/s eta 0:00:01\r\u001b[K     |████████████████████████████████| 1.5MB 7.6MB/s eta 0:00:01\r\u001b[K     |████████████████████████████████| 1.6MB 7.6MB/s \n",
            "\u001b[?25hInstalling collected packages: pip\n",
            "  Found existing installation: pip 19.3.1\n",
            "    Uninstalling pip-19.3.1:\n",
            "      Successfully uninstalled pip-19.3.1\n",
            "Successfully installed pip-21.1.3\n",
            "Collecting mindscope_utilities\n",
            "  Downloading mindscope_utilities-0.1.7.tar.gz (7.2 kB)\n",
            "Collecting flake8\n",
            "  Downloading flake8-3.9.2-py2.py3-none-any.whl (73 kB)\n",
            "\u001b[K     |████████████████████████████████| 73 kB 1.4 MB/s \n",
            "\u001b[?25hRequirement already satisfied: pytest in /usr/local/lib/python3.7/dist-packages (from mindscope_utilities) (3.6.4)\n",
            "Collecting allensdk==2.11.2\n",
            "  Downloading allensdk-2.11.2-py3-none-any.whl (1.7 MB)\n",
            "\u001b[K     |████████████████████████████████| 1.7 MB 19.4 MB/s \n",
            "\u001b[?25hCollecting psycopg2-binary<3.0.0,>=2.7\n",
            "  Downloading psycopg2_binary-2.9.1-cp37-cp37m-manylinux_2_17_x86_64.manylinux2014_x86_64.whl (3.4 MB)\n",
            "\u001b[K     |████████████████████████████████| 3.4 MB 31.9 MB/s \n",
            "\u001b[?25hCollecting glymur==0.8.19\n",
            "  Downloading Glymur-0.8.19.tar.gz (3.4 MB)\n",
            "\u001b[K     |████████████████████████████████| 3.4 MB 24.2 MB/s \n",
            "\u001b[?25hCollecting numpy<1.19.0,>=1.15.4\n",
            "  Downloading numpy-1.18.5-cp37-cp37m-manylinux1_x86_64.whl (20.1 MB)\n",
            "\u001b[K     |████████████████████████████████| 20.1 MB 1.2 MB/s \n",
            "\u001b[?25hCollecting pynrrd<1.0.0,>=0.2.1\n",
            "  Downloading pynrrd-0.4.2-py2.py3-none-any.whl (18 kB)\n",
            "Requirement already satisfied: requests<3.0.0 in /usr/local/lib/python3.7/dist-packages (from allensdk==2.11.2->mindscope_utilities) (2.23.0)\n",
            "Collecting aiohttp==3.7.4\n",
            "  Downloading aiohttp-3.7.4-cp37-cp37m-manylinux2014_x86_64.whl (1.3 MB)\n",
            "\u001b[K     |████████████████████████████████| 1.3 MB 31.5 MB/s \n",
            "\u001b[?25hCollecting nest-asyncio==1.2.0\n",
            "  Downloading nest_asyncio-1.2.0-py3-none-any.whl (4.5 kB)\n",
            "Requirement already satisfied: semver in /usr/local/lib/python3.7/dist-packages (from allensdk==2.11.2->mindscope_utilities) (2.13.0)\n",
            "Collecting scikit-build<1.0.0\n",
            "  Downloading scikit_build-0.11.1-py2.py3-none-any.whl (72 kB)\n",
            "\u001b[K     |████████████████████████████████| 72 kB 787 kB/s \n",
            "\u001b[?25hCollecting hdmf<2.5.0\n",
            "  Downloading hdmf-2.4.0-py2.py3-none-any.whl (149 kB)\n",
            "\u001b[K     |████████████████████████████████| 149 kB 69.5 MB/s \n",
            "\u001b[?25hRequirement already satisfied: six<2.0.0,>=1.9.0 in /usr/local/lib/python3.7/dist-packages (from allensdk==2.11.2->mindscope_utilities) (1.15.0)\n",
            "Collecting marshmallow==3.0.0rc6\n",
            "  Downloading marshmallow-3.0.0rc6-py2.py3-none-any.whl (42 kB)\n",
            "\u001b[K     |████████████████████████████████| 42 kB 1.2 MB/s \n",
            "\u001b[?25hCollecting h5py<3.0.0,>=2.8\n",
            "  Downloading h5py-2.10.0-cp37-cp37m-manylinux1_x86_64.whl (2.9 MB)\n",
            "\u001b[K     |████████████████████████████████| 2.9 MB 30.3 MB/s \n",
            "\u001b[?25hCollecting pandas<=0.25.3,>=0.25.1\n",
            "  Downloading pandas-0.25.3-cp37-cp37m-manylinux1_x86_64.whl (10.4 MB)\n",
            "\u001b[K     |████████████████████████████████| 10.4 MB 103 kB/s \n",
            "\u001b[?25hRequirement already satisfied: scipy<2.0.0,>=1.4.0 in /usr/local/lib/python3.7/dist-packages (from allensdk==2.11.2->mindscope_utilities) (1.4.1)\n",
            "Collecting boto3==1.17.21\n",
            "  Downloading boto3-1.17.21-py2.py3-none-any.whl (130 kB)\n",
            "\u001b[K     |████████████████████████████████| 130 kB 59.6 MB/s \n",
            "\u001b[?25hRequirement already satisfied: statsmodels<=0.13.0 in /usr/local/lib/python3.7/dist-packages (from allensdk==2.11.2->mindscope_utilities) (0.10.2)\n",
            "Collecting argschema<3.0.0\n",
            "  Downloading argschema-2.0.2.tar.gz (24 kB)\n",
            "Requirement already satisfied: seaborn<1.0.0 in /usr/local/lib/python3.7/dist-packages (from allensdk==2.11.2->mindscope_utilities) (0.11.1)\n",
            "Requirement already satisfied: scikit-image<0.17.0,>=0.14.0 in /usr/local/lib/python3.7/dist-packages (from allensdk==2.11.2->mindscope_utilities) (0.16.2)\n",
            "Collecting ndx-events<=0.2.0\n",
            "  Downloading ndx_events-0.2.0-py2.py3-none-any.whl (13 kB)\n",
            "Collecting tables<4.0.0,>=3.6.0\n",
            "  Downloading tables-3.6.1-cp37-cp37m-manylinux1_x86_64.whl (4.3 MB)\n",
            "\u001b[K     |████████████████████████████████| 4.3 MB 31.0 MB/s \n",
            "\u001b[?25hRequirement already satisfied: jinja2<2.12.0,>=2.7.3 in /usr/local/lib/python3.7/dist-packages (from allensdk==2.11.2->mindscope_utilities) (2.11.3)\n",
            "Requirement already satisfied: tqdm>=4.27 in /usr/local/lib/python3.7/dist-packages (from allensdk==2.11.2->mindscope_utilities) (4.41.1)\n",
            "Collecting simplejson<4.0.0,>=3.10.0\n",
            "  Downloading simplejson-3.17.3-cp37-cp37m-manylinux_2_5_x86_64.manylinux1_x86_64.manylinux_2_12_x86_64.manylinux2010_x86_64.whl (129 kB)\n",
            "\u001b[K     |████████████████████████████████| 129 kB 70.5 MB/s \n",
            "\u001b[?25hCollecting requests-toolbelt<1.0.0\n",
            "  Downloading requests_toolbelt-0.9.1-py2.py3-none-any.whl (54 kB)\n",
            "\u001b[K     |████████████████████████████████| 54 kB 2.4 MB/s \n",
            "\u001b[?25hCollecting simpleitk<3.0.0,>=2.0.2\n",
            "  Downloading SimpleITK-2.0.2-cp37-cp37m-manylinux2010_x86_64.whl (47.4 MB)\n",
            "\u001b[K     |████████████████████████████████| 47.4 MB 33 kB/s \n",
            "\u001b[?25hRequirement already satisfied: matplotlib<4.0.0,>=1.4.3 in /usr/local/lib/python3.7/dist-packages (from allensdk==2.11.2->mindscope_utilities) (3.2.2)\n",
            "Requirement already satisfied: future<1.0.0,>=0.14.3 in /usr/local/lib/python3.7/dist-packages (from allensdk==2.11.2->mindscope_utilities) (0.16.0)\n",
            "Collecting xarray<0.16.0\n",
            "  Downloading xarray-0.15.1-py3-none-any.whl (668 kB)\n",
            "\u001b[K     |████████████████████████████████| 668 kB 38.7 MB/s \n",
            "\u001b[?25hCollecting pynwb<2.0.0,>=1.3.2\n",
            "  Downloading pynwb-1.5.1-py2.py3-none-any.whl (98 kB)\n",
            "\u001b[K     |████████████████████████████████| 98 kB 7.7 MB/s \n",
            "\u001b[?25hCollecting multidict<7.0,>=4.5\n",
            "  Downloading multidict-5.1.0-cp37-cp37m-manylinux2014_x86_64.whl (142 kB)\n",
            "\u001b[K     |████████████████████████████████| 142 kB 56.6 MB/s \n",
            "\u001b[?25hRequirement already satisfied: typing-extensions>=3.6.5 in /usr/local/lib/python3.7/dist-packages (from aiohttp==3.7.4->allensdk==2.11.2->mindscope_utilities) (3.7.4.3)\n",
            "Collecting yarl<2.0,>=1.0\n",
            "  Downloading yarl-1.6.3-cp37-cp37m-manylinux2014_x86_64.whl (294 kB)\n",
            "\u001b[K     |████████████████████████████████| 294 kB 56.3 MB/s \n",
            "\u001b[?25hRequirement already satisfied: chardet<4.0,>=2.0 in /usr/local/lib/python3.7/dist-packages (from aiohttp==3.7.4->allensdk==2.11.2->mindscope_utilities) (3.0.4)\n",
            "Collecting async-timeout<4.0,>=3.0\n",
            "  Downloading async_timeout-3.0.1-py3-none-any.whl (8.2 kB)\n",
            "Requirement already satisfied: attrs>=17.3.0 in /usr/local/lib/python3.7/dist-packages (from aiohttp==3.7.4->allensdk==2.11.2->mindscope_utilities) (21.2.0)\n",
            "Collecting jmespath<1.0.0,>=0.7.1\n",
            "  Downloading jmespath-0.10.0-py2.py3-none-any.whl (24 kB)\n",
            "Collecting s3transfer<0.4.0,>=0.3.0\n",
            "  Downloading s3transfer-0.3.7-py2.py3-none-any.whl (73 kB)\n",
            "\u001b[K     |████████████████████████████████| 73 kB 1.9 MB/s \n",
            "\u001b[?25hCollecting botocore<1.21.0,>=1.20.21\n",
            "  Downloading botocore-1.20.111.tar.gz (7.9 MB)\n",
            "\u001b[K     |████████████████████████████████| 7.9 MB 23.3 MB/s \n",
            "\u001b[?25hRequirement already satisfied: setuptools in /usr/local/lib/python3.7/dist-packages (from glymur==0.8.19->allensdk==2.11.2->mindscope_utilities) (57.0.0)\n",
            "Requirement already satisfied: python-dateutil<3.0.0,>=2.1 in /usr/local/lib/python3.7/dist-packages (from botocore<1.21.0,>=1.20.21->boto3==1.17.21->allensdk==2.11.2->mindscope_utilities) (2.8.1)\n",
            "Collecting urllib3<1.27,>=1.25.4\n",
            "  Downloading urllib3-1.26.6-py2.py3-none-any.whl (138 kB)\n",
            "\u001b[K     |████████████████████████████████| 138 kB 52.5 MB/s \n",
            "\u001b[?25hCollecting ruamel.yaml<1,>=0.15\n",
            "  Downloading ruamel.yaml-0.17.10-py3-none-any.whl (108 kB)\n",
            "\u001b[K     |████████████████████████████████| 108 kB 53.4 MB/s \n",
            "\u001b[?25hRequirement already satisfied: jsonschema<4,>=2.6.0 in /usr/local/lib/python3.7/dist-packages (from hdmf<2.5.0->allensdk==2.11.2->mindscope_utilities) (2.6.0)\n",
            "Requirement already satisfied: MarkupSafe>=0.23 in /usr/local/lib/python3.7/dist-packages (from jinja2<2.12.0,>=2.7.3->allensdk==2.11.2->mindscope_utilities) (2.0.1)\n",
            "Requirement already satisfied: pyparsing!=2.0.4,!=2.1.2,!=2.1.6,>=2.0.1 in /usr/local/lib/python3.7/dist-packages (from matplotlib<4.0.0,>=1.4.3->allensdk==2.11.2->mindscope_utilities) (2.4.7)\n",
            "Requirement already satisfied: kiwisolver>=1.0.1 in /usr/local/lib/python3.7/dist-packages (from matplotlib<4.0.0,>=1.4.3->allensdk==2.11.2->mindscope_utilities) (1.3.1)\n",
            "Requirement already satisfied: cycler>=0.10 in /usr/local/lib/python3.7/dist-packages (from matplotlib<4.0.0,>=1.4.3->allensdk==2.11.2->mindscope_utilities) (0.10.0)\n",
            "Requirement already satisfied: pytz>=2017.2 in /usr/local/lib/python3.7/dist-packages (from pandas<=0.25.3,>=0.25.1->allensdk==2.11.2->mindscope_utilities) (2018.9)\n",
            "Collecting pynwb<2.0.0,>=1.3.2\n",
            "  Downloading pynwb-1.5.0-py2.py3-none-any.whl (98 kB)\n",
            "\u001b[K     |████████████████████████████████| 98 kB 7.4 MB/s \n",
            "\u001b[?25h  Downloading pynwb-1.4.0-py2.py3-none-any.whl (94 kB)\n",
            "\u001b[K     |████████████████████████████████| 94 kB 2.8 MB/s \n",
            "\u001b[?25hRequirement already satisfied: certifi>=2017.4.17 in /usr/local/lib/python3.7/dist-packages (from requests<3.0.0->allensdk==2.11.2->mindscope_utilities) (2021.5.30)\n",
            "Requirement already satisfied: idna<3,>=2.5 in /usr/local/lib/python3.7/dist-packages (from requests<3.0.0->allensdk==2.11.2->mindscope_utilities) (2.10)\n",
            "Collecting urllib3<1.27,>=1.25.4\n",
            "  Downloading urllib3-1.25.11-py2.py3-none-any.whl (127 kB)\n",
            "\u001b[K     |████████████████████████████████| 127 kB 57.7 MB/s \n",
            "\u001b[?25hCollecting ruamel.yaml.clib>=0.1.2\n",
            "  Downloading ruamel.yaml.clib-0.2.6-cp37-cp37m-manylinux1_x86_64.whl (546 kB)\n",
            "\u001b[K     |████████████████████████████████| 546 kB 54.9 MB/s \n",
            "\u001b[?25hCollecting distro\n",
            "  Downloading distro-1.5.0-py2.py3-none-any.whl (18 kB)\n",
            "Requirement already satisfied: packaging in /usr/local/lib/python3.7/dist-packages (from scikit-build<1.0.0->allensdk==2.11.2->mindscope_utilities) (20.9)\n",
            "Requirement already satisfied: wheel>=0.29.0 in /usr/local/lib/python3.7/dist-packages (from scikit-build<1.0.0->allensdk==2.11.2->mindscope_utilities) (0.36.2)\n",
            "Requirement already satisfied: networkx>=2.0 in /usr/local/lib/python3.7/dist-packages (from scikit-image<0.17.0,>=0.14.0->allensdk==2.11.2->mindscope_utilities) (2.5.1)\n",
            "Requirement already satisfied: pillow>=4.3.0 in /usr/local/lib/python3.7/dist-packages (from scikit-image<0.17.0,>=0.14.0->allensdk==2.11.2->mindscope_utilities) (7.1.2)\n",
            "Requirement already satisfied: imageio>=2.3.0 in /usr/local/lib/python3.7/dist-packages (from scikit-image<0.17.0,>=0.14.0->allensdk==2.11.2->mindscope_utilities) (2.4.1)\n",
            "Requirement already satisfied: PyWavelets>=0.4.0 in /usr/local/lib/python3.7/dist-packages (from scikit-image<0.17.0,>=0.14.0->allensdk==2.11.2->mindscope_utilities) (1.1.1)\n",
            "Requirement already satisfied: decorator<5,>=4.3 in /usr/local/lib/python3.7/dist-packages (from networkx>=2.0->scikit-image<0.17.0,>=0.14.0->allensdk==2.11.2->mindscope_utilities) (4.4.2)\n",
            "Requirement already satisfied: patsy>=0.4.0 in /usr/local/lib/python3.7/dist-packages (from statsmodels<=0.13.0->allensdk==2.11.2->mindscope_utilities) (0.5.1)\n",
            "Requirement already satisfied: numexpr>=2.6.2 in /usr/local/lib/python3.7/dist-packages (from tables<4.0.0,>=3.6.0->allensdk==2.11.2->mindscope_utilities) (2.7.3)\n",
            "Collecting pyflakes<2.4.0,>=2.3.0\n",
            "  Downloading pyflakes-2.3.1-py2.py3-none-any.whl (68 kB)\n",
            "\u001b[K     |████████████████████████████████| 68 kB 6.3 MB/s \n",
            "\u001b[?25hCollecting pycodestyle<2.8.0,>=2.7.0\n",
            "  Downloading pycodestyle-2.7.0-py2.py3-none-any.whl (41 kB)\n",
            "\u001b[K     |████████████████████████████████| 41 kB 378 kB/s \n",
            "\u001b[?25hRequirement already satisfied: importlib-metadata in /usr/local/lib/python3.7/dist-packages (from flake8->mindscope_utilities) (4.6.0)\n",
            "Collecting mccabe<0.7.0,>=0.6.0\n",
            "  Downloading mccabe-0.6.1-py2.py3-none-any.whl (8.6 kB)\n",
            "Requirement already satisfied: zipp>=0.5 in /usr/local/lib/python3.7/dist-packages (from importlib-metadata->flake8->mindscope_utilities) (3.4.1)\n",
            "Requirement already satisfied: pluggy<0.8,>=0.5 in /usr/local/lib/python3.7/dist-packages (from pytest->mindscope_utilities) (0.7.1)\n",
            "Requirement already satisfied: more-itertools>=4.0.0 in /usr/local/lib/python3.7/dist-packages (from pytest->mindscope_utilities) (8.8.0)\n",
            "Requirement already satisfied: py>=1.5.0 in /usr/local/lib/python3.7/dist-packages (from pytest->mindscope_utilities) (1.10.0)\n",
            "Requirement already satisfied: atomicwrites>=1.0 in /usr/local/lib/python3.7/dist-packages (from pytest->mindscope_utilities) (1.4.0)\n",
            "Building wheels for collected packages: mindscope-utilities, glymur, argschema, botocore\n",
            "  Building wheel for mindscope-utilities (setup.py) ... \u001b[?25l\u001b[?25hdone\n",
            "  Created wheel for mindscope-utilities: filename=mindscope_utilities-0.1.7-py3-none-any.whl size=7805 sha256=2bc621754d99ce782e748ceffe47946414bd83a62b7a5c4d89135b3a43be6730\n",
            "  Stored in directory: /root/.cache/pip/wheels/ce/5a/03/2ad18634102c4027f28fd15e3f47f6b46883879e3d47aa6dff\n",
            "  Building wheel for glymur (setup.py) ... \u001b[?25l\u001b[?25hdone\n",
            "  Created wheel for glymur: filename=Glymur-0.8.19-py3-none-any.whl size=2722014 sha256=46bf191bd4cb4202d7edc4031e5de3002c7ca2cb61db0a260202fd23dfaa6871\n",
            "  Stored in directory: /root/.cache/pip/wheels/36/bc/bd/1786279b44db4cbd6ded18090d02978fc31e78e3e516551bb4\n",
            "  Building wheel for argschema (setup.py) ... \u001b[?25l\u001b[?25hdone\n",
            "  Created wheel for argschema: filename=argschema-2.0.2-py2.py3-none-any.whl size=17795 sha256=a6b9b23b15c4ec2751dbcb5f6aa117556f5d1703c509850af2238c06c2c064d5\n",
            "  Stored in directory: /root/.cache/pip/wheels/ee/97/a8/4dbf0458be0af473d083a6354c0c126490e82447237bb0b907\n",
            "  Building wheel for botocore (setup.py) ... \u001b[?25l\u001b[?25hdone\n",
            "  Created wheel for botocore: filename=botocore-1.20.111-py2.py3-none-any.whl size=7695032 sha256=e947cb17ad19a7a87eae31568e35ecb23e2023dee16a290885060a627d61e444\n",
            "  Stored in directory: /root/.cache/pip/wheels/a8/53/e5/665511cd53c32746ea9f479f292b4c18d01f8d2050c3c92f85\n",
            "Successfully built mindscope-utilities glymur argschema botocore\n",
            "Installing collected packages: ruamel.yaml.clib, numpy, urllib3, ruamel.yaml, pandas, jmespath, h5py, multidict, hdmf, botocore, yarl, s3transfer, pynwb, marshmallow, distro, async-timeout, xarray, tables, simplejson, simpleitk, scikit-build, requests-toolbelt, pynrrd, pyflakes, pycodestyle, psycopg2-binary, nest-asyncio, ndx-events, mccabe, glymur, boto3, argschema, aiohttp, flake8, allensdk, mindscope-utilities\n",
            "  Attempting uninstall: numpy\n",
            "    Found existing installation: numpy 1.19.5\n",
            "    Uninstalling numpy-1.19.5:\n",
            "      Successfully uninstalled numpy-1.19.5\n",
            "  Attempting uninstall: urllib3\n",
            "    Found existing installation: urllib3 1.24.3\n",
            "    Uninstalling urllib3-1.24.3:\n",
            "      Successfully uninstalled urllib3-1.24.3\n",
            "  Attempting uninstall: pandas\n",
            "    Found existing installation: pandas 1.1.5\n",
            "    Uninstalling pandas-1.1.5:\n",
            "      Successfully uninstalled pandas-1.1.5\n",
            "  Attempting uninstall: h5py\n",
            "    Found existing installation: h5py 3.1.0\n",
            "    Uninstalling h5py-3.1.0:\n",
            "      Successfully uninstalled h5py-3.1.0\n",
            "  Attempting uninstall: xarray\n",
            "    Found existing installation: xarray 0.18.2\n",
            "    Uninstalling xarray-0.18.2:\n",
            "      Successfully uninstalled xarray-0.18.2\n",
            "  Attempting uninstall: tables\n",
            "    Found existing installation: tables 3.4.4\n",
            "    Uninstalling tables-3.4.4:\n",
            "      Successfully uninstalled tables-3.4.4\n",
            "  Attempting uninstall: nest-asyncio\n",
            "    Found existing installation: nest-asyncio 1.5.1\n",
            "    Uninstalling nest-asyncio-1.5.1:\n",
            "      Successfully uninstalled nest-asyncio-1.5.1\n",
            "\u001b[31mERROR: pip's dependency resolver does not currently take into account all the packages that are installed. This behaviour is the source of the following dependency conflicts.\n",
            "tensorflow 2.5.0 requires h5py~=3.1.0, but you have h5py 2.10.0 which is incompatible.\n",
            "tensorflow 2.5.0 requires numpy~=1.19.2, but you have numpy 1.18.5 which is incompatible.\n",
            "nbclient 0.5.3 requires jupyter-client>=6.1.5, but you have jupyter-client 5.3.5 which is incompatible.\n",
            "google-colab 1.0.0 requires pandas~=1.1.0; python_version >= \"3.0\", but you have pandas 0.25.3 which is incompatible.\n",
            "fbprophet 0.7.1 requires pandas>=1.0.4, but you have pandas 0.25.3 which is incompatible.\n",
            "datascience 0.10.6 requires folium==0.2.1, but you have folium 0.8.3 which is incompatible.\n",
            "arviz 0.11.2 requires xarray>=0.16.1, but you have xarray 0.15.1 which is incompatible.\n",
            "albumentations 0.1.12 requires imgaug<0.2.7,>=0.2.5, but you have imgaug 0.2.9 which is incompatible.\u001b[0m\n",
            "Successfully installed aiohttp-3.7.4 allensdk-2.11.2 argschema-2.0.2 async-timeout-3.0.1 boto3-1.17.21 botocore-1.20.111 distro-1.5.0 flake8-3.9.2 glymur-0.8.19 h5py-2.10.0 hdmf-2.4.0 jmespath-0.10.0 marshmallow-3.0.0rc6 mccabe-0.6.1 mindscope-utilities-0.1.7 multidict-5.1.0 ndx-events-0.2.0 nest-asyncio-1.2.0 numpy-1.18.5 pandas-0.25.3 psycopg2-binary-2.9.1 pycodestyle-2.7.0 pyflakes-2.3.1 pynrrd-0.4.2 pynwb-1.4.0 requests-toolbelt-0.9.1 ruamel.yaml-0.17.10 ruamel.yaml.clib-0.2.6 s3transfer-0.3.7 scikit-build-0.11.1 simpleitk-2.0.2 simplejson-3.17.3 tables-3.6.1 urllib3-1.25.11 xarray-0.15.1 yarl-1.6.3\n",
            "\u001b[33mWARNING: Running pip as the 'root' user can result in broken permissions and conflicting behaviour with the system package manager. It is recommended to use a virtual environment instead: https://pip.pypa.io/warnings/venv\u001b[0m\n"
          ],
          "name": "stdout"
        },
        {
          "output_type": "display_data",
          "data": {
            "application/vnd.colab-display-data+json": {
              "pip_warning": {
                "packages": [
                  "numpy",
                  "pandas"
                ]
              }
            }
          },
          "metadata": {
            "tags": []
          }
        }
      ]
    },
    {
      "cell_type": "markdown",
      "metadata": {
        "id": "0iT7O4WaiYAH"
      },
      "source": [
        "#### Next we will import packages we need later in the notebook"
      ]
    },
    {
      "cell_type": "code",
      "metadata": {
        "id": "cgFHDxOcaJut"
      },
      "source": [
        "import os\n",
        "import numpy as np\n",
        "import pandas as pd\n",
        "from tqdm import tqdm\n",
        "import seaborn as sns\n",
        "import matplotlib.pyplot as plt\n",
        "\n",
        "import mindscope_utilities\n",
        "import mindscope_utilities.visual_behavior_ophys as ophys\n",
        "\n",
        "from allensdk.brain_observatory.behavior.behavior_project_cache import VisualBehaviorOphysProjectCache\n",
        "\n",
        "pd.set_option('display.max_columns', 500)"
      ],
      "execution_count": 1,
      "outputs": []
    },
    {
      "cell_type": "markdown",
      "metadata": {
        "id": "FjFtKoQ2id_6"
      },
      "source": [
        "# Load the session and experiment summary tables\n",
        "\n",
        "We download the data cache:\n",
        "\n",
        "- `ophys_session_table` contains data describing imaging sessions - one session can contain more than one imaging experiment (more than one plane), and not all behavioral session are accompanied by imaging. contains metadata describing imaging sessions. If more than one plane was imaged during a session, one ophys session id will be associated multiple *ophys experiment ids*. Each ophys session id will also have a unique *behavior session id*\n",
        "- `behavior_session_table` contains metadata describing behavioral sessions, which may or may not be during imaging. Behavior session ids that do not have *ophys session ids* were training sessions\n",
        "- `ophys_experiment_table` contains metadata describing imaging experiments (aka imaging planes). When mesoscope is used, one ophys session may contain up to 8 unique experiments (two visual areas by four imaging depths). Some imaging planes may not be released due to quality control issues, thus each ophys session id is associated with anywhere from one to eight unique *experiment ids*. Ophys experiment ids are unique and do not repeat across sessions. To find the same imaging plane that was matched across multiple sessions, use the *ophys_container_id* column that can be found in both ophys_session_table and ophys_experiment_table"
      ]
    },
    {
      "cell_type": "code",
      "metadata": {
        "id": "pvamvtoUbWTR",
        "colab": {
          "base_uri": "https://localhost:8080/"
        },
        "outputId": "2e844bd6-1f18-4586-cd6a-2661c072cad5"
      },
      "source": [
        "data_storage_directory = \"/temp\" # Note: this path must exist on your local drive\n",
        "cache = VisualBehaviorOphysProjectCache.from_s3_cache(cache_dir=data_storage_directory)"
      ],
      "execution_count": 2,
      "outputs": [
        {
          "output_type": "stream",
          "text": [
            "ophys_session_table.csv: 100%|██████████| 165k/165k [00:00<00:00, 3.32MMB/s]\n",
            "behavior_session_table.csv: 100%|██████████| 885k/885k [00:00<00:00, 11.7MMB/s]\n",
            "ophys_experiment_table.csv: 100%|██████████| 336k/336k [00:00<00:00, 5.37MMB/s]\n"
          ],
          "name": "stderr"
        }
      ]
    },
    {
      "cell_type": "markdown",
      "metadata": {
        "id": "XL5LV5fti5tc"
      },
      "source": [
        "Then we can access the session and experiment tables directly.\n",
        "\n",
        "Note that a 'session' is a single behavioral session. Sessions that are performed on the mesoscope will have multiple (up to 8) 'experiments' associated with them, where an experiment is a distinct imaging plane. "
      ]
    },
    {
      "cell_type": "code",
      "metadata": {
        "id": "pOCbdeNbd7w8"
      },
      "source": [
        "session_table = cache.get_ophys_session_table()\n",
        "experiment_table = cache.get_ophys_experiment_table()\n",
        "behavior_session_table = cache.get_behavior_session_table()"
      ],
      "execution_count": 3,
      "outputs": []
    },
    {
      "cell_type": "markdown",
      "metadata": {
        "id": "jUguZ4QGjQF7"
      },
      "source": [
        "We can then view the contents of the session table. Note that this contains a lot of useful metadata about each session. One of the columns, `ophys_experiment_id` provides a list of the experiments (aka imaging planes) that are associated with each session."
      ]
    },
    {
      "cell_type": "markdown",
      "metadata": {
        "id": "ai6Fuk4RbH8Z"
      },
      "source": [
        "# EXTRACT AND AVERAGE ACTIVITY OF ALL THE CELLS IN THE SESSION\n"
      ]
    },
    {
      "cell_type": "markdown",
      "metadata": {
        "id": "nu0ZivXfrzXT"
      },
      "source": [
        "### Make a dictionary of experiments in one session"
      ]
    },
    {
      "cell_type": "code",
      "metadata": {
        "id": "zWiK9667ryhq"
      },
      "source": [
        "def session_experiments(ophys_session_id):\n",
        "  experiments = {}\n",
        "  ophys_experiment_ids = session_table.loc[ophys_session_id]['ophys_experiment_id']\n",
        "  for ophys_experiment_id in ophys_experiment_ids:\n",
        "    experiments[ophys_experiment_id] = cache.get_behavior_ophys_experiment(ophys_experiment_id)\n",
        "  return experiments"
      ],
      "execution_count": 16,
      "outputs": []
    },
    {
      "cell_type": "markdown",
      "metadata": {
        "id": "1spAdQsKsnNJ"
      },
      "source": [
        "### Make a neural data dataset for one session"
      ]
    },
    {
      "cell_type": "code",
      "metadata": {
        "id": "7nnZxXzVq2yP"
      },
      "source": [
        "def session_neural_data(this_session_experiments):\n",
        "  neural_data = []\n",
        "  for ophys_experiment_id in tqdm(this_session_experiments.keys()): #tqdm is a package that shows progress bars for items that are iterated over\n",
        "    this_experiment = this_session_experiments[ophys_experiment_id]\n",
        "    this_experiment_neural_data = ophys.build_tidy_cell_df(this_experiment)\n",
        "    \n",
        "    # add some columns with metadata for the experiment\n",
        "    metadata_keys = [\n",
        "        'ophys_experiment_id',\n",
        "        'ophys_session_id',\n",
        "        'targeted_structure',\n",
        "        'imaging_depth',\n",
        "        'equipment_name',\n",
        "        'cre_line',\n",
        "        'mouse_id',\n",
        "        'sex',\n",
        "    ]\n",
        "    for metadata_key in metadata_keys:\n",
        "        this_experiment_neural_data[metadata_key] = this_experiment.metadata[metadata_key]\n",
        "        \n",
        "    # append the data for this experiment to a list\n",
        "    neural_data.append(this_experiment_neural_data)\n",
        "    \n",
        "  # concatate the list of dataframes into a single dataframe\n",
        "  neural_data = pd.concat(neural_data)\n",
        "  \n",
        "  return neural_data"
      ],
      "execution_count": 15,
      "outputs": []
    },
    {
      "cell_type": "markdown",
      "metadata": {
        "id": "cOoVNIqKt9N4"
      },
      "source": [
        "### Make a session dictionary including a list of experiments and a dataframe with neural data"
      ]
    },
    {
      "cell_type": "code",
      "metadata": {
        "id": "Gl6Ciw0duD6m"
      },
      "source": [
        "def make_session_dictionary_entry(ophys_session_id):\n",
        "  this_session_experiments = session_experiments(ophys_session_id) #creates a dictionary of experiments in the session (experiment_id as a key)\n",
        "  this_session_neural_data = session_neural_data(this_session_experiments)\n",
        "  return [this_session_experiments, this_session_neural_data]"
      ],
      "execution_count": 20,
      "outputs": []
    },
    {
      "cell_type": "code",
      "metadata": {
        "colab": {
          "base_uri": "https://localhost:8080/"
        },
        "id": "78iyMET3TG_A",
        "outputId": "a0947ec5-227f-478e-d212-c95e19c2ae8c"
      },
      "source": [
        "session_dictionary = {}\n",
        "\n",
        "ophys_session_id = 854060305\n",
        "session_dictionary[ophys_session_id] = make_session_dictionary_entry(ophys_session_id)"
      ],
      "execution_count": 21,
      "outputs": [
        {
          "output_type": "stream",
          "text": [
            "100%|██████████| 6/6 [00:35<00:00,  5.95s/it]\n"
          ],
          "name": "stderr"
        }
      ]
    },
    {
      "cell_type": "code",
      "metadata": {
        "colab": {
          "base_uri": "https://localhost:8080/",
          "height": 507
        },
        "id": "5M54F_5hURb6",
        "outputId": "7563df3c-8356-4b07-ac79-d2a0ef430a59"
      },
      "source": [
        "session_dictionary[ophys_session_id][0][list(session_dictionary[ophys_session_id][0].keys())[0]].dff_"
      ],
      "execution_count": 30,
      "outputs": [
        {
          "output_type": "execute_result",
          "data": {
            "text/html": [
              "<div>\n",
              "<style scoped>\n",
              "    .dataframe tbody tr th:only-of-type {\n",
              "        vertical-align: middle;\n",
              "    }\n",
              "\n",
              "    .dataframe tbody tr th {\n",
              "        vertical-align: top;\n",
              "    }\n",
              "\n",
              "    .dataframe thead th {\n",
              "        text-align: right;\n",
              "    }\n",
              "</style>\n",
              "<table border=\"1\" class=\"dataframe\">\n",
              "  <thead>\n",
              "    <tr style=\"text-align: right;\">\n",
              "      <th></th>\n",
              "      <th>cell_roi_id</th>\n",
              "      <th>height</th>\n",
              "      <th>mask_image_plane</th>\n",
              "      <th>max_correction_down</th>\n",
              "      <th>max_correction_left</th>\n",
              "      <th>max_correction_right</th>\n",
              "      <th>max_correction_up</th>\n",
              "      <th>valid_roi</th>\n",
              "      <th>width</th>\n",
              "      <th>x</th>\n",
              "      <th>y</th>\n",
              "      <th>roi_mask</th>\n",
              "    </tr>\n",
              "    <tr>\n",
              "      <th>cell_specimen_id</th>\n",
              "      <th></th>\n",
              "      <th></th>\n",
              "      <th></th>\n",
              "      <th></th>\n",
              "      <th></th>\n",
              "      <th></th>\n",
              "      <th></th>\n",
              "      <th></th>\n",
              "      <th></th>\n",
              "      <th></th>\n",
              "      <th></th>\n",
              "      <th></th>\n",
              "    </tr>\n",
              "  </thead>\n",
              "  <tbody>\n",
              "    <tr>\n",
              "      <th>1086550481</th>\n",
              "      <td>1080852071</td>\n",
              "      <td>16</td>\n",
              "      <td>0</td>\n",
              "      <td>6.0</td>\n",
              "      <td>10.0</td>\n",
              "      <td>6.0</td>\n",
              "      <td>9.0</td>\n",
              "      <td>True</td>\n",
              "      <td>23</td>\n",
              "      <td>429</td>\n",
              "      <td>234</td>\n",
              "      <td>[[False, False, False, False, False, False, Fa...</td>\n",
              "    </tr>\n",
              "    <tr>\n",
              "      <th>1086551114</th>\n",
              "      <td>1080852085</td>\n",
              "      <td>20</td>\n",
              "      <td>0</td>\n",
              "      <td>6.0</td>\n",
              "      <td>10.0</td>\n",
              "      <td>6.0</td>\n",
              "      <td>9.0</td>\n",
              "      <td>True</td>\n",
              "      <td>21</td>\n",
              "      <td>58</td>\n",
              "      <td>444</td>\n",
              "      <td>[[False, False, False, False, False, False, Fa...</td>\n",
              "    </tr>\n",
              "    <tr>\n",
              "      <th>1086551301</th>\n",
              "      <td>1080852093</td>\n",
              "      <td>25</td>\n",
              "      <td>0</td>\n",
              "      <td>6.0</td>\n",
              "      <td>10.0</td>\n",
              "      <td>6.0</td>\n",
              "      <td>9.0</td>\n",
              "      <td>True</td>\n",
              "      <td>20</td>\n",
              "      <td>378</td>\n",
              "      <td>325</td>\n",
              "      <td>[[False, False, False, False, False, False, Fa...</td>\n",
              "    </tr>\n",
              "  </tbody>\n",
              "</table>\n",
              "</div>"
            ],
            "text/plain": [
              "                  cell_roi_id  height  mask_image_plane  max_correction_down  \\\n",
              "cell_specimen_id                                                               \n",
              "1086550481         1080852071      16                 0                  6.0   \n",
              "1086551114         1080852085      20                 0                  6.0   \n",
              "1086551301         1080852093      25                 0                  6.0   \n",
              "\n",
              "                  max_correction_left  max_correction_right  \\\n",
              "cell_specimen_id                                              \n",
              "1086550481                       10.0                   6.0   \n",
              "1086551114                       10.0                   6.0   \n",
              "1086551301                       10.0                   6.0   \n",
              "\n",
              "                  max_correction_up  valid_roi  width    x    y  \\\n",
              "cell_specimen_id                                                  \n",
              "1086550481                      9.0       True     23  429  234   \n",
              "1086551114                      9.0       True     21   58  444   \n",
              "1086551301                      9.0       True     20  378  325   \n",
              "\n",
              "                                                           roi_mask  \n",
              "cell_specimen_id                                                     \n",
              "1086550481        [[False, False, False, False, False, False, Fa...  \n",
              "1086551114        [[False, False, False, False, False, False, Fa...  \n",
              "1086551301        [[False, False, False, False, False, False, Fa...  "
            ]
          },
          "metadata": {
            "tags": []
          },
          "execution_count": 30
        }
      ]
    },
    {
      "cell_type": "markdown",
      "metadata": {
        "id": "iTHZyukxroxX"
      },
      "source": [
        "### Extract data for one cell and align it with event times"
      ]
    },
    {
      "cell_type": "code",
      "metadata": {
        "id": "CnxbUx1lbcZc"
      },
      "source": [
        "def align_cell_with_event(ophys_session_id, ophys_experiment_id, cell_specimen_id, window_width = 3, session_dictionary = session_dictionary):\n",
        "  #the function requires neural data for all the experiments in the session and a dictionary with experiments ids\n",
        "\n",
        "  #identify experiment & corresponding neural data\n",
        "  this_experiment = session_dictionary[ophys_session_id][0][ophys_experiment_id]\n",
        "  neural_data = session_dictionary[ophys_session_id][1]\n",
        "\n",
        "  # extract hits\n",
        "  etr_hit = mindscope_utilities.event_triggered_response(\n",
        "    data = neural_data.query('ophys_experiment_id == @ophys_experiment_id and cell_specimen_id == @cell_specimen_id'),\n",
        "    t = 'timestamps',\n",
        "    y = 'dff',\n",
        "    event_times = this_experiment.trials.query('hit')['change_time'],\n",
        "    t_before=window_width,\n",
        "    t_after=window_width,\n",
        "    output_sampling_rate = 50,\n",
        "  )\n",
        "  # add hit indicator\n",
        "  etr_hit['hit_miss'] = 'hit'\n",
        "\n",
        "  # extract misses\n",
        "  etr_miss = mindscope_utilities.event_triggered_response(\n",
        "    data = neural_data.query('ophys_experiment_id == @ophys_experiment_id and cell_specimen_id == @cell_specimen_id'),\n",
        "    t = 'timestamps',\n",
        "    y = 'dff',\n",
        "    event_times = this_experiment.trials.query('miss')['change_time'],\n",
        "    t_before=window_width,\n",
        "    t_after=window_width,\n",
        "    output_sampling_rate = 50,\n",
        "  )\n",
        "  # add miss indicator\n",
        "  etr_miss['hit_miss'] = 'miss'\n",
        "\n",
        "  #concatenate\n",
        "  etr = pd.concat([etr_hit, etr_miss])\n",
        "\n",
        "  #add session and cell specimen id, metadata\n",
        "  etr['ophys_session_id'] = this_experiment.metadata['ophys_session_id']\n",
        "  etr['ophys_experiment_id'] = ophys_experiment_id  \n",
        "  etr['cell_specimen_id'] = cell_specimen_id\n",
        "  #etr['cell_roi_id'] = this_experiment.dff_traces.loc[cell_specimen_id]['cell_roi_id']\n",
        "  etr['cre_line'] = this_experiment.metadata['cre_line']\n",
        "  etr['imaging_depth'] = this_experiment.metadata['imaging_depth']\n",
        "  etr['mouse_id'] = this_experiment.metadata['mouse_id']\n",
        "  etr['sex'] = this_experiment.metadata['sex']\n",
        "\n",
        "  return etr"
      ],
      "execution_count": 87,
      "outputs": []
    },
    {
      "cell_type": "markdown",
      "metadata": {
        "id": "lYZNXfizWiYK"
      },
      "source": [
        "### Get cells from one session"
      ]
    },
    {
      "cell_type": "code",
      "metadata": {
        "id": "0S-40uLPWgTr"
      },
      "source": [
        "def get_cells_from_session(ophys_session_id, session_dictionary = session_dictionary):\n",
        "  ophys_experiment_ids = list(session_dictionary[ophys_session_id][0].keys())\n",
        "\n",
        "  aligned_cells = []\n",
        "  for ophys_experiment_id in ophys_experiment_ids:\n",
        "    cells_specimen_ids = session_dictionary[ophys_session_id][0][ophys_experiment_id].dff_traces.index\n",
        "    for cell_specimen_id in cells_specimen_ids:\n",
        "      print('Session:', ophys_session_id, 'Experiment:', ophys_experiment_id, 'Cell:', cell_specimen_id)\n",
        "      this_cell = align_cell_with_event(ophys_session_id, ophys_experiment_id, cell_specimen_id)\n",
        "      aligned_cells.append(this_cell)\n",
        "  \n",
        "  aligned_cells = pd.concat(aligned_cells)\n",
        "\n",
        "  return aligned_cells"
      ],
      "execution_count": 94,
      "outputs": []
    },
    {
      "cell_type": "code",
      "metadata": {
        "colab": {
          "base_uri": "https://localhost:8080/"
        },
        "id": "uuO8nJsRb8rB",
        "outputId": "3baa18b5-f5e8-4215-8c1a-eda969dd67bd"
      },
      "source": [
        "ophys_experiment_ids = list(session_dictionary[ophys_session_id][0].keys())\n",
        "ophys_experiment_ids"
      ],
      "execution_count": 37,
      "outputs": [
        {
          "output_type": "execute_result",
          "data": {
            "text/plain": [
              "[854759890, 854759894, 854759896, 854759898, 854759900, 854759903]"
            ]
          },
          "metadata": {
            "tags": []
          },
          "execution_count": 37
        }
      ]
    },
    {
      "cell_type": "code",
      "metadata": {
        "colab": {
          "base_uri": "https://localhost:8080/"
        },
        "id": "iPRaq1Hvc6Jg",
        "outputId": "f302749e-3a1e-408c-d637-46d2e0d0e3d0"
      },
      "source": [
        "len(session_dictionary[ophys_session_id][0][854759890].dff_traces.index)"
      ],
      "execution_count": 67,
      "outputs": [
        {
          "output_type": "execute_result",
          "data": {
            "text/plain": [
              "3"
            ]
          },
          "metadata": {
            "tags": []
          },
          "execution_count": 67
        }
      ]
    },
    {
      "cell_type": "code",
      "metadata": {
        "colab": {
          "base_uri": "https://localhost:8080/"
        },
        "id": "HD3r1-HWccJ7",
        "outputId": "e863416a-6600-46e9-f2f3-063297eea3b3"
      },
      "source": [
        "my_cells = get_cells_from_session(ophys_session_id)"
      ],
      "execution_count": 93,
      "outputs": [
        {
          "output_type": "stream",
          "text": [
            "854060305 854759890 1086550481\n",
            "854060305 854759890 1086551114\n",
            "854060305 854759890 1086551301\n",
            "854060305 854759894 1086557083\n",
            "854060305 854759894 1086557639\n",
            "854060305 854759894 1086559064\n",
            "854060305 854759894 1086558114\n",
            "854060305 854759894 1086558224\n",
            "854060305 854759894 1086558510\n",
            "854060305 854759894 1086559206\n",
            "854060305 854759894 1086557304\n",
            "854060305 854759894 1086557208\n",
            "854060305 854759894 1086560061\n",
            "854060305 854759894 1086559681\n",
            "854060305 854759894 1086559885\n",
            "854060305 854759894 1086559968\n",
            "854060305 854759894 1086557470\n",
            "854060305 854759896 1086547796\n",
            "854060305 854759896 1086547993\n",
            "854060305 854759896 1086548118\n",
            "854060305 854759898 1086554566\n",
            "854060305 854759898 1086556653\n",
            "854060305 854759898 1086558574\n",
            "854060305 854759898 1086552296\n",
            "854060305 854759898 1086558071\n",
            "854060305 854759898 1086556532\n",
            "854060305 854759898 1086555222\n",
            "854060305 854759898 1086558701\n",
            "854060305 854759898 1086557434\n",
            "854060305 854759898 1086556317\n",
            "854060305 854759898 1086555835\n",
            "854060305 854759900 1086549726\n",
            "854060305 854759900 1086553836\n",
            "854060305 854759900 1086551540\n",
            "854060305 854759900 1086551151\n",
            "854060305 854759900 1086550544\n",
            "854060305 854759900 1086552709\n",
            "854060305 854759900 1086553271\n",
            "854060305 854759900 1086553602\n",
            "854060305 854759900 1086555553\n",
            "854060305 854759903 1086548072\n",
            "854060305 854759903 1086553899\n",
            "854060305 854759903 1086547630\n",
            "854060305 854759903 1086549303\n",
            "854060305 854759903 1086549491\n",
            "854060305 854759903 1086549813\n",
            "854060305 854759903 1086549949\n",
            "854060305 854759903 1086548658\n",
            "854060305 854759903 1086548969\n",
            "854060305 854759903 1086551457\n",
            "854060305 854759903 1086551645\n",
            "854060305 854759903 1086550990\n",
            "854060305 854759903 1086551209\n"
          ],
          "name": "stdout"
        }
      ]
    },
    {
      "cell_type": "code",
      "metadata": {
        "colab": {
          "base_uri": "https://localhost:8080/",
          "height": 677
        },
        "id": "sp8U84K8i30D",
        "outputId": "5e365cba-8c10-4397-83ed-eab3813310b7"
      },
      "source": [
        "my_cells.head(20)"
      ],
      "execution_count": 103,
      "outputs": [
        {
          "output_type": "execute_result",
          "data": {
            "text/html": [
              "<div>\n",
              "<style scoped>\n",
              "    .dataframe tbody tr th:only-of-type {\n",
              "        vertical-align: middle;\n",
              "    }\n",
              "\n",
              "    .dataframe tbody tr th {\n",
              "        vertical-align: top;\n",
              "    }\n",
              "\n",
              "    .dataframe thead th {\n",
              "        text-align: right;\n",
              "    }\n",
              "</style>\n",
              "<table border=\"1\" class=\"dataframe\">\n",
              "  <thead>\n",
              "    <tr style=\"text-align: right;\">\n",
              "      <th></th>\n",
              "      <th>time</th>\n",
              "      <th>dff</th>\n",
              "      <th>event_number</th>\n",
              "      <th>event_time</th>\n",
              "      <th>hit_miss</th>\n",
              "      <th>ophys_session_id</th>\n",
              "      <th>ophys_experiment_id</th>\n",
              "      <th>cell_specimen_id</th>\n",
              "      <th>cre_line</th>\n",
              "      <th>imaging_depth</th>\n",
              "      <th>mouse_id</th>\n",
              "      <th>sex</th>\n",
              "    </tr>\n",
              "  </thead>\n",
              "  <tbody>\n",
              "    <tr>\n",
              "      <th>0</th>\n",
              "      <td>-3.00</td>\n",
              "      <td>0.046457</td>\n",
              "      <td>0</td>\n",
              "      <td>388.650196</td>\n",
              "      <td>hit</td>\n",
              "      <td>854060305</td>\n",
              "      <td>854759890</td>\n",
              "      <td>1086550481</td>\n",
              "      <td>Sst-IRES-Cre</td>\n",
              "      <td>275</td>\n",
              "      <td>440631</td>\n",
              "      <td>M</td>\n",
              "    </tr>\n",
              "    <tr>\n",
              "      <th>1</th>\n",
              "      <td>-2.98</td>\n",
              "      <td>0.046457</td>\n",
              "      <td>0</td>\n",
              "      <td>388.650196</td>\n",
              "      <td>hit</td>\n",
              "      <td>854060305</td>\n",
              "      <td>854759890</td>\n",
              "      <td>1086550481</td>\n",
              "      <td>Sst-IRES-Cre</td>\n",
              "      <td>275</td>\n",
              "      <td>440631</td>\n",
              "      <td>M</td>\n",
              "    </tr>\n",
              "    <tr>\n",
              "      <th>2</th>\n",
              "      <td>-2.96</td>\n",
              "      <td>0.046457</td>\n",
              "      <td>0</td>\n",
              "      <td>388.650196</td>\n",
              "      <td>hit</td>\n",
              "      <td>854060305</td>\n",
              "      <td>854759890</td>\n",
              "      <td>1086550481</td>\n",
              "      <td>Sst-IRES-Cre</td>\n",
              "      <td>275</td>\n",
              "      <td>440631</td>\n",
              "      <td>M</td>\n",
              "    </tr>\n",
              "    <tr>\n",
              "      <th>3</th>\n",
              "      <td>-2.94</td>\n",
              "      <td>0.046457</td>\n",
              "      <td>0</td>\n",
              "      <td>388.650196</td>\n",
              "      <td>hit</td>\n",
              "      <td>854060305</td>\n",
              "      <td>854759890</td>\n",
              "      <td>1086550481</td>\n",
              "      <td>Sst-IRES-Cre</td>\n",
              "      <td>275</td>\n",
              "      <td>440631</td>\n",
              "      <td>M</td>\n",
              "    </tr>\n",
              "    <tr>\n",
              "      <th>4</th>\n",
              "      <td>-2.92</td>\n",
              "      <td>0.046457</td>\n",
              "      <td>0</td>\n",
              "      <td>388.650196</td>\n",
              "      <td>hit</td>\n",
              "      <td>854060305</td>\n",
              "      <td>854759890</td>\n",
              "      <td>1086550481</td>\n",
              "      <td>Sst-IRES-Cre</td>\n",
              "      <td>275</td>\n",
              "      <td>440631</td>\n",
              "      <td>M</td>\n",
              "    </tr>\n",
              "    <tr>\n",
              "      <th>5</th>\n",
              "      <td>-2.90</td>\n",
              "      <td>0.051831</td>\n",
              "      <td>0</td>\n",
              "      <td>388.650196</td>\n",
              "      <td>hit</td>\n",
              "      <td>854060305</td>\n",
              "      <td>854759890</td>\n",
              "      <td>1086550481</td>\n",
              "      <td>Sst-IRES-Cre</td>\n",
              "      <td>275</td>\n",
              "      <td>440631</td>\n",
              "      <td>M</td>\n",
              "    </tr>\n",
              "    <tr>\n",
              "      <th>6</th>\n",
              "      <td>-2.88</td>\n",
              "      <td>0.067718</td>\n",
              "      <td>0</td>\n",
              "      <td>388.650196</td>\n",
              "      <td>hit</td>\n",
              "      <td>854060305</td>\n",
              "      <td>854759890</td>\n",
              "      <td>1086550481</td>\n",
              "      <td>Sst-IRES-Cre</td>\n",
              "      <td>275</td>\n",
              "      <td>440631</td>\n",
              "      <td>M</td>\n",
              "    </tr>\n",
              "    <tr>\n",
              "      <th>7</th>\n",
              "      <td>-2.86</td>\n",
              "      <td>0.083605</td>\n",
              "      <td>0</td>\n",
              "      <td>388.650196</td>\n",
              "      <td>hit</td>\n",
              "      <td>854060305</td>\n",
              "      <td>854759890</td>\n",
              "      <td>1086550481</td>\n",
              "      <td>Sst-IRES-Cre</td>\n",
              "      <td>275</td>\n",
              "      <td>440631</td>\n",
              "      <td>M</td>\n",
              "    </tr>\n",
              "    <tr>\n",
              "      <th>8</th>\n",
              "      <td>-2.84</td>\n",
              "      <td>0.099492</td>\n",
              "      <td>0</td>\n",
              "      <td>388.650196</td>\n",
              "      <td>hit</td>\n",
              "      <td>854060305</td>\n",
              "      <td>854759890</td>\n",
              "      <td>1086550481</td>\n",
              "      <td>Sst-IRES-Cre</td>\n",
              "      <td>275</td>\n",
              "      <td>440631</td>\n",
              "      <td>M</td>\n",
              "    </tr>\n",
              "    <tr>\n",
              "      <th>9</th>\n",
              "      <td>-2.82</td>\n",
              "      <td>0.115378</td>\n",
              "      <td>0</td>\n",
              "      <td>388.650196</td>\n",
              "      <td>hit</td>\n",
              "      <td>854060305</td>\n",
              "      <td>854759890</td>\n",
              "      <td>1086550481</td>\n",
              "      <td>Sst-IRES-Cre</td>\n",
              "      <td>275</td>\n",
              "      <td>440631</td>\n",
              "      <td>M</td>\n",
              "    </tr>\n",
              "    <tr>\n",
              "      <th>10</th>\n",
              "      <td>-2.80</td>\n",
              "      <td>0.093923</td>\n",
              "      <td>0</td>\n",
              "      <td>388.650196</td>\n",
              "      <td>hit</td>\n",
              "      <td>854060305</td>\n",
              "      <td>854759890</td>\n",
              "      <td>1086550481</td>\n",
              "      <td>Sst-IRES-Cre</td>\n",
              "      <td>275</td>\n",
              "      <td>440631</td>\n",
              "      <td>M</td>\n",
              "    </tr>\n",
              "    <tr>\n",
              "      <th>11</th>\n",
              "      <td>-2.78</td>\n",
              "      <td>0.054553</td>\n",
              "      <td>0</td>\n",
              "      <td>388.650196</td>\n",
              "      <td>hit</td>\n",
              "      <td>854060305</td>\n",
              "      <td>854759890</td>\n",
              "      <td>1086550481</td>\n",
              "      <td>Sst-IRES-Cre</td>\n",
              "      <td>275</td>\n",
              "      <td>440631</td>\n",
              "      <td>M</td>\n",
              "    </tr>\n",
              "    <tr>\n",
              "      <th>12</th>\n",
              "      <td>-2.76</td>\n",
              "      <td>0.015183</td>\n",
              "      <td>0</td>\n",
              "      <td>388.650196</td>\n",
              "      <td>hit</td>\n",
              "      <td>854060305</td>\n",
              "      <td>854759890</td>\n",
              "      <td>1086550481</td>\n",
              "      <td>Sst-IRES-Cre</td>\n",
              "      <td>275</td>\n",
              "      <td>440631</td>\n",
              "      <td>M</td>\n",
              "    </tr>\n",
              "    <tr>\n",
              "      <th>13</th>\n",
              "      <td>-2.74</td>\n",
              "      <td>-0.024187</td>\n",
              "      <td>0</td>\n",
              "      <td>388.650196</td>\n",
              "      <td>hit</td>\n",
              "      <td>854060305</td>\n",
              "      <td>854759890</td>\n",
              "      <td>1086550481</td>\n",
              "      <td>Sst-IRES-Cre</td>\n",
              "      <td>275</td>\n",
              "      <td>440631</td>\n",
              "      <td>M</td>\n",
              "    </tr>\n",
              "    <tr>\n",
              "      <th>14</th>\n",
              "      <td>-2.72</td>\n",
              "      <td>-0.063100</td>\n",
              "      <td>0</td>\n",
              "      <td>388.650196</td>\n",
              "      <td>hit</td>\n",
              "      <td>854060305</td>\n",
              "      <td>854759890</td>\n",
              "      <td>1086550481</td>\n",
              "      <td>Sst-IRES-Cre</td>\n",
              "      <td>275</td>\n",
              "      <td>440631</td>\n",
              "      <td>M</td>\n",
              "    </tr>\n",
              "    <tr>\n",
              "      <th>15</th>\n",
              "      <td>-2.70</td>\n",
              "      <td>-0.068072</td>\n",
              "      <td>0</td>\n",
              "      <td>388.650196</td>\n",
              "      <td>hit</td>\n",
              "      <td>854060305</td>\n",
              "      <td>854759890</td>\n",
              "      <td>1086550481</td>\n",
              "      <td>Sst-IRES-Cre</td>\n",
              "      <td>275</td>\n",
              "      <td>440631</td>\n",
              "      <td>M</td>\n",
              "    </tr>\n",
              "    <tr>\n",
              "      <th>16</th>\n",
              "      <td>-2.68</td>\n",
              "      <td>-0.073044</td>\n",
              "      <td>0</td>\n",
              "      <td>388.650196</td>\n",
              "      <td>hit</td>\n",
              "      <td>854060305</td>\n",
              "      <td>854759890</td>\n",
              "      <td>1086550481</td>\n",
              "      <td>Sst-IRES-Cre</td>\n",
              "      <td>275</td>\n",
              "      <td>440631</td>\n",
              "      <td>M</td>\n",
              "    </tr>\n",
              "    <tr>\n",
              "      <th>17</th>\n",
              "      <td>-2.66</td>\n",
              "      <td>-0.078016</td>\n",
              "      <td>0</td>\n",
              "      <td>388.650196</td>\n",
              "      <td>hit</td>\n",
              "      <td>854060305</td>\n",
              "      <td>854759890</td>\n",
              "      <td>1086550481</td>\n",
              "      <td>Sst-IRES-Cre</td>\n",
              "      <td>275</td>\n",
              "      <td>440631</td>\n",
              "      <td>M</td>\n",
              "    </tr>\n",
              "    <tr>\n",
              "      <th>18</th>\n",
              "      <td>-2.64</td>\n",
              "      <td>-0.082988</td>\n",
              "      <td>0</td>\n",
              "      <td>388.650196</td>\n",
              "      <td>hit</td>\n",
              "      <td>854060305</td>\n",
              "      <td>854759890</td>\n",
              "      <td>1086550481</td>\n",
              "      <td>Sst-IRES-Cre</td>\n",
              "      <td>275</td>\n",
              "      <td>440631</td>\n",
              "      <td>M</td>\n",
              "    </tr>\n",
              "    <tr>\n",
              "      <th>19</th>\n",
              "      <td>-2.62</td>\n",
              "      <td>-0.084571</td>\n",
              "      <td>0</td>\n",
              "      <td>388.650196</td>\n",
              "      <td>hit</td>\n",
              "      <td>854060305</td>\n",
              "      <td>854759890</td>\n",
              "      <td>1086550481</td>\n",
              "      <td>Sst-IRES-Cre</td>\n",
              "      <td>275</td>\n",
              "      <td>440631</td>\n",
              "      <td>M</td>\n",
              "    </tr>\n",
              "  </tbody>\n",
              "</table>\n",
              "</div>"
            ],
            "text/plain": [
              "    time       dff  event_number  event_time hit_miss  ophys_session_id  \\\n",
              "0  -3.00  0.046457             0  388.650196      hit         854060305   \n",
              "1  -2.98  0.046457             0  388.650196      hit         854060305   \n",
              "2  -2.96  0.046457             0  388.650196      hit         854060305   \n",
              "3  -2.94  0.046457             0  388.650196      hit         854060305   \n",
              "4  -2.92  0.046457             0  388.650196      hit         854060305   \n",
              "5  -2.90  0.051831             0  388.650196      hit         854060305   \n",
              "6  -2.88  0.067718             0  388.650196      hit         854060305   \n",
              "7  -2.86  0.083605             0  388.650196      hit         854060305   \n",
              "8  -2.84  0.099492             0  388.650196      hit         854060305   \n",
              "9  -2.82  0.115378             0  388.650196      hit         854060305   \n",
              "10 -2.80  0.093923             0  388.650196      hit         854060305   \n",
              "11 -2.78  0.054553             0  388.650196      hit         854060305   \n",
              "12 -2.76  0.015183             0  388.650196      hit         854060305   \n",
              "13 -2.74 -0.024187             0  388.650196      hit         854060305   \n",
              "14 -2.72 -0.063100             0  388.650196      hit         854060305   \n",
              "15 -2.70 -0.068072             0  388.650196      hit         854060305   \n",
              "16 -2.68 -0.073044             0  388.650196      hit         854060305   \n",
              "17 -2.66 -0.078016             0  388.650196      hit         854060305   \n",
              "18 -2.64 -0.082988             0  388.650196      hit         854060305   \n",
              "19 -2.62 -0.084571             0  388.650196      hit         854060305   \n",
              "\n",
              "    ophys_experiment_id  cell_specimen_id      cre_line  imaging_depth  \\\n",
              "0             854759890        1086550481  Sst-IRES-Cre            275   \n",
              "1             854759890        1086550481  Sst-IRES-Cre            275   \n",
              "2             854759890        1086550481  Sst-IRES-Cre            275   \n",
              "3             854759890        1086550481  Sst-IRES-Cre            275   \n",
              "4             854759890        1086550481  Sst-IRES-Cre            275   \n",
              "5             854759890        1086550481  Sst-IRES-Cre            275   \n",
              "6             854759890        1086550481  Sst-IRES-Cre            275   \n",
              "7             854759890        1086550481  Sst-IRES-Cre            275   \n",
              "8             854759890        1086550481  Sst-IRES-Cre            275   \n",
              "9             854759890        1086550481  Sst-IRES-Cre            275   \n",
              "10            854759890        1086550481  Sst-IRES-Cre            275   \n",
              "11            854759890        1086550481  Sst-IRES-Cre            275   \n",
              "12            854759890        1086550481  Sst-IRES-Cre            275   \n",
              "13            854759890        1086550481  Sst-IRES-Cre            275   \n",
              "14            854759890        1086550481  Sst-IRES-Cre            275   \n",
              "15            854759890        1086550481  Sst-IRES-Cre            275   \n",
              "16            854759890        1086550481  Sst-IRES-Cre            275   \n",
              "17            854759890        1086550481  Sst-IRES-Cre            275   \n",
              "18            854759890        1086550481  Sst-IRES-Cre            275   \n",
              "19            854759890        1086550481  Sst-IRES-Cre            275   \n",
              "\n",
              "    mouse_id sex  \n",
              "0     440631   M  \n",
              "1     440631   M  \n",
              "2     440631   M  \n",
              "3     440631   M  \n",
              "4     440631   M  \n",
              "5     440631   M  \n",
              "6     440631   M  \n",
              "7     440631   M  \n",
              "8     440631   M  \n",
              "9     440631   M  \n",
              "10    440631   M  \n",
              "11    440631   M  \n",
              "12    440631   M  \n",
              "13    440631   M  \n",
              "14    440631   M  \n",
              "15    440631   M  \n",
              "16    440631   M  \n",
              "17    440631   M  \n",
              "18    440631   M  \n",
              "19    440631   M  "
            ]
          },
          "metadata": {
            "tags": []
          },
          "execution_count": 103
        }
      ]
    },
    {
      "cell_type": "code",
      "metadata": {
        "colab": {
          "base_uri": "https://localhost:8080/"
        },
        "id": "13mmEMFlj8-d",
        "outputId": "0e39d0b3-693f-4f7d-be79-9728a24810b7"
      },
      "source": [
        "len(my_cells)"
      ],
      "execution_count": 100,
      "outputs": [
        {
          "output_type": "execute_result",
          "data": {
            "text/plain": [
              "5328302"
            ]
          },
          "metadata": {
            "tags": []
          },
          "execution_count": 100
        }
      ]
    },
    {
      "cell_type": "code",
      "metadata": {
        "colab": {
          "base_uri": "https://localhost:8080/",
          "height": 371
        },
        "id": "qXWFC_xtjIuQ",
        "outputId": "2cc08d84-f8b0-4682-f531-d1bfe92413c6"
      },
      "source": [
        "sns.lineplot(\n",
        "    data=my_cells,\n",
        "    x='time',\n",
        "    y='dff',\n",
        "    hue='hit_miss',\n",
        "    n_boot=0\n",
        ")"
      ],
      "execution_count": 99,
      "outputs": [
        {
          "output_type": "stream",
          "text": [
            "/usr/local/lib/python3.7/dist-packages/numpy/lib/nanfunctions.py:1368: RuntimeWarning: Mean of empty slice\n",
            "  return np.nanmean(a, axis, out=out, keepdims=keepdims)\n",
            "/usr/local/lib/python3.7/dist-packages/numpy/lib/nanfunctions.py:1368: RuntimeWarning: Mean of empty slice\n",
            "  return np.nanmean(a, axis, out=out, keepdims=keepdims)\n"
          ],
          "name": "stderr"
        },
        {
          "output_type": "execute_result",
          "data": {
            "text/plain": [
              "<matplotlib.axes._subplots.AxesSubplot at 0x7fb1a1d4a250>"
            ]
          },
          "metadata": {
            "tags": []
          },
          "execution_count": 99
        },
        {
          "output_type": "display_data",
          "data": {
            "image/png": "[encoded data removed]",
            "text/plain": [
              "<Figure size 432x288 with 1 Axes>"
            ]
          },
          "metadata": {
            "tags": [],
            "needs_background": "light"
          }
        }
      ]
    },
    {
      "cell_type": "markdown",
      "metadata": {
        "id": "8dRxC61amM_X"
      },
      "source": [
        "## Each neuron separately"
      ]
    },
    {
      "cell_type": "code",
      "metadata": {
        "colab": {
          "base_uri": "https://localhost:8080/",
          "height": 268
        },
        "id": "3DvrPQQnmMhi",
        "outputId": "f607dbfd-f707-4692-e82d-63ce1f4acb01"
      },
      "source": [
        "cell_specimen_ids = my_cells['cell_specimen_id'].unique()\n",
        "nv = len(cell_specimen_ids)\n",
        "\n",
        "fig, axs = plt.subplots(nv, sharex=True, sharey=True)\n",
        "for i, cell_specimen_id in enumerate(cell_specimen_ids[:10]):\n",
        "  data = my_cells.query('cell_specimen_id == @cell_specimen_id')\n",
        "  axs[i].plot(data['time'], data['dff'])\n"
      ],
      "execution_count": 112,
      "outputs": [
        {
          "output_type": "display_data",
          "data": {
            "image/png": "[encoded data removed]",
            "text/plain": [
              "<Figure size 432x288 with 53 Axes>"
            ]
          },
          "metadata": {
            "tags": [],
            "needs_background": "light"
          }
        }
      ]
    }
  ]
}