{
  "nbformat": 4,
  "nbformat_minor": 0,
  "metadata": {
    "colab": {
      "name": "Align neural activity with stimulus changes.ipynb",
      "provenance": [],
      "collapsed_sections": [],
      "include_colab_link": true
    },
    "kernelspec": {
      "name": "python3",
      "display_name": "Python 3"
    },
    "language_info": {
      "name": "python"
    }
  },
  "cells": [
    {
      "cell_type": "markdown",
      "metadata": {
        "id": "view-in-github",
        "colab_type": "text"
      },
      "source": [
        "<a href=\"https://colab.research.google.com/github/odmina/misbehaving_armadillos/blob/main/Align_neural_activity_with_stimulus_changes.ipynb\" target=\"_parent\"><img src=\"https://colab.research.google.com/assets/colab-badge.svg\" alt=\"Open In Colab\"/></a>"
      ]
    },
    {
      "cell_type": "markdown",
      "metadata": {
        "id": "I1CeSqXjhY2k"
      },
      "source": [
        "# Overview\n",
        "The following notebook loads data from single behavioral session (one mouse) and one imaging experiment (just one plane) associated with that session to plot stimulus, licks and reward data and neural activity (one selected neuron). "
      ]
    },
    {
      "cell_type": "markdown",
      "metadata": {
        "id": "aT9844s2hkvw"
      },
      "source": [
        "# Set up environment and import packages"
      ]
    },
    {
      "cell_type": "markdown",
      "metadata": {
        "id": "00Maa0v-hvoD"
      },
      "source": [
        "We have built a package called `mindscope_utilities` which contains some useful convenience functions. The `allenSDK` is a dependency of this package and will be automatically installed when you install `mindscope_utilities` per the instrutions below.\n",
        "\n",
        "We will first install `mindscope_utilities` into our colab environment by running the commands below. When this cell is complete, click on the `RESTART RUNTIME` button that appears at the end of the output. Note that running this cell will produce a long list of outputs and some error messages. Clicking `RESTART RUNTIME` at the end will resolve these issues. \n",
        "\n",
        "You can minimize the cell after you are done to hide the output. "
      ]
    },
    {
      "cell_type": "markdown",
      "metadata": {
        "id": "PPF6qq5jLmNL"
      },
      "source": [
        "#### Install necessary packages"
      ]
    },
    {
      "cell_type": "code",
      "metadata": {
        "id": "1Xm2F5-0aIN2",
        "colab": {
          "base_uri": "https://localhost:8080/"
        },
        "outputId": "ccdfb157-b779-429b-f919-3daa11d2a16a"
      },
      "source": [
        "!python -m pip install --upgrade pip\n",
        "!pip install mindscope_utilities --upgrade"
      ],
      "execution_count": 47,
      "outputs": [
        {
          "output_type": "stream",
          "text": [
            "Requirement already satisfied: pip in /usr/local/lib/python3.7/dist-packages (21.1.3)\n",
            "\u001b[33mWARNING: Running pip as the 'root' user can result in broken permissions and conflicting behaviour with the system package manager. It is recommended to use a virtual environment instead: https://pip.pypa.io/warnings/venv\u001b[0m\n",
            "Requirement already satisfied: mindscope_utilities in /usr/local/lib/python3.7/dist-packages (0.1.7)\n",
            "Requirement already satisfied: pytest in /usr/local/lib/python3.7/dist-packages (from mindscope_utilities) (3.6.4)\n",
            "Requirement already satisfied: flake8 in /usr/local/lib/python3.7/dist-packages (from mindscope_utilities) (3.9.2)\n",
            "Requirement already satisfied: allensdk==2.11.2 in /usr/local/lib/python3.7/dist-packages (from mindscope_utilities) (2.11.2)\n",
            "Requirement already satisfied: tables<4.0.0,>=3.6.0 in /usr/local/lib/python3.7/dist-packages (from allensdk==2.11.2->mindscope_utilities) (3.6.1)\n",
            "Requirement already satisfied: glymur==0.8.19 in /usr/local/lib/python3.7/dist-packages (from allensdk==2.11.2->mindscope_utilities) (0.8.19)\n",
            "Requirement already satisfied: numpy<1.19.0,>=1.15.4 in /usr/local/lib/python3.7/dist-packages (from allensdk==2.11.2->mindscope_utilities) (1.18.5)\n",
            "Requirement already satisfied: six<2.0.0,>=1.9.0 in /usr/local/lib/python3.7/dist-packages (from allensdk==2.11.2->mindscope_utilities) (1.15.0)\n",
            "Requirement already satisfied: jinja2<2.12.0,>=2.7.3 in /usr/local/lib/python3.7/dist-packages (from allensdk==2.11.2->mindscope_utilities) (2.11.3)\n",
            "Requirement already satisfied: matplotlib<4.0.0,>=1.4.3 in /usr/local/lib/python3.7/dist-packages (from allensdk==2.11.2->mindscope_utilities) (3.2.2)\n",
            "Requirement already satisfied: seaborn<1.0.0 in /usr/local/lib/python3.7/dist-packages (from allensdk==2.11.2->mindscope_utilities) (0.11.1)\n",
            "Requirement already satisfied: scipy<2.0.0,>=1.4.0 in /usr/local/lib/python3.7/dist-packages (from allensdk==2.11.2->mindscope_utilities) (1.4.1)\n",
            "Requirement already satisfied: h5py<3.0.0,>=2.8 in /usr/local/lib/python3.7/dist-packages (from allensdk==2.11.2->mindscope_utilities) (2.10.0)\n",
            "Requirement already satisfied: psycopg2-binary<3.0.0,>=2.7 in /usr/local/lib/python3.7/dist-packages (from allensdk==2.11.2->mindscope_utilities) (2.9.1)\n",
            "Requirement already satisfied: pynwb<2.0.0,>=1.3.2 in /usr/local/lib/python3.7/dist-packages (from allensdk==2.11.2->mindscope_utilities) (1.4.0)\n",
            "Requirement already satisfied: future<1.0.0,>=0.14.3 in /usr/local/lib/python3.7/dist-packages (from allensdk==2.11.2->mindscope_utilities) (0.16.0)\n",
            "Requirement already satisfied: tqdm>=4.27 in /usr/local/lib/python3.7/dist-packages (from allensdk==2.11.2->mindscope_utilities) (4.41.1)\n",
            "Requirement already satisfied: hdmf<2.5.0 in /usr/local/lib/python3.7/dist-packages (from allensdk==2.11.2->mindscope_utilities) (2.4.0)\n",
            "Requirement already satisfied: pandas<=0.25.3,>=0.25.1 in /usr/local/lib/python3.7/dist-packages (from allensdk==2.11.2->mindscope_utilities) (0.25.3)\n",
            "Requirement already satisfied: aiohttp==3.7.4 in /usr/local/lib/python3.7/dist-packages (from allensdk==2.11.2->mindscope_utilities) (3.7.4)\n",
            "Requirement already satisfied: simpleitk<3.0.0,>=2.0.2 in /usr/local/lib/python3.7/dist-packages (from allensdk==2.11.2->mindscope_utilities) (2.0.2)\n",
            "Requirement already satisfied: pynrrd<1.0.0,>=0.2.1 in /usr/local/lib/python3.7/dist-packages (from allensdk==2.11.2->mindscope_utilities) (0.4.2)\n",
            "Requirement already satisfied: requests-toolbelt<1.0.0 in /usr/local/lib/python3.7/dist-packages (from allensdk==2.11.2->mindscope_utilities) (0.9.1)\n",
            "Requirement already satisfied: semver in /usr/local/lib/python3.7/dist-packages (from allensdk==2.11.2->mindscope_utilities) (2.13.0)\n",
            "Requirement already satisfied: argschema<3.0.0 in /usr/local/lib/python3.7/dist-packages (from allensdk==2.11.2->mindscope_utilities) (2.0.2)\n",
            "Requirement already satisfied: xarray<0.16.0 in /usr/local/lib/python3.7/dist-packages (from allensdk==2.11.2->mindscope_utilities) (0.15.1)\n",
            "Requirement already satisfied: simplejson<4.0.0,>=3.10.0 in /usr/local/lib/python3.7/dist-packages (from allensdk==2.11.2->mindscope_utilities) (3.17.3)\n",
            "Requirement already satisfied: marshmallow==3.0.0rc6 in /usr/local/lib/python3.7/dist-packages (from allensdk==2.11.2->mindscope_utilities) (3.0.0rc6)\n",
            "Requirement already satisfied: statsmodels<=0.13.0 in /usr/local/lib/python3.7/dist-packages (from allensdk==2.11.2->mindscope_utilities) (0.10.2)\n",
            "Requirement already satisfied: boto3==1.17.21 in /usr/local/lib/python3.7/dist-packages (from allensdk==2.11.2->mindscope_utilities) (1.17.21)\n",
            "Requirement already satisfied: scikit-build<1.0.0 in /usr/local/lib/python3.7/dist-packages (from allensdk==2.11.2->mindscope_utilities) (0.11.1)\n",
            "Requirement already satisfied: requests<3.0.0 in /usr/local/lib/python3.7/dist-packages (from allensdk==2.11.2->mindscope_utilities) (2.23.0)\n",
            "Requirement already satisfied: scikit-image<0.17.0,>=0.14.0 in /usr/local/lib/python3.7/dist-packages (from allensdk==2.11.2->mindscope_utilities) (0.16.2)\n",
            "Requirement already satisfied: nest-asyncio==1.2.0 in /usr/local/lib/python3.7/dist-packages (from allensdk==2.11.2->mindscope_utilities) (1.2.0)\n",
            "Requirement already satisfied: ndx-events<=0.2.0 in /usr/local/lib/python3.7/dist-packages (from allensdk==2.11.2->mindscope_utilities) (0.2.0)\n",
            "Requirement already satisfied: attrs>=17.3.0 in /usr/local/lib/python3.7/dist-packages (from aiohttp==3.7.4->allensdk==2.11.2->mindscope_utilities) (21.2.0)\n",
            "Requirement already satisfied: yarl<2.0,>=1.0 in /usr/local/lib/python3.7/dist-packages (from aiohttp==3.7.4->allensdk==2.11.2->mindscope_utilities) (1.6.3)\n",
            "Requirement already satisfied: multidict<7.0,>=4.5 in /usr/local/lib/python3.7/dist-packages (from aiohttp==3.7.4->allensdk==2.11.2->mindscope_utilities) (5.1.0)\n",
            "Requirement already satisfied: async-timeout<4.0,>=3.0 in /usr/local/lib/python3.7/dist-packages (from aiohttp==3.7.4->allensdk==2.11.2->mindscope_utilities) (3.0.1)\n",
            "Requirement already satisfied: chardet<4.0,>=2.0 in /usr/local/lib/python3.7/dist-packages (from aiohttp==3.7.4->allensdk==2.11.2->mindscope_utilities) (3.0.4)\n",
            "Requirement already satisfied: typing-extensions>=3.6.5 in /usr/local/lib/python3.7/dist-packages (from aiohttp==3.7.4->allensdk==2.11.2->mindscope_utilities) (3.7.4.3)\n",
            "Requirement already satisfied: jmespath<1.0.0,>=0.7.1 in /usr/local/lib/python3.7/dist-packages (from boto3==1.17.21->allensdk==2.11.2->mindscope_utilities) (0.10.0)\n",
            "Requirement already satisfied: s3transfer<0.4.0,>=0.3.0 in /usr/local/lib/python3.7/dist-packages (from boto3==1.17.21->allensdk==2.11.2->mindscope_utilities) (0.3.7)\n",
            "Requirement already satisfied: botocore<1.21.0,>=1.20.21 in /usr/local/lib/python3.7/dist-packages (from boto3==1.17.21->allensdk==2.11.2->mindscope_utilities) (1.20.111)\n",
            "Requirement already satisfied: setuptools in /usr/local/lib/python3.7/dist-packages (from glymur==0.8.19->allensdk==2.11.2->mindscope_utilities) (57.0.0)\n",
            "Requirement already satisfied: urllib3<1.27,>=1.25.4 in /usr/local/lib/python3.7/dist-packages (from botocore<1.21.0,>=1.20.21->boto3==1.17.21->allensdk==2.11.2->mindscope_utilities) (1.25.11)\n",
            "Requirement already satisfied: python-dateutil<3.0.0,>=2.1 in /usr/local/lib/python3.7/dist-packages (from botocore<1.21.0,>=1.20.21->boto3==1.17.21->allensdk==2.11.2->mindscope_utilities) (2.8.1)\n",
            "Requirement already satisfied: ruamel.yaml<1,>=0.15 in /usr/local/lib/python3.7/dist-packages (from hdmf<2.5.0->allensdk==2.11.2->mindscope_utilities) (0.17.10)\n",
            "Requirement already satisfied: jsonschema<4,>=2.6.0 in /usr/local/lib/python3.7/dist-packages (from hdmf<2.5.0->allensdk==2.11.2->mindscope_utilities) (2.6.0)\n",
            "Requirement already satisfied: MarkupSafe>=0.23 in /usr/local/lib/python3.7/dist-packages (from jinja2<2.12.0,>=2.7.3->allensdk==2.11.2->mindscope_utilities) (2.0.1)\n",
            "Requirement already satisfied: kiwisolver>=1.0.1 in /usr/local/lib/python3.7/dist-packages (from matplotlib<4.0.0,>=1.4.3->allensdk==2.11.2->mindscope_utilities) (1.3.1)\n",
            "Requirement already satisfied: pyparsing!=2.0.4,!=2.1.2,!=2.1.6,>=2.0.1 in /usr/local/lib/python3.7/dist-packages (from matplotlib<4.0.0,>=1.4.3->allensdk==2.11.2->mindscope_utilities) (2.4.7)\n",
            "Requirement already satisfied: cycler>=0.10 in /usr/local/lib/python3.7/dist-packages (from matplotlib<4.0.0,>=1.4.3->allensdk==2.11.2->mindscope_utilities) (0.10.0)\n",
            "Requirement already satisfied: pytz>=2017.2 in /usr/local/lib/python3.7/dist-packages (from pandas<=0.25.3,>=0.25.1->allensdk==2.11.2->mindscope_utilities) (2018.9)\n",
            "Requirement already satisfied: certifi>=2017.4.17 in /usr/local/lib/python3.7/dist-packages (from requests<3.0.0->allensdk==2.11.2->mindscope_utilities) (2021.5.30)\n",
            "Requirement already satisfied: idna<3,>=2.5 in /usr/local/lib/python3.7/dist-packages (from requests<3.0.0->allensdk==2.11.2->mindscope_utilities) (2.10)\n",
            "Requirement already satisfied: ruamel.yaml.clib>=0.1.2 in /usr/local/lib/python3.7/dist-packages (from ruamel.yaml<1,>=0.15->hdmf<2.5.0->allensdk==2.11.2->mindscope_utilities) (0.2.6)\n",
            "Requirement already satisfied: wheel>=0.29.0 in /usr/local/lib/python3.7/dist-packages (from scikit-build<1.0.0->allensdk==2.11.2->mindscope_utilities) (0.36.2)\n",
            "Requirement already satisfied: distro in /usr/local/lib/python3.7/dist-packages (from scikit-build<1.0.0->allensdk==2.11.2->mindscope_utilities) (1.5.0)\n",
            "Requirement already satisfied: packaging in /usr/local/lib/python3.7/dist-packages (from scikit-build<1.0.0->allensdk==2.11.2->mindscope_utilities) (20.9)\n",
            "Requirement already satisfied: imageio>=2.3.0 in /usr/local/lib/python3.7/dist-packages (from scikit-image<0.17.0,>=0.14.0->allensdk==2.11.2->mindscope_utilities) (2.4.1)\n",
            "Requirement already satisfied: PyWavelets>=0.4.0 in /usr/local/lib/python3.7/dist-packages (from scikit-image<0.17.0,>=0.14.0->allensdk==2.11.2->mindscope_utilities) (1.1.1)\n",
            "Requirement already satisfied: networkx>=2.0 in /usr/local/lib/python3.7/dist-packages (from scikit-image<0.17.0,>=0.14.0->allensdk==2.11.2->mindscope_utilities) (2.5.1)\n",
            "Requirement already satisfied: pillow>=4.3.0 in /usr/local/lib/python3.7/dist-packages (from scikit-image<0.17.0,>=0.14.0->allensdk==2.11.2->mindscope_utilities) (7.1.2)\n",
            "Requirement already satisfied: decorator<5,>=4.3 in /usr/local/lib/python3.7/dist-packages (from networkx>=2.0->scikit-image<0.17.0,>=0.14.0->allensdk==2.11.2->mindscope_utilities) (4.4.2)\n",
            "Requirement already satisfied: patsy>=0.4.0 in /usr/local/lib/python3.7/dist-packages (from statsmodels<=0.13.0->allensdk==2.11.2->mindscope_utilities) (0.5.1)\n",
            "Requirement already satisfied: numexpr>=2.6.2 in /usr/local/lib/python3.7/dist-packages (from tables<4.0.0,>=3.6.0->allensdk==2.11.2->mindscope_utilities) (2.7.3)\n",
            "Requirement already satisfied: importlib-metadata in /usr/local/lib/python3.7/dist-packages (from flake8->mindscope_utilities) (4.6.0)\n",
            "Requirement already satisfied: pycodestyle<2.8.0,>=2.7.0 in /usr/local/lib/python3.7/dist-packages (from flake8->mindscope_utilities) (2.7.0)\n",
            "Requirement already satisfied: pyflakes<2.4.0,>=2.3.0 in /usr/local/lib/python3.7/dist-packages (from flake8->mindscope_utilities) (2.3.1)\n",
            "Requirement already satisfied: mccabe<0.7.0,>=0.6.0 in /usr/local/lib/python3.7/dist-packages (from flake8->mindscope_utilities) (0.6.1)\n",
            "Requirement already satisfied: zipp>=0.5 in /usr/local/lib/python3.7/dist-packages (from importlib-metadata->flake8->mindscope_utilities) (3.4.1)\n",
            "Requirement already satisfied: py>=1.5.0 in /usr/local/lib/python3.7/dist-packages (from pytest->mindscope_utilities) (1.10.0)\n",
            "Requirement already satisfied: more-itertools>=4.0.0 in /usr/local/lib/python3.7/dist-packages (from pytest->mindscope_utilities) (8.8.0)\n",
            "Requirement already satisfied: atomicwrites>=1.0 in /usr/local/lib/python3.7/dist-packages (from pytest->mindscope_utilities) (1.4.0)\n",
            "Requirement already satisfied: pluggy<0.8,>=0.5 in /usr/local/lib/python3.7/dist-packages (from pytest->mindscope_utilities) (0.7.1)\n",
            "\u001b[33mWARNING: Running pip as the 'root' user can result in broken permissions and conflicting behaviour with the system package manager. It is recommended to use a virtual environment instead: https://pip.pypa.io/warnings/venv\u001b[0m\n"
          ],
          "name": "stdout"
        }
      ]
    },
    {
      "cell_type": "markdown",
      "metadata": {
        "id": "0iT7O4WaiYAH"
      },
      "source": [
        "#### Next we will import packages we need later in the notebook"
      ]
    },
    {
      "cell_type": "code",
      "metadata": {
        "id": "cgFHDxOcaJut"
      },
      "source": [
        "import os\n",
        "import numpy as np\n",
        "import pandas as pd\n",
        "from tqdm import tqdm\n",
        "import seaborn as sns\n",
        "import matplotlib.pyplot as plt\n",
        "\n",
        "import mindscope_utilities\n",
        "import mindscope_utilities.visual_behavior_ophys as ophys\n",
        "\n",
        "from allensdk.brain_observatory.behavior.behavior_project_cache import VisualBehaviorOphysProjectCache\n",
        "\n",
        "pd.set_option('display.max_columns', 500)"
      ],
      "execution_count": 76,
      "outputs": []
    },
    {
      "cell_type": "markdown",
      "metadata": {
        "id": "FjFtKoQ2id_6"
      },
      "source": [
        "# Load the session and experiment summary tables\n",
        "\n",
        "We download the data cache:\n",
        "\n",
        "- `ophys_session_table` contains data describing imaging sessions - one session can contain more than one imaging experiment (more than one plane), and not all behavioral session are accompanied by imaging. contains metadata describing imaging sessions. If more than one plane was imaged during a session, one ophys session id will be associated multiple *ophys experiment ids*. Each ophys session id will also have a unique *behavior session id*\n",
        "- `behavior_session_table` contains metadata describing behavioral sessions, which may or may not be during imaging. Behavior session ids that do not have *ophys session ids* were training sessions\n",
        "- `ophys_experiment_table` contains metadata describing imaging experiments (aka imaging planes). When mesoscope is used, one ophys session may contain up to 8 unique experiments (two visual areas by four imaging depths). Some imaging planes may not be released due to quality control issues, thus each ophys session id is associated with anywhere from one to eight unique *experiment ids*. Ophys experiment ids are unique and do not repeat across sessions. To find the same imaging plane that was matched across multiple sessions, use the *ophys_container_id* column that can be found in both ophys_session_table and ophys_experiment_table"
      ]
    },
    {
      "cell_type": "code",
      "metadata": {
        "id": "pvamvtoUbWTR"
      },
      "source": [
        "data_storage_directory = \"/temp\" # Note: this path must exist on your local drive\n",
        "cache = VisualBehaviorOphysProjectCache.from_s3_cache(cache_dir=data_storage_directory)"
      ],
      "execution_count": 77,
      "outputs": []
    },
    {
      "cell_type": "markdown",
      "metadata": {
        "id": "XL5LV5fti5tc"
      },
      "source": [
        "Then we can access the session and experiment tables directly.\n",
        "\n",
        "Note that a 'session' is a single behavioral session. Sessions that are performed on the mesoscope will have multiple (up to 8) 'experiments' associated with them, where an experiment is a distinct imaging plane. "
      ]
    },
    {
      "cell_type": "code",
      "metadata": {
        "id": "pOCbdeNbd7w8"
      },
      "source": [
        "session_table = cache.get_ophys_session_table()\n",
        "experiment_table = cache.get_ophys_experiment_table()\n",
        "behavior_session_table = cache.get_behavior_session_table()"
      ],
      "execution_count": 78,
      "outputs": []
    },
    {
      "cell_type": "markdown",
      "metadata": {
        "id": "jUguZ4QGjQF7"
      },
      "source": [
        "We can then view the contents of the session table. Note that this contains a lot of useful metadata about each session. One of the columns, `ophys_experiment_id` provides a list of the experiments (aka imaging planes) that are associated with each session."
      ]
    },
    {
      "cell_type": "markdown",
      "metadata": {
        "id": "6VluMgUHNaJT"
      },
      "source": [
        "## Load neural data into memory\n"
      ]
    },
    {
      "cell_type": "markdown",
      "metadata": {
        "id": "a7X3NexHk52M"
      },
      "source": [
        "The cell below will load the neural data into memory in the pandas 'tidy' format by iterating over each of the 6 experiments and using some helpful tools from the `visual_behavior_ophys` module of the `mindscope_utilities` package that was imported above as `ophys`. \n",
        "\n",
        "It will also include a subset of metadata from `ophys_experiment_table` to facilitate splitting by depth, structure (aka cortical area), cre line (aka cell class), etc.\n",
        "\n",
        "Note that 'tidy' data means that each row represents only one observation. Observations are stacked vertically. Thus, the `timestamps` colums will repeat for every cell in the dataset."
      ]
    },
    {
      "cell_type": "code",
      "metadata": {
        "id": "Q56VGsnNm2zN"
      },
      "source": [
        "ophys_session_id = 854060305"
      ],
      "execution_count": 79,
      "outputs": []
    },
    {
      "cell_type": "code",
      "metadata": {
        "id": "rN5OYHTCmufw"
      },
      "source": [
        "experiments = {}\n",
        "ophys_experiment_ids = session_table.loc[ophys_session_id]['ophys_experiment_id']\n",
        "for ophys_experiment_id in ophys_experiment_ids:\n",
        "    experiments[ophys_experiment_id] = cache.get_behavior_ophys_experiment(ophys_experiment_id)"
      ],
      "execution_count": 80,
      "outputs": []
    },
    {
      "cell_type": "code",
      "metadata": {
        "id": "PBK4b8tveHFY",
        "colab": {
          "base_uri": "https://localhost:8080/"
        },
        "outputId": "e17f5f45-75bf-4bed-aa14-52d88d7adf56"
      },
      "source": [
        "neural_data = []\n",
        "for ophys_experiment_id in tqdm(experiments.keys()): #tqdm is a package that shows progress bars for items that are iterated over\n",
        "    this_experiment = experiments[ophys_experiment_id]\n",
        "    this_experiment_neural_data = ophys.build_tidy_cell_df(this_experiment)\n",
        "    \n",
        "    # add some columns with metadata for the experiment\n",
        "    metadata_keys = [\n",
        "        'ophys_experiment_id',\n",
        "        'ophys_session_id',\n",
        "        'targeted_structure',\n",
        "        'imaging_depth',\n",
        "        'equipment_name',\n",
        "        'cre_line',\n",
        "        'mouse_id',\n",
        "        'sex',\n",
        "    ]\n",
        "    for metadata_key in metadata_keys:\n",
        "        this_experiment_neural_data[metadata_key] = this_experiment.metadata[metadata_key]\n",
        "        \n",
        "    # append the data for this experiment to a list\n",
        "    neural_data.append(this_experiment_neural_data)\n",
        "    \n",
        "# concatate the list of dataframes into a single dataframe\n",
        "neural_data = pd.concat(neural_data)"
      ],
      "execution_count": 81,
      "outputs": [
        {
          "output_type": "stream",
          "text": [
            "100%|██████████| 6/6 [00:33<00:00,  5.62s/it]\n"
          ],
          "name": "stderr"
        }
      ]
    },
    {
      "cell_type": "markdown",
      "metadata": {
        "id": "UVWZxgjplDxi"
      },
      "source": [
        "Here is the data for our experiment"
      ]
    },
    {
      "cell_type": "code",
      "metadata": {
        "colab": {
          "base_uri": "https://localhost:8080/",
          "height": 313
        },
        "id": "FlRuy7swe3mm",
        "outputId": "b714b958-47da-40f6-da01-8aafa0ee0de1"
      },
      "source": [
        "neural_data.head()"
      ],
      "execution_count": 68,
      "outputs": [
        {
          "output_type": "execute_result",
          "data": {
            "text/html": [
              "<div>\n",
              "<style scoped>\n",
              "    .dataframe tbody tr th:only-of-type {\n",
              "        vertical-align: middle;\n",
              "    }\n",
              "\n",
              "    .dataframe tbody tr th {\n",
              "        vertical-align: top;\n",
              "    }\n",
              "\n",
              "    .dataframe thead th {\n",
              "        text-align: right;\n",
              "    }\n",
              "</style>\n",
              "<table border=\"1\" class=\"dataframe\">\n",
              "  <thead>\n",
              "    <tr style=\"text-align: right;\">\n",
              "      <th></th>\n",
              "      <th>timestamps</th>\n",
              "      <th>dff</th>\n",
              "      <th>events</th>\n",
              "      <th>filtered_events</th>\n",
              "      <th>cell_roi_id</th>\n",
              "      <th>cell_specimen_id</th>\n",
              "      <th>ophys_experiment_id</th>\n",
              "      <th>ophys_session_id</th>\n",
              "      <th>targeted_structure</th>\n",
              "      <th>imaging_depth</th>\n",
              "      <th>equipment_name</th>\n",
              "      <th>cre_line</th>\n",
              "      <th>mouse_id</th>\n",
              "      <th>sex</th>\n",
              "    </tr>\n",
              "  </thead>\n",
              "  <tbody>\n",
              "    <tr>\n",
              "      <th>0</th>\n",
              "      <td>10.52216</td>\n",
              "      <td>0.400583</td>\n",
              "      <td>0.0</td>\n",
              "      <td>0.0</td>\n",
              "      <td>1080852071</td>\n",
              "      <td>1086550481</td>\n",
              "      <td>854759890</td>\n",
              "      <td>854060305</td>\n",
              "      <td>VISp</td>\n",
              "      <td>275</td>\n",
              "      <td>MESO.1</td>\n",
              "      <td>Sst-IRES-Cre</td>\n",
              "      <td>440631</td>\n",
              "      <td>M</td>\n",
              "    </tr>\n",
              "    <tr>\n",
              "      <th>1</th>\n",
              "      <td>10.61538</td>\n",
              "      <td>0.126125</td>\n",
              "      <td>0.0</td>\n",
              "      <td>0.0</td>\n",
              "      <td>1080852071</td>\n",
              "      <td>1086550481</td>\n",
              "      <td>854759890</td>\n",
              "      <td>854060305</td>\n",
              "      <td>VISp</td>\n",
              "      <td>275</td>\n",
              "      <td>MESO.1</td>\n",
              "      <td>Sst-IRES-Cre</td>\n",
              "      <td>440631</td>\n",
              "      <td>M</td>\n",
              "    </tr>\n",
              "    <tr>\n",
              "      <th>2</th>\n",
              "      <td>10.70860</td>\n",
              "      <td>-0.083087</td>\n",
              "      <td>0.0</td>\n",
              "      <td>0.0</td>\n",
              "      <td>1080852071</td>\n",
              "      <td>1086550481</td>\n",
              "      <td>854759890</td>\n",
              "      <td>854060305</td>\n",
              "      <td>VISp</td>\n",
              "      <td>275</td>\n",
              "      <td>MESO.1</td>\n",
              "      <td>Sst-IRES-Cre</td>\n",
              "      <td>440631</td>\n",
              "      <td>M</td>\n",
              "    </tr>\n",
              "    <tr>\n",
              "      <th>3</th>\n",
              "      <td>10.80182</td>\n",
              "      <td>0.158960</td>\n",
              "      <td>0.0</td>\n",
              "      <td>0.0</td>\n",
              "      <td>1080852071</td>\n",
              "      <td>1086550481</td>\n",
              "      <td>854759890</td>\n",
              "      <td>854060305</td>\n",
              "      <td>VISp</td>\n",
              "      <td>275</td>\n",
              "      <td>MESO.1</td>\n",
              "      <td>Sst-IRES-Cre</td>\n",
              "      <td>440631</td>\n",
              "      <td>M</td>\n",
              "    </tr>\n",
              "    <tr>\n",
              "      <th>4</th>\n",
              "      <td>10.89504</td>\n",
              "      <td>0.301507</td>\n",
              "      <td>0.0</td>\n",
              "      <td>0.0</td>\n",
              "      <td>1080852071</td>\n",
              "      <td>1086550481</td>\n",
              "      <td>854759890</td>\n",
              "      <td>854060305</td>\n",
              "      <td>VISp</td>\n",
              "      <td>275</td>\n",
              "      <td>MESO.1</td>\n",
              "      <td>Sst-IRES-Cre</td>\n",
              "      <td>440631</td>\n",
              "      <td>M</td>\n",
              "    </tr>\n",
              "  </tbody>\n",
              "</table>\n",
              "</div>"
            ],
            "text/plain": [
              "   timestamps       dff  events  filtered_events  cell_roi_id  \\\n",
              "0    10.52216  0.400583     0.0              0.0   1080852071   \n",
              "1    10.61538  0.126125     0.0              0.0   1080852071   \n",
              "2    10.70860 -0.083087     0.0              0.0   1080852071   \n",
              "3    10.80182  0.158960     0.0              0.0   1080852071   \n",
              "4    10.89504  0.301507     0.0              0.0   1080852071   \n",
              "\n",
              "   cell_specimen_id  ophys_experiment_id  ophys_session_id targeted_structure  \\\n",
              "0        1086550481            854759890         854060305               VISp   \n",
              "1        1086550481            854759890         854060305               VISp   \n",
              "2        1086550481            854759890         854060305               VISp   \n",
              "3        1086550481            854759890         854060305               VISp   \n",
              "4        1086550481            854759890         854060305               VISp   \n",
              "\n",
              "   imaging_depth equipment_name      cre_line  mouse_id sex  \n",
              "0            275         MESO.1  Sst-IRES-Cre    440631   M  \n",
              "1            275         MESO.1  Sst-IRES-Cre    440631   M  \n",
              "2            275         MESO.1  Sst-IRES-Cre    440631   M  \n",
              "3            275         MESO.1  Sst-IRES-Cre    440631   M  \n",
              "4            275         MESO.1  Sst-IRES-Cre    440631   M  "
            ]
          },
          "metadata": {
            "tags": []
          },
          "execution_count": 68
        }
      ]
    },
    {
      "cell_type": "markdown",
      "metadata": {
        "id": "boI3sViBk5tq"
      },
      "source": [
        "#PLOT THE ACTIVITY OF ONE EXAMPLE CELL IN THE EXPERIMENT"
      ]
    },
    {
      "cell_type": "markdown",
      "metadata": {
        "id": "jqjSRFDLTQKl"
      },
      "source": [
        "### Extract hits and misses"
      ]
    },
    {
      "cell_type": "code",
      "metadata": {
        "id": "NlIEtEeoD_FW",
        "colab": {
          "base_uri": "https://localhost:8080/"
        },
        "outputId": "bd898a41-c0cb-46d8-97a1-871c40b5ba00"
      },
      "source": [
        "cre_line_ids = this_experiment_neural_data['cre_line'].unique()\n",
        "print(cre_line_ids)"
      ],
      "execution_count": null,
      "outputs": [
        {
          "output_type": "stream",
          "text": [
            "['Sst-IRES-Cre']\n"
          ],
          "name": "stdout"
        }
      ]
    },
    {
      "cell_type": "code",
      "metadata": {
        "colab": {
          "base_uri": "https://localhost:8080/"
        },
        "id": "kFTs2gUzOBfz",
        "outputId": "141be080-a5d2-4de6-af46-13f63d97f034"
      },
      "source": [
        "#count hits, misses and changes\n",
        "stim_changes = this_experiment.trials['stimulus_change'].value_counts()[1]\n",
        "hits = this_experiment.trials['hit'].value_counts()[1]\n",
        "misses = this_experiment.trials['miss'].value_counts()[1]\n",
        "auto_rewarded = this_experiment.trials['auto_rewarded'].value_counts()[1]\n",
        "print(\"Checkig if hits + misses = stumulus changes, auto rewarded: \", \n",
        "      stim_changes, hits, misses, \n",
        "      stim_changes == hits + misses, \n",
        "      auto_rewarded)"
      ],
      "execution_count": 56,
      "outputs": [
        {
          "output_type": "stream",
          "text": [
            "Checkig if hits + misses = stumulus changes, auto rewarded:  257 70 182 False 5\n"
          ],
          "name": "stdout"
        }
      ]
    },
    {
      "cell_type": "code",
      "metadata": {
        "id": "sGPtsKPyneju"
      },
      "source": [
        "# use mindscope to extract data aligned with event times\n",
        "\n",
        "#select cell, set time window\n",
        "cell_id = cell_specimen_ids[3]\n",
        "window_width = 3\n",
        "\n",
        "# extract hits\n",
        "etr_hit = mindscope_utilities.event_triggered_response(\n",
        "    data = this_experiment_neural_data.query('cell_specimen_id == @cell_id'),\n",
        "    t = 'timestamps',\n",
        "    y = 'dff',\n",
        "    event_times = this_experiment.trials.query('hit')['change_time'],\n",
        "    t_before=window_width,\n",
        "    t_after=window_width,\n",
        "    output_sampling_rate = 50,\n",
        ")\n",
        "# add hit indicator\n",
        "etr_hit['hit_miss'] = 'hit'\n",
        "\n",
        "# extract misses\n",
        "cell_id = cell_specimen_ids[3]\n",
        "etr_miss = mindscope_utilities.event_triggered_response(\n",
        "    data = this_experiment_neural_data.query('cell_specimen_id == @cell_id'),\n",
        "    t = 'timestamps',\n",
        "    y = 'dff',\n",
        "    event_times = this_experiment.trials.query('miss')['change_time'],\n",
        "    t_before=window_width,\n",
        "    t_after=window_width,\n",
        "    output_sampling_rate = 50,\n",
        ")\n",
        "# add hit indicator\n",
        "etr_miss['hit_miss'] = 'miss'\n",
        "\n",
        "#concatenate\n",
        "etr = pd.concat([etr_hit, etr_miss])  \n",
        "\n",
        "\n"
      ],
      "execution_count": 60,
      "outputs": []
    },
    {
      "cell_type": "code",
      "metadata": {
        "colab": {
          "base_uri": "https://localhost:8080/",
          "height": 297
        },
        "id": "-zRI0F0iogRs",
        "outputId": "7364a46a-55e4-4f63-999d-b60cbecbc100"
      },
      "source": [
        "sns.lineplot(\n",
        "    data=etr,\n",
        "    x='time',\n",
        "    y='dff',\n",
        "    hue='hit_miss',\n",
        "    n_boot=500\n",
        ")"
      ],
      "execution_count": 58,
      "outputs": [
        {
          "output_type": "execute_result",
          "data": {
            "text/plain": [
              "<matplotlib.axes._subplots.AxesSubplot at 0x7faffbd6a950>"
            ]
          },
          "metadata": {
            "tags": []
          },
          "execution_count": 58
        },
        {
          "output_type": "display_data",
          "data": {
            "image/png": "[encoded data removed]",
            "text/plain": [
              "<Figure size 432x288 with 1 Axes>"
            ]
          },
          "metadata": {
            "tags": [],
            "needs_background": "light"
          }
        }
      ]
    },
    {
      "cell_type": "markdown",
      "metadata": {
        "id": "ai6Fuk4RbH8Z"
      },
      "source": [
        "# EXTRACT AND AVERAGE ACTIVITY OF ALL THE CELLS IN THE SESSION\n"
      ]
    },
    {
      "cell_type": "markdown",
      "metadata": {
        "id": "iTHZyukxroxX"
      },
      "source": [
        "### Extract data for one cell and align it with event times"
      ]
    },
    {
      "cell_type": "code",
      "metadata": {
        "id": "CnxbUx1lbcZc"
      },
      "source": [
        "#MAKE CODE TO EXTRACT DATA FOR ONE CELL A FUNCTION\n",
        "\n",
        "def align_cell_with_event(ophys_session_id, ophys_experiment_id, cell_roi_id, window_width = 3):\n",
        "  #the function requires neural data for all the experiments in the session and a dictionary with experiments ids\n",
        "\n",
        "  #identify experiment\n",
        "  this_experiment = experiments[ophys_experiment_id] \n",
        "  \n",
        "  # extract hits\n",
        "  etr_hit = mindscope_utilities.event_triggered_response(\n",
        "    data = neural_data.query('cell_roi_id == @cell_roi_id'),\n",
        "    t = 'timestamps',\n",
        "    y = 'dff',\n",
        "    event_times = this_experiment.trials.query('hit')['change_time'],\n",
        "    t_before=window_width,\n",
        "    t_after=window_width,\n",
        "    output_sampling_rate = 50,\n",
        "  )\n",
        "  # add hit indicator\n",
        "  etr_hit['hit_miss'] = 'hit'\n",
        "\n",
        "  # extract misses\n",
        "  cell_id = cell_specimen_ids[3]\n",
        "  etr_miss = mindscope_utilities.event_triggered_response(\n",
        "    data = neural_data.query('cell_roi_id == @cell_roi_id'),\n",
        "    t = 'timestamps',\n",
        "    y = 'dff',\n",
        "    event_times = this_experiment.trials.query('miss')['change_time'],\n",
        "    t_before=window_width,\n",
        "    t_after=window_width,\n",
        "    output_sampling_rate = 50,\n",
        "  )\n",
        "  # add miss indicator\n",
        "  etr_miss['hit_miss'] = 'miss'\n",
        "\n",
        "  #concatenate\n",
        "  etr = pd.concat([etr_hit, etr_miss])\n",
        "\n",
        "  #add session and cell roi id\n",
        "  etr['ophys_session_id'] = ophys_session_id\n",
        "  etr['ophys_experiment_id'] = ophys_experiment_id  \n",
        "  etr['cell_roi_id'] = cell_roi_id\n",
        "\n",
        "  return etr"
      ],
      "execution_count": 73,
      "outputs": []
    },
    {
      "cell_type": "markdown",
      "metadata": {
        "id": "nu0ZivXfrzXT"
      },
      "source": [
        "### Make a dictionary of experiments in one session"
      ]
    },
    {
      "cell_type": "code",
      "metadata": {
        "id": "zWiK9667ryhq"
      },
      "source": [
        "def session_experiments(ophys_session_id):\n",
        "  experiments = {}\n",
        "  ophys_experiment_ids = session_table.loc[ophys_session_id]['ophys_experiment_id']\n",
        "  for ophys_experiment_id in ophys_experiment_ids:\n",
        "    experiments[ophys_experiment_id] = cache.get_behavior_ophys_experiment(ophys_experiment_id)\n",
        "  return experiments"
      ],
      "execution_count": null,
      "outputs": []
    },
    {
      "cell_type": "markdown",
      "metadata": {
        "id": "1spAdQsKsnNJ"
      },
      "source": [
        "### Make a neural data dataset for one session"
      ]
    },
    {
      "cell_type": "code",
      "metadata": {
        "id": "7nnZxXzVq2yP"
      },
      "source": [
        "def session_load_neural_data(ophys_session_id):\n",
        "  neural_data = []\n",
        "  for ophys_experiment_id in tqdm(experiments.keys()): #tqdm is a package that shows progress bars for items that are iterated over\n",
        "    this_experiment = experiments[ophys_experiment_id]\n",
        "    this_experiment_neural_data = ophys.build_tidy_cell_df(this_experiment)\n",
        "    \n",
        "    # add some columns with metadata for the experiment\n",
        "    metadata_keys = [\n",
        "        'ophys_experiment_id',\n",
        "        'ophys_session_id',\n",
        "        'targeted_structure',\n",
        "        'imaging_depth',\n",
        "        'equipment_name',\n",
        "        'cre_line',\n",
        "        'mouse_id',\n",
        "        'sex',\n",
        "    ]\n",
        "      for metadata_key in metadata_keys:\n",
        "        this_experiment_neural_data[metadata_key] = this_experiment.metadata[metadata_key]\n",
        "        \n",
        "    # append the data for this experiment to a list\n",
        "    neural_data.append(this_experiment_neural_data)\n",
        "    \n",
        "  # concatate the list of dataframes into a single dataframe\n",
        "  neural_data = pd.concat(neural_data)\n",
        "  \n",
        "  return neural data"
      ],
      "execution_count": null,
      "outputs": []
    },
    {
      "cell_type": "markdown",
      "metadata": {
        "id": "cOoVNIqKt9N4"
      },
      "source": [
        "### Make a session dictionary including a list of experiments and a dataframe with neural data"
      ]
    },
    {
      "cell_type": "code",
      "metadata": {
        "id": "Gl6Ciw0duD6m"
      },
      "source": [
        "def session_make_dictionary(ophys_session_id):\n",
        "  session_dictionary = {}\n",
        "  session_dictionary[ophys_session_id] = "
      ],
      "execution_count": null,
      "outputs": []
    }
  ]
}